{
  "nbformat": 4,
  "nbformat_minor": 0,
  "metadata": {
    "colab": {
      "name": "creating model.ipynb",
      "version": "0.3.2",
      "provenance": [],
      "include_colab_link": true
    },
    "kernelspec": {
      "name": "python3",
      "display_name": "Python 3"
    },
    "accelerator": "GPU"
  },
  "cells": [
    {
      "cell_type": "markdown",
      "metadata": {
        "id": "view-in-github",
        "colab_type": "text"
      },
      "source": [
        "<a href=\"https://colab.research.google.com/github/Sharma-Pranav/DeepLearning/blob/master/creating_model.ipynb\" target=\"_parent\"><img src=\"https://colab.research.google.com/assets/colab-badge.svg\" alt=\"Open In Colab\"/></a>"
      ]
    },
    {
      "cell_type": "code",
      "metadata": {
        "id": "4W9Du4GgZHAY",
        "colab_type": "code",
        "colab": {}
      },
      "source": [
        "%matplotlib inline\n",
        "%config InlineBackend.figure_format = 'retina'\n",
        "\n",
        "import numpy as np\n",
        "import torch\n",
        "\n",
        "import helper\n",
        "\n",
        "import matplotlib.pyplot as plt"
      ],
      "execution_count": 0,
      "outputs": []
    },
    {
      "cell_type": "code",
      "metadata": {
        "id": "FlAzWftbZS8h",
        "colab_type": "code",
        "colab": {}
      },
      "source": [
        "from torchvision import datasets, transforms\n",
        "\n",
        "# Define a transform to normalize the data\n",
        "transform = transforms.Compose([transforms.ToTensor(), transforms.Normalize((0.5,), (0.5,)),])\n",
        "\n",
        "# Load Dataset \n",
        "trainset = datasets.MNIST('~/.pytorch/MNIST_data/', download = True, train = True, transform = transform)\n",
        "\n",
        "# Loading data to dataloader\n",
        "trainloader = torch.utils.data.DataLoader(trainset, batch_size=64, shuffle=True)"
      ],
      "execution_count": 0,
      "outputs": []
    },
    {
      "cell_type": "code",
      "metadata": {
        "id": "Rb3wsJ7hfjh0",
        "colab_type": "code",
        "colab": {
          "base_uri": "https://localhost:8080/",
          "height": 68
        },
        "outputId": "b800017d-be35-49dd-e10c-c50f87d0c909"
      },
      "source": [
        "# Turning trainloader into iterator\n",
        "dataiter = iter(trainloader)\n",
        "\n",
        "# Get first batch\n",
        "images, labels = dataiter.next()\n",
        "print(type(images))\n",
        "print(images.shape)\n",
        "print(labels.shape)"
      ],
      "execution_count": 36,
      "outputs": [
        {
          "output_type": "stream",
          "text": [
            "<class 'torch.Tensor'>\n",
            "torch.Size([64, 1, 28, 28])\n",
            "torch.Size([64])\n"
          ],
          "name": "stdout"
        }
      ]
    },
    {
      "cell_type": "code",
      "metadata": {
        "id": "XgsMQ8bSgR6g",
        "colab_type": "code",
        "colab": {
          "base_uri": "https://localhost:8080/",
          "height": 267
        },
        "outputId": "e495df14-e0a6-4c4a-dbf4-196ff431072a"
      },
      "source": [
        "# See one image in this batch\n",
        "plt.imshow(images[2].numpy().squeeze(), cmap='Greys_r');"
      ],
      "execution_count": 37,
      "outputs": [
        {
          "output_type": "display_data",
          "data": {
            "image/png": "[encoded data removed]",
            "text/plain": [
              "<Figure size 432x288 with 1 Axes>"
            ]
          },
          "metadata": {
            "tags": [],
            "image/png": {
              "width": 253,
              "height": 250
            }
          }
        }
      ]
    },
    {
      "cell_type": "code",
      "metadata": {
        "id": "LN9FLYMDgbJY",
        "colab_type": "code",
        "colab": {}
      },
      "source": [
        "def activation(x):\n",
        "  return 1/(1+ torch.exp(-x))"
      ],
      "execution_count": 0,
      "outputs": []
    },
    {
      "cell_type": "code",
      "metadata": {
        "id": "OkJJ9lk-hdk5",
        "colab_type": "code",
        "colab": {}
      },
      "source": [
        "# Flatten input images\n",
        "inputs = images.view(images.shape[0], -1)"
      ],
      "execution_count": 0,
      "outputs": []
    },
    {
      "cell_type": "code",
      "metadata": {
        "id": "hMyDGaAhh-V3",
        "colab_type": "code",
        "colab": {}
      },
      "source": [
        "# Create a custom network\n",
        " \n",
        "w1 = torch.randn(784, 256)\n",
        "b1 = torch.randn(256)\n",
        "\n",
        "w2 = torch.randn(256, 10)\n",
        "b2 = torch.randn(10)\n",
        "\n",
        "h = activation(torch.mm(inputs, w1) + b1)\n",
        "output = torch.mm(h, w2) + b2"
      ],
      "execution_count": 0,
      "outputs": []
    },
    {
      "cell_type": "code",
      "metadata": {
        "id": "yTeDrNsCjD2J",
        "colab_type": "code",
        "colab": {
          "base_uri": "https://localhost:8080/",
          "height": 170
        },
        "outputId": "52424ff3-8ce1-4420-8a7c-a7ab619357cd"
      },
      "source": [
        "def softmax(x):\n",
        "  return torch.exp(x)/torch.sum(torch.exp(x), dim = 1).view(-1, 1)\n",
        "\n",
        "probabilities = softmax(output)\n",
        "\n",
        "# Does it have the right shape? Should be (64, 10)\n",
        "print(probabilities.shape)\n",
        "# Does it sum to 1?\n",
        "print(probabilities.sum(dim=1))"
      ],
      "execution_count": 41,
      "outputs": [
        {
          "output_type": "stream",
          "text": [
            "torch.Size([64, 10])\n",
            "tensor([1.0000, 1.0000, 1.0000, 1.0000, 1.0000, 1.0000, 1.0000, 1.0000, 1.0000,\n",
            "        1.0000, 1.0000, 1.0000, 1.0000, 1.0000, 1.0000, 1.0000, 1.0000, 1.0000,\n",
            "        1.0000, 1.0000, 1.0000, 1.0000, 1.0000, 1.0000, 1.0000, 1.0000, 1.0000,\n",
            "        1.0000, 1.0000, 1.0000, 1.0000, 1.0000, 1.0000, 1.0000, 1.0000, 1.0000,\n",
            "        1.0000, 1.0000, 1.0000, 1.0000, 1.0000, 1.0000, 1.0000, 1.0000, 1.0000,\n",
            "        1.0000, 1.0000, 1.0000, 1.0000, 1.0000, 1.0000, 1.0000, 1.0000, 1.0000,\n",
            "        1.0000, 1.0000, 1.0000, 1.0000, 1.0000, 1.0000, 1.0000, 1.0000, 1.0000,\n",
            "        1.0000])\n"
          ],
          "name": "stdout"
        }
      ]
    },
    {
      "cell_type": "code",
      "metadata": {
        "id": "3elkbti0maym",
        "colab_type": "code",
        "colab": {}
      },
      "source": [
        "# Building Neural Network using nn Module in Pytorch\n",
        "\n",
        "from torch import nn"
      ],
      "execution_count": 0,
      "outputs": []
    },
    {
      "cell_type": "code",
      "metadata": {
        "id": "GrvvSEaDpG6P",
        "colab_type": "code",
        "colab": {}
      },
      "source": [
        "class Network(nn.Module):\n",
        "  def __init__(self):\n",
        "    super().__init__()\n",
        "    \n",
        "    # Inputs to hidden layer transformation\n",
        "    self.hidden = nn.Linear(784, 256)\n",
        "    # Output layer, 10 units - one for each digit\n",
        "    self.output = nn.Linear(256, 10)\n",
        "    \n",
        "    #Sigmoid and Softmax\n",
        "    self.sigmoid = nn.Sigmoid()\n",
        "    self.softmax = nn.Softmax(dim = 1)\n",
        "  def forward(self, x):\n",
        "    # Pass the input tensor through each of our operations\n",
        "    x = self.hidden(x)\n",
        "    x = self.sigmoid(x)\n",
        "    x = self.output(x)\n",
        "    x = self.sofmax(x)\n",
        "    \n",
        "    return x"
      ],
      "execution_count": 0,
      "outputs": []
    },
    {
      "cell_type": "code",
      "metadata": {
        "id": "Jl1vHxbbtTO6",
        "colab_type": "code",
        "colab": {}
      },
      "source": [
        "model = Network()\n"
      ],
      "execution_count": 0,
      "outputs": []
    },
    {
      "cell_type": "code",
      "metadata": {
        "id": "nP407rODtdMw",
        "colab_type": "code",
        "colab": {
          "base_uri": "https://localhost:8080/",
          "height": 119
        },
        "outputId": "9134eb1a-44a7-422e-dc6a-9e4a69f4b57f"
      },
      "source": [
        "model"
      ],
      "execution_count": 45,
      "outputs": [
        {
          "output_type": "execute_result",
          "data": {
            "text/plain": [
              "Network(\n",
              "  (hidden): Linear(in_features=784, out_features=256, bias=True)\n",
              "  (output): Linear(in_features=256, out_features=10, bias=True)\n",
              "  (sigmoid): Sigmoid()\n",
              "  (softmax): Softmax()\n",
              ")"
            ]
          },
          "metadata": {
            "tags": []
          },
          "execution_count": 45
        }
      ]
    },
    {
      "cell_type": "code",
      "metadata": {
        "id": "LwhXIzKXtmBi",
        "colab_type": "code",
        "colab": {}
      },
      "source": [
        "import torch.nn.functional as F\n",
        "\n",
        "class Network(nn.Module):\n",
        "  def __init__(self):\n",
        "    super().__init__()\n",
        "    # Inputs to hidden layer linear transformation\n",
        "    self.hidden = nn.Linear(784, 256)\n",
        "    # Output layer, 10 units - one for each digit\n",
        "    self.output = nn.Linear(256, 10)\n",
        "    \n",
        "  def forward(self,x):\n",
        "    # Hidden layer with sigmoid activation\n",
        "    x = F.sigmoid(self.hidden(x))\n",
        "    # Output layer with softmax activation\n",
        "    x = F.softmax(self.output(x), dim=1)\n",
        "\n",
        "    return x"
      ],
      "execution_count": 0,
      "outputs": []
    },
    {
      "cell_type": "code",
      "metadata": {
        "id": "nIyqXDP0ukPj",
        "colab_type": "code",
        "colab": {
          "base_uri": "https://localhost:8080/",
          "height": 85
        },
        "outputId": "0e5972dd-fc78-4419-a054-21d16304b5e7"
      },
      "source": [
        "model = Network()\n",
        "model"
      ],
      "execution_count": 47,
      "outputs": [
        {
          "output_type": "execute_result",
          "data": {
            "text/plain": [
              "Network(\n",
              "  (hidden): Linear(in_features=784, out_features=256, bias=True)\n",
              "  (output): Linear(in_features=256, out_features=10, bias=True)\n",
              ")"
            ]
          },
          "metadata": {
            "tags": []
          },
          "execution_count": 47
        }
      ]
    },
    {
      "cell_type": "code",
      "metadata": {
        "id": "lgyXfiVGupor",
        "colab_type": "code",
        "colab": {
          "base_uri": "https://localhost:8080/",
          "height": 102
        },
        "outputId": "7732a08b-66ed-41e9-c01c-d4baf7fa8f1b"
      },
      "source": [
        "class Network(nn.Module):\n",
        "  def __init__(self):\n",
        "    super().__init__()\n",
        "    self.fc1 = nn.Linear(784, 128)\n",
        "    self.fc2 = nn.Linear(128, 64)\n",
        "    self.fc3 = nn.Linear(64, 10)\n",
        "  \n",
        "  def forward(self, x):\n",
        "    x = self.fc1(x)\n",
        "    x = F.relu(x)\n",
        "    x = self.fc2(x)\n",
        "    x = F.relu(x)\n",
        "    x = F.softmax(x, dim = 1)\n",
        "    \n",
        "    return x\n",
        "  \n",
        "model = Network()\n",
        "\n",
        "model\n"
      ],
      "execution_count": 48,
      "outputs": [
        {
          "output_type": "execute_result",
          "data": {
            "text/plain": [
              "Network(\n",
              "  (fc1): Linear(in_features=784, out_features=128, bias=True)\n",
              "  (fc2): Linear(in_features=128, out_features=64, bias=True)\n",
              "  (fc3): Linear(in_features=64, out_features=10, bias=True)\n",
              ")"
            ]
          },
          "metadata": {
            "tags": []
          },
          "execution_count": 48
        }
      ]
    },
    {
      "cell_type": "code",
      "metadata": {
        "id": "V4EAqcT4xj-z",
        "colab_type": "code",
        "colab": {
          "base_uri": "https://localhost:8080/",
          "height": 629
        },
        "outputId": "7d9b58ae-a767-46cc-b528-4e006a8a0533"
      },
      "source": [
        "print(model.fc1.weight)\n",
        "print(model.fc1.bias)"
      ],
      "execution_count": 49,
      "outputs": [
        {
          "output_type": "stream",
          "text": [
            "Parameter containing:\n",
            "tensor([[ 0.0181, -0.0050,  0.0155,  ..., -0.0041, -0.0257,  0.0163],\n",
            "        [-0.0149,  0.0083, -0.0118,  ..., -0.0301,  0.0218,  0.0109],\n",
            "        [ 0.0238, -0.0231, -0.0220,  ..., -0.0138,  0.0205, -0.0038],\n",
            "        ...,\n",
            "        [-0.0268,  0.0086,  0.0039,  ...,  0.0079, -0.0235,  0.0177],\n",
            "        [ 0.0314,  0.0083, -0.0233,  ...,  0.0248,  0.0160, -0.0256],\n",
            "        [ 0.0260,  0.0202,  0.0107,  ...,  0.0302, -0.0148, -0.0008]],\n",
            "       requires_grad=True)\n",
            "Parameter containing:\n",
            "tensor([ 4.2308e-03, -5.1769e-03,  2.2795e-03,  2.0525e-02,  2.7375e-02,\n",
            "         7.4834e-03,  2.7314e-03,  2.4009e-02, -3.1007e-02,  2.5556e-02,\n",
            "         6.9962e-03, -1.0515e-02, -2.1656e-02, -3.5069e-02, -3.3269e-03,\n",
            "         2.6307e-02, -2.1659e-02, -1.6634e-02, -2.0207e-03,  1.3315e-02,\n",
            "        -2.2613e-02,  2.2102e-02,  1.8963e-02, -3.3425e-02,  2.8457e-02,\n",
            "        -2.4785e-03,  6.0197e-03,  1.7807e-02, -3.8333e-05,  8.9894e-03,\n",
            "         3.4642e-02, -1.2069e-02, -3.4407e-02,  1.1491e-02,  2.9185e-02,\n",
            "        -2.0306e-02,  1.2169e-02, -3.3165e-02, -3.2633e-03,  2.5481e-02,\n",
            "         1.0443e-02, -3.9872e-03, -3.4134e-02,  5.2707e-03, -2.2428e-02,\n",
            "        -1.9788e-02, -1.7065e-02, -7.5515e-03, -1.2660e-02, -3.3476e-04,\n",
            "        -1.6471e-02,  1.9553e-02, -3.0723e-02,  1.1240e-02, -1.6922e-02,\n",
            "         2.9179e-02, -2.0314e-02,  1.0688e-02,  1.3849e-02, -1.6560e-02,\n",
            "         3.0018e-02,  9.6746e-03, -2.5161e-02, -1.4200e-02, -7.4499e-03,\n",
            "         2.8141e-02, -1.9174e-02, -2.0789e-02, -2.2118e-02, -1.6753e-02,\n",
            "        -2.2037e-02, -3.3949e-03, -1.9354e-02,  3.3804e-03,  3.3214e-02,\n",
            "        -1.0262e-02,  2.5358e-02, -1.8633e-02, -3.5607e-02,  2.5649e-02,\n",
            "        -3.0890e-02,  8.5863e-03, -2.2686e-02,  3.3855e-02,  8.0135e-03,\n",
            "         2.7864e-02, -6.1461e-03, -1.7121e-02,  1.4435e-02,  3.1621e-02,\n",
            "        -7.5715e-04, -2.0258e-02,  2.0594e-02, -7.2227e-03,  1.5406e-02,\n",
            "         1.7008e-02,  6.1556e-03,  1.1498e-02, -1.6081e-02,  2.7137e-02,\n",
            "        -2.0896e-03,  8.8536e-04, -1.8065e-02, -8.9234e-03, -3.0525e-03,\n",
            "         2.5825e-02, -1.0208e-02,  2.3664e-02,  1.4756e-02, -2.8017e-02,\n",
            "        -3.4709e-03, -2.5858e-02, -2.5806e-02,  2.4385e-02,  4.3228e-03,\n",
            "         3.5601e-02,  8.0225e-03,  1.2117e-02, -3.2734e-03,  4.7804e-03,\n",
            "        -3.8016e-04,  1.5681e-02,  3.0374e-02,  1.7403e-02, -3.2319e-02,\n",
            "        -1.6615e-02,  1.4482e-02,  2.7829e-02], requires_grad=True)\n"
          ],
          "name": "stdout"
        }
      ]
    },
    {
      "cell_type": "code",
      "metadata": {
        "id": "vUkHPbAcyFTy",
        "colab_type": "code",
        "colab": {
          "base_uri": "https://localhost:8080/",
          "height": 119
        },
        "outputId": "acea550d-9a68-4558-a897-a4e0d7094d97"
      },
      "source": [
        "# Initialissing weights in layers\n",
        "# Set biases to all zeros\n",
        "model.fc1.bias.data.fill_(0)"
      ],
      "execution_count": 50,
      "outputs": [
        {
          "output_type": "execute_result",
          "data": {
            "text/plain": [
              "tensor([0., 0., 0., 0., 0., 0., 0., 0., 0., 0., 0., 0., 0., 0., 0., 0., 0., 0., 0., 0., 0., 0., 0., 0.,\n",
              "        0., 0., 0., 0., 0., 0., 0., 0., 0., 0., 0., 0., 0., 0., 0., 0., 0., 0., 0., 0., 0., 0., 0., 0.,\n",
              "        0., 0., 0., 0., 0., 0., 0., 0., 0., 0., 0., 0., 0., 0., 0., 0., 0., 0., 0., 0., 0., 0., 0., 0.,\n",
              "        0., 0., 0., 0., 0., 0., 0., 0., 0., 0., 0., 0., 0., 0., 0., 0., 0., 0., 0., 0., 0., 0., 0., 0.,\n",
              "        0., 0., 0., 0., 0., 0., 0., 0., 0., 0., 0., 0., 0., 0., 0., 0., 0., 0., 0., 0., 0., 0., 0., 0.,\n",
              "        0., 0., 0., 0., 0., 0., 0., 0.])"
            ]
          },
          "metadata": {
            "tags": []
          },
          "execution_count": 50
        }
      ]
    },
    {
      "cell_type": "code",
      "metadata": {
        "id": "WL9iWLHZyToO",
        "colab_type": "code",
        "colab": {
          "base_uri": "https://localhost:8080/",
          "height": 238
        },
        "outputId": "cdcd7975-509a-42ea-92a6-94b48006a864"
      },
      "source": [
        "# sample from random normal with standard dev = 0.01\n",
        "model.fc1.weight.data.normal_(std=0.01)"
      ],
      "execution_count": 51,
      "outputs": [
        {
          "output_type": "execute_result",
          "data": {
            "text/plain": [
              "tensor([[ 1.7232e-02, -2.9995e-03,  1.2821e-02,  ...,  1.5167e-03,\n",
              "          4.2092e-03, -1.2208e-02],\n",
              "        [ 8.3633e-03,  3.3282e-03, -1.3362e-02,  ...,  9.5080e-03,\n",
              "          2.4120e-03,  1.0323e-02],\n",
              "        [-4.1456e-03, -1.9915e-02, -5.8720e-03,  ...,  4.7128e-03,\n",
              "          3.0893e-03, -2.8556e-03],\n",
              "        ...,\n",
              "        [-1.3949e-02,  1.3230e-02,  1.7619e-03,  ...,  5.8643e-03,\n",
              "          1.2524e-03, -3.7149e-03],\n",
              "        [-1.1159e-02, -1.0131e-02,  5.6017e-03,  ...,  7.2269e-03,\n",
              "         -1.2406e-02,  6.2714e-03],\n",
              "        [-1.0025e-02,  2.9062e-02, -1.3480e-02,  ...,  1.4953e-02,\n",
              "          6.1540e-05, -2.1731e-02]])"
            ]
          },
          "metadata": {
            "tags": []
          },
          "execution_count": 51
        }
      ]
    },
    {
      "cell_type": "code",
      "metadata": {
        "id": "L1BXxOnFyaiM",
        "colab_type": "code",
        "colab": {}
      },
      "source": [
        "# Grab data from iterator\n",
        "dataiter = iter(trainloader)\n",
        "images, labels = dataiter.next()\n",
        "\n",
        "# Resize images into a 1D vector, new shape is (batch size, color channels, image pixels) \n",
        "images.resize_(64, 1, 784)\n",
        "\n",
        "# # Forward pass through the network\n",
        "img_idx = 0\n",
        "ps = model.forward(images[img_idx, :])\n"
      ],
      "execution_count": 0,
      "outputs": []
    },
    {
      "cell_type": "code",
      "metadata": {
        "id": "yBMIviRUzypU",
        "colab_type": "code",
        "colab": {
          "base_uri": "https://localhost:8080/",
          "height": 153
        },
        "outputId": "9edcd4ae-5137-41c9-c40a-2efcb5b75ee6"
      },
      "source": [
        "ps"
      ],
      "execution_count": 53,
      "outputs": [
        {
          "output_type": "execute_result",
          "data": {
            "text/plain": [
              "tensor([[0.0150, 0.0147, 0.0147, 0.0147, 0.0153, 0.0197, 0.0147, 0.0147, 0.0147,\n",
              "         0.0147, 0.0173, 0.0147, 0.0147, 0.0182, 0.0150, 0.0147, 0.0185, 0.0152,\n",
              "         0.0153, 0.0174, 0.0147, 0.0150, 0.0147, 0.0147, 0.0147, 0.0181, 0.0147,\n",
              "         0.0168, 0.0151, 0.0147, 0.0147, 0.0148, 0.0147, 0.0149, 0.0181, 0.0179,\n",
              "         0.0147, 0.0153, 0.0165, 0.0147, 0.0160, 0.0190, 0.0167, 0.0162, 0.0155,\n",
              "         0.0147, 0.0196, 0.0147, 0.0159, 0.0155, 0.0159, 0.0152, 0.0148, 0.0147,\n",
              "         0.0147, 0.0147, 0.0166, 0.0147, 0.0147, 0.0168, 0.0147, 0.0149, 0.0147,\n",
              "         0.0148]], grad_fn=<SoftmaxBackward>)"
            ]
          },
          "metadata": {
            "tags": []
          },
          "execution_count": 53
        }
      ]
    },
    {
      "cell_type": "code",
      "metadata": {
        "id": "lVSFgmYfzzVd",
        "colab_type": "code",
        "colab": {
          "base_uri": "https://localhost:8080/",
          "height": 34
        },
        "outputId": "f4194108-5869-421f-f664-286d8256c200"
      },
      "source": [
        "ps.shape"
      ],
      "execution_count": 54,
      "outputs": [
        {
          "output_type": "execute_result",
          "data": {
            "text/plain": [
              "torch.Size([1, 64])"
            ]
          },
          "metadata": {
            "tags": []
          },
          "execution_count": 54
        }
      ]
    },
    {
      "cell_type": "code",
      "metadata": {
        "id": "ELI4pMHz0HDy",
        "colab_type": "code",
        "colab": {
          "base_uri": "https://localhost:8080/",
          "height": 153
        },
        "outputId": "f2081ff2-9b82-460c-8068-2388a9e1c629"
      },
      "source": [
        "# Hyperparameters for our network\n",
        "input_size = 784\n",
        "hidden_sizes = [128, 64]\n",
        "output_size = 10\n",
        "\n",
        "# Build a feed-forward network\n",
        "model = nn.Sequential(nn.Linear(input_size, hidden_sizes[0]),\n",
        "                      nn.ReLU(),\n",
        "                      nn.Linear(hidden_sizes[0], hidden_sizes[1]),\n",
        "                      nn.ReLU(),\n",
        "                      nn.Linear(hidden_sizes[1], output_size),\n",
        "                      nn.Softmax(dim=1))\n",
        "print(model)\n",
        "\n",
        "# Forward pass through the network and display output\n",
        "images, labels = next(iter(trainloader))\n",
        "images.resize_(images.shape[0], 1, 784)\n",
        "ps = model.forward(images[0,:])"
      ],
      "execution_count": 57,
      "outputs": [
        {
          "output_type": "stream",
          "text": [
            "Sequential(\n",
            "  (0): Linear(in_features=784, out_features=128, bias=True)\n",
            "  (1): ReLU()\n",
            "  (2): Linear(in_features=128, out_features=64, bias=True)\n",
            "  (3): ReLU()\n",
            "  (4): Linear(in_features=64, out_features=10, bias=True)\n",
            "  (5): Softmax()\n",
            ")\n"
          ],
          "name": "stdout"
        }
      ]
    },
    {
      "cell_type": "code",
      "metadata": {
        "id": "0BbWCkJ80WCB",
        "colab_type": "code",
        "colab": {
          "base_uri": "https://localhost:8080/",
          "height": 153
        },
        "outputId": "7ae145c5-f14e-42c7-ff5f-741731ad465c"
      },
      "source": [
        "\n",
        "from collections import OrderedDict\n",
        "model = nn.Sequential(OrderedDict([\n",
        "                      ('fc1', nn.Linear(input_size, hidden_sizes[0])),\n",
        "                      ('relu1', nn.ReLU()),\n",
        "                      ('fc2', nn.Linear(hidden_sizes[0], hidden_sizes[1])),\n",
        "                      ('relu2', nn.ReLU()),\n",
        "                      ('output', nn.Linear(hidden_sizes[1], output_size)),\n",
        "                      ('softmax', nn.Softmax(dim=1))]))\n",
        "model"
      ],
      "execution_count": 58,
      "outputs": [
        {
          "output_type": "execute_result",
          "data": {
            "text/plain": [
              "Sequential(\n",
              "  (fc1): Linear(in_features=784, out_features=128, bias=True)\n",
              "  (relu1): ReLU()\n",
              "  (fc2): Linear(in_features=128, out_features=64, bias=True)\n",
              "  (relu2): ReLU()\n",
              "  (output): Linear(in_features=64, out_features=10, bias=True)\n",
              "  (softmax): Softmax()\n",
              ")"
            ]
          },
          "metadata": {
            "tags": []
          },
          "execution_count": 58
        }
      ]
    },
    {
      "cell_type": "code",
      "metadata": {
        "id": "fhn7c1LG1WPe",
        "colab_type": "code",
        "colab": {}
      },
      "source": [
        ""
      ],
      "execution_count": 0,
      "outputs": []
    }
  ]
}