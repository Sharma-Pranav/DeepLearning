{
  "nbformat": 4,
  "nbformat_minor": 0,
  "metadata": {
    "colab": {
      "name": "Functional_API.ipynb",
      "version": "0.3.2",
      "provenance": [],
      "collapsed_sections": [],
      "include_colab_link": true
    },
    "kernelspec": {
      "name": "python3",
      "display_name": "Python 3"
    }
  },
  "cells": [
    {
      "cell_type": "markdown",
      "metadata": {
        "id": "view-in-github",
        "colab_type": "text"
      },
      "source": [
        "<a href=\"https://colab.research.google.com/github/Sharma-Pranav/DeepLearning/blob/master/Functional_API.ipynb\" target=\"_parent\"><img src=\"https://colab.research.google.com/assets/colab-badge.svg\" alt=\"Open In Colab\"/></a>"
      ]
    },
    {
      "metadata": {
        "id": "rzcSbzIqlyOx",
        "colab_type": "code",
        "colab": {
          "base_uri": "https://localhost:8080/",
          "height": 34
        },
        "outputId": "17148721-b0f6-44cb-bb38-355e3cef9903"
      },
      "cell_type": "code",
      "source": [
        "from IPython.display import SVG\n",
        "from sklearn.datasets import load_digits\n",
        "from keras.utils.vis_utils import model_to_dot\n",
        "from keras.models import Sequential, Model\n",
        "from keras.layers import *"
      ],
      "execution_count": 1,
      "outputs": [
        {
          "output_type": "stream",
          "text": [
            "Using TensorFlow backend.\n"
          ],
          "name": "stderr"
        }
      ]
    },
    {
      "metadata": {
        "id": "TBzGbuuKpBla",
        "colab_type": "code",
        "colab": {}
      },
      "cell_type": "code",
      "source": [
        "\n",
        "data = load_digits()"
      ],
      "execution_count": 0,
      "outputs": []
    },
    {
      "metadata": {
        "id": "s_KguXVepCD7",
        "colab_type": "code",
        "colab": {}
      },
      "cell_type": "code",
      "source": [
        "X_data = data.images\n",
        "y_data = data.target"
      ],
      "execution_count": 0,
      "outputs": []
    },
    {
      "metadata": {
        "id": "-J5ryPldpEao",
        "colab_type": "code",
        "colab": {}
      },
      "cell_type": "code",
      "source": [
        "X_data = X_data.reshape(X_data.shape[0], X_data.shape[1]*X_data.shape[2])"
      ],
      "execution_count": 0,
      "outputs": []
    },
    {
      "metadata": {
        "id": "xQ7wxooZpGby",
        "colab_type": "code",
        "colab": {
          "base_uri": "https://localhost:8080/",
          "height": 51
        },
        "outputId": "f8a097ce-7d4a-4d17-b5f1-bcae61f3efe0"
      },
      "cell_type": "code",
      "source": [
        "print(X_data.shape)\n",
        "print(y_data.shape)"
      ],
      "execution_count": 5,
      "outputs": [
        {
          "output_type": "stream",
          "text": [
            "(1797, 64)\n",
            "(1797,)\n"
          ],
          "name": "stdout"
        }
      ]
    },
    {
      "metadata": {
        "id": "lf_BX0mzpKSK",
        "colab_type": "code",
        "colab": {
          "base_uri": "https://localhost:8080/",
          "height": 34
        },
        "outputId": "51c3bdae-966f-48cc-eb1d-6b4ab6a4ea22"
      },
      "cell_type": "code",
      "source": [
        "print(X_data.shape[1:])"
      ],
      "execution_count": 7,
      "outputs": [
        {
          "output_type": "stream",
          "text": [
            "(64,)\n"
          ],
          "name": "stdout"
        }
      ]
    },
    {
      "metadata": {
        "id": "8Fqo6QMBpTSR",
        "colab_type": "code",
        "colab": {
          "base_uri": "https://localhost:8080/",
          "height": 88
        },
        "outputId": "6b690e41-aa44-4701-ee66-ab86e077d785"
      },
      "cell_type": "code",
      "source": [
        "#Functional API Definition Simple\n",
        "#Creation of layers\n",
        "input_layer = Input(shape = X_data.shape[1:])\n",
        "activation_1 = Activation('relu')(input_layer)\n",
        "dense_layer_1 = Dense(100)(activation_1)\n",
        "activation_2 = Activation('relu')(dense_layer_1)\n",
        "output_layer = Dense(10, activation = 'softmax')(activation_2)"
      ],
      "execution_count": 8,
      "outputs": [
        {
          "output_type": "stream",
          "text": [
            "WARNING:tensorflow:From /usr/local/lib/python3.6/dist-packages/tensorflow/python/framework/op_def_library.py:263: colocate_with (from tensorflow.python.framework.ops) is deprecated and will be removed in a future version.\n",
            "Instructions for updating:\n",
            "Colocations handled automatically by placer.\n"
          ],
          "name": "stdout"
        }
      ]
    },
    {
      "metadata": {
        "id": "wsupl0h1qwlo",
        "colab_type": "code",
        "colab": {}
      },
      "cell_type": "code",
      "source": [
        "model = Model(inputs = input_layer, outputs = output_layer)"
      ],
      "execution_count": 0,
      "outputs": []
    },
    {
      "metadata": {
        "id": "jeCtcpt5sQym",
        "colab_type": "code",
        "colab": {
          "base_uri": "https://localhost:8080/",
          "height": 306
        },
        "outputId": "78693f96-eb45-496b-c813-aabdc22009ff"
      },
      "cell_type": "code",
      "source": [
        "model.summary()"
      ],
      "execution_count": 11,
      "outputs": [
        {
          "output_type": "stream",
          "text": [
            "_________________________________________________________________\n",
            "Layer (type)                 Output Shape              Param #   \n",
            "=================================================================\n",
            "input_1 (InputLayer)         (None, 64)                0         \n",
            "_________________________________________________________________\n",
            "activation_1 (Activation)    (None, 64)                0         \n",
            "_________________________________________________________________\n",
            "dense_1 (Dense)              (None, 100)               6500      \n",
            "_________________________________________________________________\n",
            "activation_2 (Activation)    (None, 100)               0         \n",
            "_________________________________________________________________\n",
            "dense_2 (Dense)              (None, 10)                1010      \n",
            "=================================================================\n",
            "Total params: 7,510\n",
            "Trainable params: 7,510\n",
            "Non-trainable params: 0\n",
            "_________________________________________________________________\n"
          ],
          "name": "stdout"
        }
      ]
    },
    {
      "metadata": {
        "id": "hBTajPAesTaX",
        "colab_type": "code",
        "colab": {
          "base_uri": "https://localhost:8080/",
          "height": 68
        },
        "outputId": "bb87623c-6237-47fd-8acd-1df492804f89"
      },
      "cell_type": "code",
      "source": [
        "# Merging Layers\n",
        "input_layer = Input(shape = X_data.shape[1:])\n",
        "activation_1 = Activation('relu')(input_layer)\n",
        "hidden_layer_1 = Dense(100)(activation_1)\n",
        "hidden_layer_2 = Dense(50)(activation_1)\n",
        "\n",
        "merged = concatenate([hidden_layer_1, hidden_layer_2])\n",
        "\n",
        "print(hidden_layer_1.shape)\n",
        "print(hidden_layer_2.shape)\n",
        "print(merged.shape)"
      ],
      "execution_count": 13,
      "outputs": [
        {
          "output_type": "stream",
          "text": [
            "(?, 100)\n",
            "(?, 50)\n",
            "(?, 150)\n"
          ],
          "name": "stdout"
        }
      ]
    },
    {
      "metadata": {
        "id": "EQUyw3IwtCrD",
        "colab_type": "code",
        "colab": {
          "base_uri": "https://localhost:8080/",
          "height": 68
        },
        "outputId": "2cd8a686-1e4d-4b59-a85b-4a95ef11b17a"
      },
      "cell_type": "code",
      "source": [
        "# Elementwise addition of layers\n",
        "input_layer = Input(shape = X_data.shape[1:])\n",
        "activation_1 = Activation('relu')(input_layer)\n",
        "hidden_layer_1 = Dense(50, activation = 'relu')(activation_1)\n",
        "hidden_layer_2 = Dense(50, activation = 'relu')(activation_1)\n",
        "add_layer = add([hidden_layer_1, hidden_layer_2])\n",
        "print(hidden_layer_1.shape)\n",
        "print(hidden_layer_2.shape)\n",
        "print(add_layer.shape)"
      ],
      "execution_count": 14,
      "outputs": [
        {
          "output_type": "stream",
          "text": [
            "(?, 50)\n",
            "(?, 50)\n",
            "(?, 50)\n"
          ],
          "name": "stdout"
        }
      ]
    },
    {
      "metadata": {
        "id": "EYpb19Pytnxn",
        "colab_type": "code",
        "colab": {
          "base_uri": "https://localhost:8080/",
          "height": 68
        },
        "outputId": "51ce5984-40f5-4842-8f23-07ac1fe9b2ae"
      },
      "cell_type": "code",
      "source": [
        "# Elementwise subtract of layers\n",
        "input_layer = Input(shape = X_data.shape[1:])\n",
        "activation_1 = Activation('relu')(input_layer)\n",
        "hidden_layer_1 = Dense(50, activation = 'relu')(activation_1)\n",
        "hidden_layer_2 = Dense(50, activation = 'relu')(activation_1)\n",
        "add_layer = subtract([hidden_layer_1, hidden_layer_2])\n",
        "print(hidden_layer_1.shape)\n",
        "print(hidden_layer_2.shape)\n",
        "print(add_layer.shape)"
      ],
      "execution_count": 15,
      "outputs": [
        {
          "output_type": "stream",
          "text": [
            "(?, 50)\n",
            "(?, 50)\n",
            "(?, 50)\n"
          ],
          "name": "stdout"
        }
      ]
    },
    {
      "metadata": {
        "id": "RLuKmxX7tuOg",
        "colab_type": "code",
        "colab": {
          "base_uri": "https://localhost:8080/",
          "height": 68
        },
        "outputId": "8c27cb55-403c-4125-9429-f8e59b6c2c8f"
      },
      "cell_type": "code",
      "source": [
        "# Elementwise average of layers\n",
        "input_layer = Input(shape = X_data.shape[1:])\n",
        "activation_1 = Activation('relu')(input_layer)\n",
        "hidden_layer_1 = Dense(50, activation = 'relu')(activation_1)\n",
        "hidden_layer_2 = Dense(50, activation = 'relu')(activation_1)\n",
        "add_layer = average([hidden_layer_1, hidden_layer_2])\n",
        "print(hidden_layer_1.shape)\n",
        "print(hidden_layer_2.shape)\n",
        "print(add_layer.shape)"
      ],
      "execution_count": 16,
      "outputs": [
        {
          "output_type": "stream",
          "text": [
            "(?, 50)\n",
            "(?, 50)\n",
            "(?, 50)\n"
          ],
          "name": "stdout"
        }
      ]
    },
    {
      "metadata": {
        "id": "EK__TpzYtyKt",
        "colab_type": "code",
        "colab": {
          "base_uri": "https://localhost:8080/",
          "height": 68
        },
        "outputId": "f8576b37-7b48-42f7-b213-c9f2372bd35b"
      },
      "cell_type": "code",
      "source": [
        "# Elementwise max operation on layers\n",
        "input_layer = Input(shape = X_data.shape[1:])\n",
        "activation_1 = Activation('relu')(input_layer)\n",
        "hidden_layer_1 = Dense(50, activation = 'relu')(activation_1)\n",
        "hidden_layer_2 = Dense(50, activation = 'relu')(activation_1)\n",
        "add_layer = maximum([hidden_layer_1, hidden_layer_2])\n",
        "print(hidden_layer_1.shape)\n",
        "print(hidden_layer_2.shape)\n",
        "print(add_layer.shape)"
      ],
      "execution_count": 17,
      "outputs": [
        {
          "output_type": "stream",
          "text": [
            "(?, 50)\n",
            "(?, 50)\n",
            "(?, 50)\n"
          ],
          "name": "stdout"
        }
      ]
    },
    {
      "metadata": {
        "id": "pTfE_SY8t7M_",
        "colab_type": "code",
        "colab": {
          "base_uri": "https://localhost:8080/",
          "height": 68
        },
        "outputId": "824b8dbb-c678-4674-ab85-dfad669dc997"
      },
      "cell_type": "code",
      "source": [
        "# dot() operations performs inner product operation between two layer results\n",
        "# 'axes' should be defined to perform the operation\n",
        "# creating layers\n",
        "input_layer = Input(shape = X_data.shape[1:])\n",
        "activation_1 = Activation('relu')(input_layer)\n",
        "hidden_layer_1 = Dense(50, activation = 'relu')(activation_1)\n",
        "hidden_layer_2 = Dense(50, activation = 'relu')(activation_1)\n",
        "dot_layer = dot([hidden_layer_1, hidden_layer_2], axes = -1)\n",
        "print(hidden_layer_1.shape)\n",
        "print(hidden_layer_2.shape)\n",
        "print(dot_layer.shape)"
      ],
      "execution_count": 19,
      "outputs": [
        {
          "output_type": "stream",
          "text": [
            "(?, 50)\n",
            "(?, 50)\n",
            "(?, 1)\n"
          ],
          "name": "stdout"
        }
      ]
    },
    {
      "metadata": {
        "id": "uQc03hBIuFuk",
        "colab_type": "code",
        "colab": {}
      },
      "cell_type": "code",
      "source": [
        ""
      ],
      "execution_count": 0,
      "outputs": []
    }
  ]
}