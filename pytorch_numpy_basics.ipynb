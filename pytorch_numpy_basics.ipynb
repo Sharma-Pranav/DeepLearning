{
  "nbformat": 4,
  "nbformat_minor": 0,
  "metadata": {
    "colab": {
      "name": "pytorch_numpy_basics.ipynb",
      "version": "0.3.2",
      "provenance": [],
      "include_colab_link": true
    },
    "kernelspec": {
      "name": "python3",
      "display_name": "Python 3"
    },
    "accelerator": "GPU"
  },
  "cells": [
    {
      "cell_type": "markdown",
      "metadata": {
        "id": "view-in-github",
        "colab_type": "text"
      },
      "source": [
        "<a href=\"https://colab.research.google.com/github/Sharma-Pranav/DeepLearning/blob/master/pytorch_numpy_basics.ipynb\" target=\"_parent\"><img src=\"https://colab.research.google.com/assets/colab-badge.svg\" alt=\"Open In Colab\"/></a>"
      ]
    },
    {
      "cell_type": "code",
      "metadata": {
        "id": "ZG0ZgJIYfSzJ",
        "colab_type": "code",
        "colab": {}
      },
      "source": [
        "import torch"
      ],
      "execution_count": 0,
      "outputs": []
    },
    {
      "cell_type": "code",
      "metadata": {
        "id": "CGJAPTiIg-SD",
        "colab_type": "code",
        "colab": {}
      },
      "source": [
        "def activation(x):\n",
        "  return 1/(1 + torch.exp(-x))"
      ],
      "execution_count": 0,
      "outputs": []
    },
    {
      "cell_type": "code",
      "metadata": {
        "id": "Ve9KbDpChLIF",
        "colab_type": "code",
        "colab": {}
      },
      "source": [
        "torch.manual_seed(7) # random number seed\n",
        "\n",
        "#Features are random normal variables\n",
        "features = torch.randn((1,5))\n",
        "\n",
        "# Weights for data\n",
        "weights = torch.randn_like(features)\n",
        "\n",
        "# Bias\n",
        "bias = torch.randn((1,1))"
      ],
      "execution_count": 0,
      "outputs": []
    },
    {
      "cell_type": "code",
      "metadata": {
        "id": "jKbTRqQpigqD",
        "colab_type": "code",
        "colab": {}
      },
      "source": [
        "y = activation(torch.sum(features * weights) + bias)\n",
        "y_ = activation((features*weights).sum() + bias)"
      ],
      "execution_count": 0,
      "outputs": []
    },
    {
      "cell_type": "code",
      "metadata": {
        "id": "bY2SwkJIj30p",
        "colab_type": "code",
        "colab": {
          "base_uri": "https://localhost:8080/",
          "height": 34
        },
        "outputId": "5e117236-6ae7-4a27-a0d7-ef87ae546519"
      },
      "source": [
        "y"
      ],
      "execution_count": 5,
      "outputs": [
        {
          "output_type": "execute_result",
          "data": {
            "text/plain": [
              "tensor([[0.1595]])"
            ]
          },
          "metadata": {
            "tags": []
          },
          "execution_count": 5
        }
      ]
    },
    {
      "cell_type": "code",
      "metadata": {
        "id": "lbO2dJ8Gj6--",
        "colab_type": "code",
        "colab": {
          "base_uri": "https://localhost:8080/",
          "height": 34
        },
        "outputId": "6606e6ca-1d1f-4368-b9b6-8a5fc063fbc6"
      },
      "source": [
        "y_"
      ],
      "execution_count": 6,
      "outputs": [
        {
          "output_type": "execute_result",
          "data": {
            "text/plain": [
              "tensor([[0.1595]])"
            ]
          },
          "metadata": {
            "tags": []
          },
          "execution_count": 6
        }
      ]
    },
    {
      "cell_type": "code",
      "metadata": {
        "id": "G5QqUzNzj8lg",
        "colab_type": "code",
        "colab": {}
      },
      "source": [
        "# This is well and good but we need fast execution (vectorisation like numpy) or matrix operations.\n",
        "#weights.view(a, b) will return a new tensor with the same data as weights with size (a, b).\n",
        "y = activation(torch.mm(features, weights.view(5,1)) + bias)"
      ],
      "execution_count": 0,
      "outputs": []
    },
    {
      "cell_type": "code",
      "metadata": {
        "id": "Gq3p_82Qmhgy",
        "colab_type": "code",
        "colab": {
          "base_uri": "https://localhost:8080/",
          "height": 34
        },
        "outputId": "1980b3d3-e038-417b-d431-b91fc6882703"
      },
      "source": [
        "y"
      ],
      "execution_count": 8,
      "outputs": [
        {
          "output_type": "execute_result",
          "data": {
            "text/plain": [
              "tensor([[0.1595]])"
            ]
          },
          "metadata": {
            "tags": []
          },
          "execution_count": 8
        }
      ]
    },
    {
      "cell_type": "code",
      "metadata": {
        "id": "GZ7I-m65miOY",
        "colab_type": "code",
        "colab": {}
      },
      "source": [
        "features = torch.randn((1,3))\n",
        "n_input = features.shape[1]\n",
        "n_hidden = 2\n",
        "n_output = 1\n",
        "w1 = torch.randn(n_input, n_hidden)\n",
        "w2 = torch.randn(n_hidden, n_output)\n",
        "\n",
        "b1 = torch.randn((1, n_hidden))\n",
        "b2 = torch.rand((1, n_output))\n"
      ],
      "execution_count": 0,
      "outputs": []
    },
    {
      "cell_type": "code",
      "metadata": {
        "id": "PNTHQQInpNnN",
        "colab_type": "code",
        "colab": {
          "base_uri": "https://localhost:8080/",
          "height": 34
        },
        "outputId": "73c790d0-24c1-4502-d732-bc4f3638ca68"
      },
      "source": [
        "hidden_layer = activation(torch.mm(features, w1) + b1)\n",
        "output = activation(torch.mm(hidden_layer, w2) + b2)\n",
        "print(output)"
      ],
      "execution_count": 10,
      "outputs": [
        {
          "output_type": "stream",
          "text": [
            "tensor([[0.8107]])\n"
          ],
          "name": "stdout"
        }
      ]
    },
    {
      "cell_type": "code",
      "metadata": {
        "id": "8v9KFNjyqSQG",
        "colab_type": "code",
        "colab": {
          "base_uri": "https://localhost:8080/",
          "height": 85
        },
        "outputId": "cb84c299-c0df-4ac9-f48c-f1ebc4d5eb97"
      },
      "source": [
        "import numpy as np\n",
        "a = np.random.rand(4,3)\n",
        "a"
      ],
      "execution_count": 11,
      "outputs": [
        {
          "output_type": "execute_result",
          "data": {
            "text/plain": [
              "array([[0.97354371, 0.25337789, 0.57306716],\n",
              "       [0.11069056, 0.49353788, 0.17982686],\n",
              "       [0.2378132 , 0.84862626, 0.59486955],\n",
              "       [0.6930289 , 0.0884995 , 0.82592602]])"
            ]
          },
          "metadata": {
            "tags": []
          },
          "execution_count": 11
        }
      ]
    },
    {
      "cell_type": "code",
      "metadata": {
        "id": "IYoOKJ7mqqY7",
        "colab_type": "code",
        "colab": {
          "base_uri": "https://localhost:8080/",
          "height": 85
        },
        "outputId": "d45578de-0afe-42e9-c652-b97b28b5e131"
      },
      "source": [
        "b = torch.from_numpy(a)\n",
        "b"
      ],
      "execution_count": 12,
      "outputs": [
        {
          "output_type": "execute_result",
          "data": {
            "text/plain": [
              "tensor([[0.9735, 0.2534, 0.5731],\n",
              "        [0.1107, 0.4935, 0.1798],\n",
              "        [0.2378, 0.8486, 0.5949],\n",
              "        [0.6930, 0.0885, 0.8259]], dtype=torch.float64)"
            ]
          },
          "metadata": {
            "tags": []
          },
          "execution_count": 12
        }
      ]
    },
    {
      "cell_type": "code",
      "metadata": {
        "id": "W2xVbrTCqy7s",
        "colab_type": "code",
        "colab": {
          "base_uri": "https://localhost:8080/",
          "height": 85
        },
        "outputId": "ed781d46-e8e0-4d21-a0ec-52b76dcb1465"
      },
      "source": [
        "b.numpy()"
      ],
      "execution_count": 13,
      "outputs": [
        {
          "output_type": "execute_result",
          "data": {
            "text/plain": [
              "array([[0.97354371, 0.25337789, 0.57306716],\n",
              "       [0.11069056, 0.49353788, 0.17982686],\n",
              "       [0.2378132 , 0.84862626, 0.59486955],\n",
              "       [0.6930289 , 0.0884995 , 0.82592602]])"
            ]
          },
          "metadata": {
            "tags": []
          },
          "execution_count": 13
        }
      ]
    },
    {
      "cell_type": "code",
      "metadata": {
        "id": "8sKQlEWHrBer",
        "colab_type": "code",
        "colab": {
          "base_uri": "https://localhost:8080/",
          "height": 85
        },
        "outputId": "7981b554-5f14-43dd-c927-1a5bb87d4121"
      },
      "source": [
        "# multiply elements of b\n",
        "b.mul_(2)"
      ],
      "execution_count": 15,
      "outputs": [
        {
          "output_type": "execute_result",
          "data": {
            "text/plain": [
              "tensor([[1.9471, 0.5068, 1.1461],\n",
              "        [0.2214, 0.9871, 0.3597],\n",
              "        [0.4756, 1.6973, 1.1897],\n",
              "        [1.3861, 0.1770, 1.6519]], dtype=torch.float64)"
            ]
          },
          "metadata": {
            "tags": []
          },
          "execution_count": 15
        }
      ]
    },
    {
      "cell_type": "code",
      "metadata": {
        "id": "4DARR6FmrQDn",
        "colab_type": "code",
        "colab": {
          "base_uri": "https://localhost:8080/",
          "height": 85
        },
        "outputId": "138ccbb4-5de1-4db8-f42e-9dffc9e42224"
      },
      "source": [
        "# as the weights are shared between a and b, a will also multiplied\n",
        "a"
      ],
      "execution_count": 16,
      "outputs": [
        {
          "output_type": "execute_result",
          "data": {
            "text/plain": [
              "array([[1.94708742, 0.50675578, 1.14613432],\n",
              "       [0.22138111, 0.98707576, 0.35965372],\n",
              "       [0.47562639, 1.69725253, 1.1897391 ],\n",
              "       [1.3860578 , 0.176999  , 1.65185204]])"
            ]
          },
          "metadata": {
            "tags": []
          },
          "execution_count": 16
        }
      ]
    },
    {
      "cell_type": "code",
      "metadata": {
        "id": "4MG2eBsirye9",
        "colab_type": "code",
        "colab": {}
      },
      "source": [
        ""
      ],
      "execution_count": 0,
      "outputs": []
    }
  ]
}