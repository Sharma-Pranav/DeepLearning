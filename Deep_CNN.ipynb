{
  "nbformat": 4,
  "nbformat_minor": 0,
  "metadata": {
    "colab": {
      "name": "Deep_CNN.ipynb",
      "version": "0.3.2",
      "provenance": [],
      "collapsed_sections": [],
      "include_colab_link": true
    },
    "kernelspec": {
      "name": "python3",
      "display_name": "Python 3"
    },
    "accelerator": "GPU"
  },
  "cells": [
    {
      "cell_type": "markdown",
      "metadata": {
        "id": "view-in-github",
        "colab_type": "text"
      },
      "source": [
        "<a href=\"https://colab.research.google.com/github/Sharma-Pranav/DeepLearning/blob/master/Deep_CNN.ipynb\" target=\"_parent\"><img src=\"https://colab.research.google.com/assets/colab-badge.svg\" alt=\"Open In Colab\"/></a>"
      ]
    },
    {
      "metadata": {
        "id": "9cZKP4rQC5Yh",
        "colab_type": "code",
        "colab": {
          "base_uri": "https://localhost:8080/",
          "height": 34
        },
        "outputId": "ace8709a-ad12-4434-9455-d853ca5b4f49"
      },
      "cell_type": "code",
      "source": [
        "import numpy as np\n",
        "import matplotlib.pyplot as plt\n",
        "\n",
        "from keras.datasets import mnist\n",
        "from keras.utils.np_utils import to_categorical\n",
        "from keras.models import Sequential\n",
        "from keras import optimizers\n",
        "from keras.layers import Dense, Activation, Flatten, Conv2D, MaxPooling2D"
      ],
      "execution_count": 1,
      "outputs": [
        {
          "output_type": "stream",
          "text": [
            "Using TensorFlow backend.\n"
          ],
          "name": "stderr"
        }
      ]
    },
    {
      "metadata": {
        "id": "UtviFIkhDbiq",
        "colab_type": "code",
        "colab": {
          "base_uri": "https://localhost:8080/",
          "height": 51
        },
        "outputId": "6eeed9ee-39fa-4ff0-a6f8-b0006b07e8c3"
      },
      "cell_type": "code",
      "source": [
        "(X_train, Y_train), (X_test, Y_test)  = mnist.load_data()"
      ],
      "execution_count": 2,
      "outputs": [
        {
          "output_type": "stream",
          "text": [
            "Downloading data from https://s3.amazonaws.com/img-datasets/mnist.npz\n",
            "11493376/11490434 [==============================] - 0s 0us/step\n"
          ],
          "name": "stdout"
        }
      ]
    },
    {
      "metadata": {
        "id": "Jc-0WENIDydN",
        "colab_type": "code",
        "colab": {}
      },
      "cell_type": "code",
      "source": [
        "# Reshape the image dataset to fit to tensorflow format\n",
        "X_train = X_train.reshape((X_train.shape[0], X_train.shape[1], X_train.shape[2], 1))\n",
        "X_test = X_test.reshape((X_test.shape[0], X_test.shape[1], X_test.shape[2], 1))\n",
        "# One hot Encoding of labels\n",
        "Y_train = to_categorical(Y_train)\n",
        "Y_test = to_categorical(Y_test)"
      ],
      "execution_count": 0,
      "outputs": []
    },
    {
      "metadata": {
        "id": "_Find2SUEPdO",
        "colab_type": "code",
        "colab": {}
      },
      "cell_type": "code",
      "source": [
        "def cnn():\n",
        "  model = Sequential()\n",
        "  \n",
        "  model.add(Conv2D(input_shape =  (X_train.shape[1], X_train.shape[2],  X_train.shape[3]), filters = 50, kernel_size = (3,3), strides = (1, 1), padding = 'same'))\n",
        "  model.add(Activation('relu'))\n",
        "  model.add(MaxPooling2D(pool_size = (2,2)))\n",
        "  model.add(Conv2D(filters = 50, kernel_size = (3,3), strides = (1,1), padding = 'same'))\n",
        "  model.add(Activation('relu'))\n",
        "  model.add(MaxPooling2D(pool_size = (2,2)))\n",
        "  model.add(Conv2D(filters = 50, kernel_size = (3,3), strides = (1,1), padding = 'same'))\n",
        "  model.add(Activation('relu'))\n",
        "  model.add(MaxPooling2D(pool_size = (2,2)))\n",
        "  model.add(Conv2D(filters = 50, kernel_size = (3,3), strides = (1,1), padding = 'same'))\n",
        "  model.add(Activation('relu'))\n",
        "  model.add(MaxPooling2D(pool_size = (2,2)))\n",
        "  \n",
        "  model.add(Flatten())\n",
        "  model.add(Dense(50, activation = 'relu'))\n",
        "  model.add(Dense(10, activation = 'softmax'))\n",
        "  \n",
        "  adam = optimizers.Adam()\n",
        "  model.compile(loss = 'categorical_crossentropy', optimizer = adam, metrics = ['accuracy'])\n",
        "  return model\n"
      ],
      "execution_count": 0,
      "outputs": []
    },
    {
      "metadata": {
        "id": "kB29OdIFGAWO",
        "colab_type": "code",
        "colab": {
          "base_uri": "https://localhost:8080/",
          "height": 68
        },
        "outputId": "36287c84-8005-47cf-914c-33c3d3d8aef8"
      },
      "cell_type": "code",
      "source": [
        "model = cnn()\n"
      ],
      "execution_count": 5,
      "outputs": [
        {
          "output_type": "stream",
          "text": [
            "WARNING:tensorflow:From /usr/local/lib/python3.6/dist-packages/tensorflow/python/framework/op_def_library.py:263: colocate_with (from tensorflow.python.framework.ops) is deprecated and will be removed in a future version.\n",
            "Instructions for updating:\n",
            "Colocations handled automatically by placer.\n"
          ],
          "name": "stdout"
        }
      ]
    },
    {
      "metadata": {
        "id": "kt9WkerOGDNQ",
        "colab_type": "code",
        "colab": {
          "base_uri": "https://localhost:8080/",
          "height": 3485
        },
        "outputId": "bb6ae7a2-e992-4486-9598-afa3ae10f236"
      },
      "cell_type": "code",
      "source": [
        "train_history = model.fit(X_train, Y_train, batch_size = 128, validation_split = 0.1, epochs = 100, verbose = 1)\n"
      ],
      "execution_count": 6,
      "outputs": [
        {
          "output_type": "stream",
          "text": [
            "WARNING:tensorflow:From /usr/local/lib/python3.6/dist-packages/tensorflow/python/ops/math_ops.py:3066: to_int32 (from tensorflow.python.ops.math_ops) is deprecated and will be removed in a future version.\n",
            "Instructions for updating:\n",
            "Use tf.cast instead.\n",
            "Train on 54000 samples, validate on 6000 samples\n",
            "Epoch 1/100\n",
            "54000/54000 [==============================] - 11s 211us/step - loss: 0.7911 - acc: 0.8661 - val_loss: 0.0665 - val_acc: 0.9810\n",
            "Epoch 2/100\n",
            "54000/54000 [==============================] - 7s 122us/step - loss: 0.0684 - acc: 0.9791 - val_loss: 0.0605 - val_acc: 0.9828\n",
            "Epoch 3/100\n",
            "54000/54000 [==============================] - 7s 122us/step - loss: 0.0476 - acc: 0.9847 - val_loss: 0.0392 - val_acc: 0.9890\n",
            "Epoch 4/100\n",
            "54000/54000 [==============================] - 7s 121us/step - loss: 0.0386 - acc: 0.9877 - val_loss: 0.0488 - val_acc: 0.9865\n",
            "Epoch 5/100\n",
            "54000/54000 [==============================] - 7s 122us/step - loss: 0.0290 - acc: 0.9903 - val_loss: 0.0439 - val_acc: 0.9875\n",
            "Epoch 6/100\n",
            "54000/54000 [==============================] - 7s 122us/step - loss: 0.0277 - acc: 0.9905 - val_loss: 0.0403 - val_acc: 0.9893\n",
            "Epoch 7/100\n",
            "54000/54000 [==============================] - 7s 122us/step - loss: 0.0205 - acc: 0.9934 - val_loss: 0.0470 - val_acc: 0.9892\n",
            "Epoch 8/100\n",
            "54000/54000 [==============================] - 7s 122us/step - loss: 0.0227 - acc: 0.9926 - val_loss: 0.0580 - val_acc: 0.9858\n",
            "Epoch 9/100\n",
            "54000/54000 [==============================] - 7s 121us/step - loss: 0.0215 - acc: 0.9929 - val_loss: 0.0368 - val_acc: 0.9917\n",
            "Epoch 10/100\n",
            "54000/54000 [==============================] - 7s 122us/step - loss: 0.0212 - acc: 0.9929 - val_loss: 0.0427 - val_acc: 0.9887\n",
            "Epoch 11/100\n",
            "54000/54000 [==============================] - 7s 122us/step - loss: 0.0174 - acc: 0.9943 - val_loss: 0.0458 - val_acc: 0.9895\n",
            "Epoch 12/100\n",
            "54000/54000 [==============================] - 7s 122us/step - loss: 0.0183 - acc: 0.9939 - val_loss: 0.0413 - val_acc: 0.9913\n",
            "Epoch 13/100\n",
            "54000/54000 [==============================] - 7s 122us/step - loss: 0.0163 - acc: 0.9948 - val_loss: 0.0503 - val_acc: 0.9887\n",
            "Epoch 14/100\n",
            "54000/54000 [==============================] - 7s 122us/step - loss: 0.0195 - acc: 0.9938 - val_loss: 0.0560 - val_acc: 0.9885\n",
            "Epoch 15/100\n",
            "54000/54000 [==============================] - 7s 122us/step - loss: 0.0159 - acc: 0.9950 - val_loss: 0.0568 - val_acc: 0.9873\n",
            "Epoch 16/100\n",
            "54000/54000 [==============================] - 7s 122us/step - loss: 0.0105 - acc: 0.9966 - val_loss: 0.0337 - val_acc: 0.9923\n",
            "Epoch 17/100\n",
            "54000/54000 [==============================] - 7s 121us/step - loss: 0.0127 - acc: 0.9961 - val_loss: 0.0554 - val_acc: 0.9895\n",
            "Epoch 18/100\n",
            "54000/54000 [==============================] - 7s 122us/step - loss: 0.0149 - acc: 0.9952 - val_loss: 0.0574 - val_acc: 0.9885\n",
            "Epoch 19/100\n",
            "54000/54000 [==============================] - 7s 122us/step - loss: 0.0140 - acc: 0.9957 - val_loss: 0.0515 - val_acc: 0.9902\n",
            "Epoch 20/100\n",
            "54000/54000 [==============================] - 7s 122us/step - loss: 0.0131 - acc: 0.9956 - val_loss: 0.0584 - val_acc: 0.9878\n",
            "Epoch 21/100\n",
            "54000/54000 [==============================] - 7s 122us/step - loss: 0.0116 - acc: 0.9960 - val_loss: 0.0562 - val_acc: 0.9877\n",
            "Epoch 22/100\n",
            "54000/54000 [==============================] - 7s 121us/step - loss: 0.0074 - acc: 0.9977 - val_loss: 0.0511 - val_acc: 0.9913\n",
            "Epoch 23/100\n",
            "54000/54000 [==============================] - 7s 122us/step - loss: 0.0117 - acc: 0.9964 - val_loss: 0.0517 - val_acc: 0.9908\n",
            "Epoch 24/100\n",
            "54000/54000 [==============================] - 7s 121us/step - loss: 0.0100 - acc: 0.9969 - val_loss: 0.0667 - val_acc: 0.9883\n",
            "Epoch 25/100\n",
            "54000/54000 [==============================] - 7s 121us/step - loss: 0.0125 - acc: 0.9960 - val_loss: 0.0642 - val_acc: 0.9887\n",
            "Epoch 26/100\n",
            "54000/54000 [==============================] - 7s 121us/step - loss: 0.0101 - acc: 0.9971 - val_loss: 0.0571 - val_acc: 0.9890\n",
            "Epoch 27/100\n",
            "54000/54000 [==============================] - 7s 122us/step - loss: 0.0092 - acc: 0.9972 - val_loss: 0.0508 - val_acc: 0.9913\n",
            "Epoch 28/100\n",
            "54000/54000 [==============================] - 7s 121us/step - loss: 0.0088 - acc: 0.9974 - val_loss: 0.0430 - val_acc: 0.9920\n",
            "Epoch 29/100\n",
            "54000/54000 [==============================] - 7s 121us/step - loss: 0.0051 - acc: 0.9984 - val_loss: 0.0537 - val_acc: 0.9910\n",
            "Epoch 30/100\n",
            "54000/54000 [==============================] - 7s 122us/step - loss: 0.0101 - acc: 0.9968 - val_loss: 0.0669 - val_acc: 0.9892\n",
            "Epoch 31/100\n",
            "54000/54000 [==============================] - 7s 121us/step - loss: 0.0090 - acc: 0.9973 - val_loss: 0.0489 - val_acc: 0.9918\n",
            "Epoch 32/100\n",
            "54000/54000 [==============================] - 7s 122us/step - loss: 0.0064 - acc: 0.9981 - val_loss: 0.0686 - val_acc: 0.9897\n",
            "Epoch 33/100\n",
            "54000/54000 [==============================] - 7s 122us/step - loss: 0.0111 - acc: 0.9969 - val_loss: 0.0539 - val_acc: 0.9915\n",
            "Epoch 34/100\n",
            "54000/54000 [==============================] - 7s 122us/step - loss: 0.0069 - acc: 0.9979 - val_loss: 0.0699 - val_acc: 0.9897\n",
            "Epoch 35/100\n",
            "54000/54000 [==============================] - 7s 122us/step - loss: 0.0086 - acc: 0.9975 - val_loss: 0.0637 - val_acc: 0.9918\n",
            "Epoch 36/100\n",
            "54000/54000 [==============================] - 7s 122us/step - loss: 0.0090 - acc: 0.9975 - val_loss: 0.0646 - val_acc: 0.9890\n",
            "Epoch 37/100\n",
            "54000/54000 [==============================] - 7s 121us/step - loss: 0.0102 - acc: 0.9970 - val_loss: 0.0679 - val_acc: 0.9882\n",
            "Epoch 38/100\n",
            "54000/54000 [==============================] - 7s 121us/step - loss: 0.0048 - acc: 0.9986 - val_loss: 0.0626 - val_acc: 0.9893\n",
            "Epoch 39/100\n",
            "54000/54000 [==============================] - 7s 121us/step - loss: 0.0049 - acc: 0.9987 - val_loss: 0.0398 - val_acc: 0.9913\n",
            "Epoch 40/100\n",
            "54000/54000 [==============================] - 7s 121us/step - loss: 0.0072 - acc: 0.9981 - val_loss: 0.0632 - val_acc: 0.9917\n",
            "Epoch 41/100\n",
            "54000/54000 [==============================] - 7s 122us/step - loss: 0.0087 - acc: 0.9974 - val_loss: 0.0715 - val_acc: 0.9887\n",
            "Epoch 42/100\n",
            "54000/54000 [==============================] - 7s 121us/step - loss: 0.0076 - acc: 0.9978 - val_loss: 0.0651 - val_acc: 0.9887\n",
            "Epoch 43/100\n",
            "54000/54000 [==============================] - 7s 122us/step - loss: 0.0080 - acc: 0.9979 - val_loss: 0.0483 - val_acc: 0.9925\n",
            "Epoch 44/100\n",
            "54000/54000 [==============================] - 7s 121us/step - loss: 0.0048 - acc: 0.9985 - val_loss: 0.0675 - val_acc: 0.9897\n",
            "Epoch 45/100\n",
            "54000/54000 [==============================] - 7s 122us/step - loss: 0.0078 - acc: 0.9980 - val_loss: 0.0655 - val_acc: 0.9893\n",
            "Epoch 46/100\n",
            "54000/54000 [==============================] - 7s 122us/step - loss: 0.0096 - acc: 0.9976 - val_loss: 0.0834 - val_acc: 0.9852\n",
            "Epoch 47/100\n",
            "54000/54000 [==============================] - 7s 121us/step - loss: 0.0093 - acc: 0.9974 - val_loss: 0.0691 - val_acc: 0.9903\n",
            "Epoch 48/100\n",
            "54000/54000 [==============================] - 7s 121us/step - loss: 0.0052 - acc: 0.9986 - val_loss: 0.0491 - val_acc: 0.9923\n",
            "Epoch 49/100\n",
            "54000/54000 [==============================] - 7s 121us/step - loss: 0.0024 - acc: 0.9993 - val_loss: 0.0562 - val_acc: 0.9917\n",
            "Epoch 50/100\n",
            "54000/54000 [==============================] - 7s 121us/step - loss: 0.0063 - acc: 0.9983 - val_loss: 0.0659 - val_acc: 0.9907\n",
            "Epoch 51/100\n",
            "54000/54000 [==============================] - 7s 121us/step - loss: 0.0089 - acc: 0.9974 - val_loss: 0.0618 - val_acc: 0.9912\n",
            "Epoch 52/100\n",
            "54000/54000 [==============================] - 7s 121us/step - loss: 0.0046 - acc: 0.9988 - val_loss: 0.0633 - val_acc: 0.9915\n",
            "Epoch 53/100\n",
            "54000/54000 [==============================] - 7s 121us/step - loss: 0.0059 - acc: 0.9985 - val_loss: 0.0645 - val_acc: 0.9900\n",
            "Epoch 54/100\n",
            "54000/54000 [==============================] - 7s 121us/step - loss: 0.0086 - acc: 0.9979 - val_loss: 0.0606 - val_acc: 0.9913\n",
            "Epoch 55/100\n",
            "54000/54000 [==============================] - 7s 121us/step - loss: 0.0067 - acc: 0.9980 - val_loss: 0.0613 - val_acc: 0.9913\n",
            "Epoch 56/100\n",
            "54000/54000 [==============================] - 7s 123us/step - loss: 0.0025 - acc: 0.9992 - val_loss: 0.0579 - val_acc: 0.9930\n",
            "Epoch 57/100\n",
            "54000/54000 [==============================] - 7s 122us/step - loss: 0.0029 - acc: 0.9992 - val_loss: 0.0698 - val_acc: 0.9913\n",
            "Epoch 58/100\n",
            "54000/54000 [==============================] - 7s 121us/step - loss: 0.0109 - acc: 0.9973 - val_loss: 0.0588 - val_acc: 0.9908\n",
            "Epoch 59/100\n",
            "54000/54000 [==============================] - 7s 121us/step - loss: 0.0052 - acc: 0.9985 - val_loss: 0.0478 - val_acc: 0.9915\n",
            "Epoch 60/100\n",
            "54000/54000 [==============================] - 7s 121us/step - loss: 0.0029 - acc: 0.9991 - val_loss: 0.0567 - val_acc: 0.9917\n",
            "Epoch 61/100\n",
            "54000/54000 [==============================] - 7s 121us/step - loss: 0.0025 - acc: 0.9993 - val_loss: 0.0609 - val_acc: 0.9928\n",
            "Epoch 62/100\n",
            "54000/54000 [==============================] - 7s 121us/step - loss: 0.0032 - acc: 0.9991 - val_loss: 0.0879 - val_acc: 0.9883\n",
            "Epoch 63/100\n",
            "54000/54000 [==============================] - 7s 121us/step - loss: 0.0112 - acc: 0.9973 - val_loss: 0.0613 - val_acc: 0.9912\n",
            "Epoch 64/100\n",
            "54000/54000 [==============================] - 7s 122us/step - loss: 0.0059 - acc: 0.9986 - val_loss: 0.0757 - val_acc: 0.9892\n",
            "Epoch 65/100\n",
            "54000/54000 [==============================] - 7s 121us/step - loss: 0.0051 - acc: 0.9986 - val_loss: 0.0619 - val_acc: 0.9905\n",
            "Epoch 66/100\n",
            "54000/54000 [==============================] - 7s 122us/step - loss: 0.0026 - acc: 0.9991 - val_loss: 0.0643 - val_acc: 0.9907\n",
            "Epoch 67/100\n",
            "54000/54000 [==============================] - 7s 121us/step - loss: 0.0033 - acc: 0.9991 - val_loss: 0.0667 - val_acc: 0.9907\n",
            "Epoch 68/100\n",
            "54000/54000 [==============================] - 7s 121us/step - loss: 0.0097 - acc: 0.9975 - val_loss: 0.0609 - val_acc: 0.9910\n",
            "Epoch 69/100\n",
            "54000/54000 [==============================] - 7s 122us/step - loss: 0.0051 - acc: 0.9987 - val_loss: 0.0707 - val_acc: 0.9908\n",
            "Epoch 70/100\n",
            "54000/54000 [==============================] - 7s 122us/step - loss: 0.0036 - acc: 0.9992 - val_loss: 0.0664 - val_acc: 0.9902\n",
            "Epoch 71/100\n",
            "54000/54000 [==============================] - 7s 122us/step - loss: 0.0067 - acc: 0.9984 - val_loss: 0.0591 - val_acc: 0.9918\n",
            "Epoch 72/100\n",
            "54000/54000 [==============================] - 7s 122us/step - loss: 0.0089 - acc: 0.9982 - val_loss: 0.0545 - val_acc: 0.9920\n",
            "Epoch 73/100\n",
            "54000/54000 [==============================] - 7s 122us/step - loss: 0.0037 - acc: 0.9990 - val_loss: 0.0579 - val_acc: 0.9928\n",
            "Epoch 74/100\n",
            "54000/54000 [==============================] - 7s 121us/step - loss: 0.0021 - acc: 0.9995 - val_loss: 0.0652 - val_acc: 0.9915\n",
            "Epoch 75/100\n",
            "54000/54000 [==============================] - 7s 121us/step - loss: 0.0045 - acc: 0.9988 - val_loss: 0.0661 - val_acc: 0.9912\n",
            "Epoch 76/100\n",
            "54000/54000 [==============================] - 7s 121us/step - loss: 0.0061 - acc: 0.9982 - val_loss: 0.0799 - val_acc: 0.9903\n",
            "Epoch 77/100\n",
            "54000/54000 [==============================] - 7s 122us/step - loss: 0.0042 - acc: 0.9988 - val_loss: 0.0635 - val_acc: 0.9917\n",
            "Epoch 78/100\n",
            "54000/54000 [==============================] - 7s 121us/step - loss: 0.0066 - acc: 0.9984 - val_loss: 0.0636 - val_acc: 0.9917\n",
            "Epoch 79/100\n",
            "54000/54000 [==============================] - 7s 122us/step - loss: 0.0036 - acc: 0.9989 - val_loss: 0.0695 - val_acc: 0.9918\n",
            "Epoch 80/100\n",
            "54000/54000 [==============================] - 7s 122us/step - loss: 0.0037 - acc: 0.9991 - val_loss: 0.0615 - val_acc: 0.9917\n",
            "Epoch 81/100\n",
            "54000/54000 [==============================] - 7s 121us/step - loss: 0.0064 - acc: 0.9987 - val_loss: 0.0785 - val_acc: 0.9903\n",
            "Epoch 82/100\n",
            "54000/54000 [==============================] - 7s 122us/step - loss: 0.0032 - acc: 0.9992 - val_loss: 0.0709 - val_acc: 0.9915\n",
            "Epoch 83/100\n",
            "54000/54000 [==============================] - 7s 121us/step - loss: 0.0053 - acc: 0.9986 - val_loss: 0.0711 - val_acc: 0.9902\n",
            "Epoch 84/100\n",
            "54000/54000 [==============================] - 7s 122us/step - loss: 0.0022 - acc: 0.9994 - val_loss: 0.0700 - val_acc: 0.9910\n",
            "Epoch 85/100\n",
            "54000/54000 [==============================] - 7s 121us/step - loss: 0.0041 - acc: 0.9989 - val_loss: 0.0775 - val_acc: 0.9908\n",
            "Epoch 86/100\n",
            "54000/54000 [==============================] - 7s 121us/step - loss: 0.0046 - acc: 0.9987 - val_loss: 0.0755 - val_acc: 0.9918\n",
            "Epoch 87/100\n",
            "54000/54000 [==============================] - 7s 122us/step - loss: 0.0064 - acc: 0.9986 - val_loss: 0.0974 - val_acc: 0.9877\n",
            "Epoch 88/100\n",
            "54000/54000 [==============================] - 7s 121us/step - loss: 0.0055 - acc: 0.9988 - val_loss: 0.0749 - val_acc: 0.9915\n",
            "Epoch 89/100\n",
            "54000/54000 [==============================] - 7s 122us/step - loss: 0.0051 - acc: 0.9989 - val_loss: 0.0536 - val_acc: 0.9937\n",
            "Epoch 90/100\n",
            "54000/54000 [==============================] - 7s 121us/step - loss: 0.0026 - acc: 0.9994 - val_loss: 0.0727 - val_acc: 0.9918\n",
            "Epoch 91/100\n",
            "54000/54000 [==============================] - 7s 121us/step - loss: 0.0026 - acc: 0.9993 - val_loss: 0.0794 - val_acc: 0.9902\n",
            "Epoch 92/100\n",
            "54000/54000 [==============================] - 7s 121us/step - loss: 0.0049 - acc: 0.9989 - val_loss: 0.0655 - val_acc: 0.9927\n",
            "Epoch 93/100\n",
            "54000/54000 [==============================] - 7s 121us/step - loss: 0.0073 - acc: 0.9988 - val_loss: 0.0666 - val_acc: 0.9913\n",
            "Epoch 94/100\n",
            "54000/54000 [==============================] - 7s 121us/step - loss: 0.0031 - acc: 0.9993 - val_loss: 0.0755 - val_acc: 0.9917\n",
            "Epoch 95/100\n",
            "54000/54000 [==============================] - 7s 122us/step - loss: 0.0029 - acc: 0.9992 - val_loss: 0.0748 - val_acc: 0.9913\n",
            "Epoch 96/100\n",
            "54000/54000 [==============================] - 7s 121us/step - loss: 0.0046 - acc: 0.9989 - val_loss: 0.0700 - val_acc: 0.9905\n",
            "Epoch 97/100\n",
            "54000/54000 [==============================] - 7s 121us/step - loss: 0.0048 - acc: 0.9991 - val_loss: 0.0631 - val_acc: 0.9920\n",
            "Epoch 98/100\n",
            "54000/54000 [==============================] - 7s 121us/step - loss: 0.0050 - acc: 0.9986 - val_loss: 0.0751 - val_acc: 0.9912\n",
            "Epoch 99/100\n",
            "54000/54000 [==============================] - 7s 122us/step - loss: 0.0062 - acc: 0.9988 - val_loss: 0.0630 - val_acc: 0.9932\n",
            "Epoch 100/100\n",
            "54000/54000 [==============================] - 7s 122us/step - loss: 0.0067 - acc: 0.9986 - val_loss: 0.0572 - val_acc: 0.9925\n"
          ],
          "name": "stdout"
        }
      ]
    },
    {
      "metadata": {
        "id": "_5zsqT_2GPhn",
        "colab_type": "code",
        "colab": {
          "base_uri": "https://localhost:8080/",
          "height": 347
        },
        "outputId": "a4367bf0-76ff-449b-c236-e158489085de"
      },
      "cell_type": "code",
      "source": [
        "plt.plot(train_history.history['acc'])\n",
        "plt.plot(train_history.history['val_acc'])\n",
        "plt.legend(['training', 'validation'])\n",
        "plt.show()"
      ],
      "execution_count": 7,
      "outputs": [
        {
          "output_type": "display_data",
          "data": {
            "image/png": "[encoded data removed]",
            "text/plain": [
              "<Figure size 576x396 with 1 Axes>"
            ]
          },
          "metadata": {
            "tags": []
          }
        }
      ]
    },
    {
      "metadata": {
        "id": "vcuqHRL3Gox2",
        "colab_type": "code",
        "colab": {
          "base_uri": "https://localhost:8080/",
          "height": 51
        },
        "outputId": "b195f8ea-f0a3-45d3-c5ad-d99c53ef04b6"
      },
      "cell_type": "code",
      "source": [
        "results = model.evaluate(X_test, Y_test)\n",
        "print('Test Accuracy:', results[1])"
      ],
      "execution_count": 8,
      "outputs": [
        {
          "output_type": "stream",
          "text": [
            "10000/10000 [==============================] - 1s 91us/step\n",
            "Test Accuracy: 0.99\n"
          ],
          "name": "stdout"
        }
      ]
    },
    {
      "metadata": {
        "id": "dH8gT5FnGyzt",
        "colab_type": "code",
        "colab": {}
      },
      "cell_type": "code",
      "source": [
        ""
      ],
      "execution_count": 0,
      "outputs": []
    }
  ]
}