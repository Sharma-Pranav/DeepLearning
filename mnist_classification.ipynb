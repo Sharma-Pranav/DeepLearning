{
  "nbformat": 4,
  "nbformat_minor": 0,
  "metadata": {
    "colab": {
      "name": "mnist_classification.ipynb",
      "version": "0.3.2",
      "provenance": [],
      "collapsed_sections": [],
      "include_colab_link": true
    },
    "kernelspec": {
      "name": "python3",
      "display_name": "Python 3"
    },
    "accelerator": "GPU"
  },
  "cells": [
    {
      "cell_type": "markdown",
      "metadata": {
        "id": "view-in-github",
        "colab_type": "text"
      },
      "source": [
        "<a href=\"https://colab.research.google.com/github/Sharma-Pranav/DeepLearning/blob/master/mnist_classification.ipynb\" target=\"_parent\"><img src=\"https://colab.research.google.com/assets/colab-badge.svg\" alt=\"Open In Colab\"/></a>"
      ]
    },
    {
      "metadata": {
        "id": "x9HaM8o3A0Qu",
        "colab_type": "code",
        "colab": {
          "base_uri": "https://localhost:8080/",
          "height": 34
        },
        "outputId": "7405b1e1-4b53-41fc-f88b-6a145979abb0"
      },
      "cell_type": "code",
      "source": [
        "import matplotlib.pyplot as plt\n",
        "from sklearn.model_selection import train_test_split\n",
        "from keras.datasets import mnist\n",
        "from keras.models import Sequential\n",
        "from keras.utils.np_utils import to_categorical\n",
        "from keras.layers import Dense\n",
        "from keras import optimizers"
      ],
      "execution_count": 1,
      "outputs": [
        {
          "output_type": "stream",
          "text": [
            "Using TensorFlow backend.\n"
          ],
          "name": "stderr"
        }
      ]
    },
    {
      "metadata": {
        "id": "sp_E61ADB0Cw",
        "colab_type": "code",
        "colab": {
          "base_uri": "https://localhost:8080/",
          "height": 51
        },
        "outputId": "8de17d34-c12a-4763-e6a3-6092944105ea"
      },
      "cell_type": "code",
      "source": [
        "(X_train, Y_train), (X_test, Y_test) = mnist.load_data()"
      ],
      "execution_count": 2,
      "outputs": [
        {
          "output_type": "stream",
          "text": [
            "Downloading data from https://s3.amazonaws.com/img-datasets/mnist.npz\n",
            "11493376/11490434 [==============================] - 1s 0us/step\n"
          ],
          "name": "stdout"
        }
      ]
    },
    {
      "metadata": {
        "id": "no_GqeNPCClt",
        "colab_type": "code",
        "colab": {}
      },
      "cell_type": "code",
      "source": [
        "# Reshape 2d data to 1d data\n",
        "X_train = X_train.reshape((X_train.shape[0], X_train.shape[1] * X_train.shape[2]))\n",
        "X_test = X_test.reshape((X_test.shape[0], X_test.shape[1] * X_test.shape[2]))"
      ],
      "execution_count": 0,
      "outputs": []
    },
    {
      "metadata": {
        "id": "5pKxbrYZCk_6",
        "colab_type": "code",
        "colab": {
          "base_uri": "https://localhost:8080/",
          "height": 51
        },
        "outputId": "152b5d4a-908c-40bb-c94a-30353948362a"
      },
      "cell_type": "code",
      "source": [
        "# One hot encoding of Labeel data\n",
        "print(Y_test.shape)\n",
        "Y_train = to_categorical(Y_train)\n",
        "Y_test = to_categorical(Y_test)\n",
        "print(Y_test.shape)"
      ],
      "execution_count": 4,
      "outputs": [
        {
          "output_type": "stream",
          "text": [
            "(10000,)\n",
            "(10000, 10)\n"
          ],
          "name": "stdout"
        }
      ]
    },
    {
      "metadata": {
        "id": "F8Q9z9hiC5dg",
        "colab_type": "code",
        "colab": {}
      },
      "cell_type": "code",
      "source": [
        "model = Sequential()"
      ],
      "execution_count": 0,
      "outputs": []
    },
    {
      "metadata": {
        "id": "GhN32aPbFe8n",
        "colab_type": "code",
        "colab": {
          "base_uri": "https://localhost:8080/",
          "height": 68
        },
        "outputId": "3e223871-05fe-4c0a-d538-404d2b225781"
      },
      "cell_type": "code",
      "source": [
        "model.add(Dense(50, input_shape = (784, ), activation = 'sigmoid'))\n",
        "model.add(Dense(50, activation = 'sigmoid'))\n",
        "model.add(Dense(50, activation = 'sigmoid'))\n",
        "model.add(Dense(50, activation = 'sigmoid'))\n",
        "model.add(Dense(10, activation = 'sigmoid'))"
      ],
      "execution_count": 6,
      "outputs": [
        {
          "output_type": "stream",
          "text": [
            "WARNING:tensorflow:From /usr/local/lib/python3.6/dist-packages/tensorflow/python/framework/op_def_library.py:263: colocate_with (from tensorflow.python.framework.ops) is deprecated and will be removed in a future version.\n",
            "Instructions for updating:\n",
            "Colocations handled automatically by placer.\n"
          ],
          "name": "stdout"
        }
      ]
    },
    {
      "metadata": {
        "id": "gR_94YfpF9Ao",
        "colab_type": "code",
        "colab": {
          "base_uri": "https://localhost:8080/",
          "height": 3434
        },
        "outputId": "cd05399b-aa9f-498a-df8c-706c6ea150b0"
      },
      "cell_type": "code",
      "source": [
        "sgd = optimizers.SGD()\n",
        "model.compile(optimizer = sgd, loss = 'categorical_crossentropy', metrics = ['accuracy'])#)\n",
        "\n",
        "learning = model.fit(X_train, Y_train, validation_data=(X_test, Y_test), epochs = 100, verbose = 1)"
      ],
      "execution_count": 9,
      "outputs": [
        {
          "output_type": "stream",
          "text": [
            "Train on 60000 samples, validate on 10000 samples\n",
            "Epoch 1/100\n",
            "60000/60000 [==============================] - 10s 169us/step - loss: 2.3029 - val_loss: 2.2984\n",
            "Epoch 2/100\n",
            "60000/60000 [==============================] - 8s 125us/step - loss: 2.2974 - val_loss: 2.2955\n",
            "Epoch 3/100\n",
            "60000/60000 [==============================] - 8s 129us/step - loss: 2.2942 - val_loss: 2.2916\n",
            "Epoch 4/100\n",
            "60000/60000 [==============================] - 8s 127us/step - loss: 2.2894 - val_loss: 2.2858\n",
            "Epoch 5/100\n",
            "60000/60000 [==============================] - 7s 125us/step - loss: 2.2809 - val_loss: 2.2731\n",
            "Epoch 6/100\n",
            "60000/60000 [==============================] - 7s 125us/step - loss: 2.2622 - val_loss: 2.2445\n",
            "Epoch 7/100\n",
            "60000/60000 [==============================] - 7s 125us/step - loss: 2.2098 - val_loss: 2.1518\n",
            "Epoch 8/100\n",
            "60000/60000 [==============================] - 7s 124us/step - loss: 2.0150 - val_loss: 1.8052\n",
            "Epoch 9/100\n",
            "60000/60000 [==============================] - 7s 123us/step - loss: 1.5489 - val_loss: 1.3127\n",
            "Epoch 10/100\n",
            "60000/60000 [==============================] - 7s 124us/step - loss: 1.1582 - val_loss: 1.0069\n",
            "Epoch 11/100\n",
            "60000/60000 [==============================] - 7s 124us/step - loss: 0.9224 - val_loss: 0.8196\n",
            "Epoch 12/100\n",
            "60000/60000 [==============================] - 7s 124us/step - loss: 0.7840 - val_loss: 0.7289\n",
            "Epoch 13/100\n",
            "60000/60000 [==============================] - 7s 123us/step - loss: 0.7073 - val_loss: 0.6914\n",
            "Epoch 14/100\n",
            "60000/60000 [==============================] - 7s 123us/step - loss: 0.6494 - val_loss: 0.6138\n",
            "Epoch 15/100\n",
            "60000/60000 [==============================] - 7s 123us/step - loss: 0.6248 - val_loss: 0.6049\n",
            "Epoch 16/100\n",
            "60000/60000 [==============================] - 7s 125us/step - loss: 0.5913 - val_loss: 0.5645\n",
            "Epoch 17/100\n",
            "60000/60000 [==============================] - 8s 126us/step - loss: 0.5686 - val_loss: 0.5442\n",
            "Epoch 18/100\n",
            "60000/60000 [==============================] - 8s 125us/step - loss: 0.5650 - val_loss: 0.5889\n",
            "Epoch 19/100\n",
            "60000/60000 [==============================] - 8s 126us/step - loss: 0.5361 - val_loss: 0.4989\n",
            "Epoch 20/100\n",
            "60000/60000 [==============================] - 8s 126us/step - loss: 0.5189 - val_loss: 0.5123\n",
            "Epoch 21/100\n",
            "60000/60000 [==============================] - 7s 124us/step - loss: 0.5191 - val_loss: 0.4736\n",
            "Epoch 22/100\n",
            "60000/60000 [==============================] - 8s 125us/step - loss: 0.4765 - val_loss: 0.4701\n",
            "Epoch 23/100\n",
            "60000/60000 [==============================] - 8s 127us/step - loss: 0.4694 - val_loss: 0.4688\n",
            "Epoch 24/100\n",
            "60000/60000 [==============================] - 7s 125us/step - loss: 0.4799 - val_loss: 0.4930\n",
            "Epoch 25/100\n",
            "60000/60000 [==============================] - 8s 125us/step - loss: 0.4719 - val_loss: 0.4718\n",
            "Epoch 26/100\n",
            "60000/60000 [==============================] - 8s 126us/step - loss: 0.4638 - val_loss: 0.4610\n",
            "Epoch 27/100\n",
            "60000/60000 [==============================] - 8s 126us/step - loss: 0.4583 - val_loss: 0.4369\n",
            "Epoch 28/100\n",
            "60000/60000 [==============================] - 8s 127us/step - loss: 0.4306 - val_loss: 0.4185\n",
            "Epoch 29/100\n",
            "60000/60000 [==============================] - 8s 129us/step - loss: 0.4442 - val_loss: 0.4549\n",
            "Epoch 30/100\n",
            "60000/60000 [==============================] - 8s 126us/step - loss: 0.4209 - val_loss: 0.4236\n",
            "Epoch 31/100\n",
            "60000/60000 [==============================] - 8s 125us/step - loss: 0.4283 - val_loss: 0.4200\n",
            "Epoch 32/100\n",
            "60000/60000 [==============================] - 7s 124us/step - loss: 0.4313 - val_loss: 0.4327\n",
            "Epoch 33/100\n",
            "60000/60000 [==============================] - 7s 125us/step - loss: 0.4360 - val_loss: 0.4313\n",
            "Epoch 34/100\n",
            "60000/60000 [==============================] - 7s 125us/step - loss: 0.4154 - val_loss: 0.3950\n",
            "Epoch 35/100\n",
            "60000/60000 [==============================] - 7s 123us/step - loss: 0.4109 - val_loss: 0.4203\n",
            "Epoch 36/100\n",
            "60000/60000 [==============================] - 7s 123us/step - loss: 0.3921 - val_loss: 0.3761\n",
            "Epoch 37/100\n",
            "60000/60000 [==============================] - 8s 125us/step - loss: 0.3666 - val_loss: 0.3772\n",
            "Epoch 38/100\n",
            "60000/60000 [==============================] - 7s 123us/step - loss: 0.3735 - val_loss: 0.3613\n",
            "Epoch 39/100\n",
            "60000/60000 [==============================] - 8s 127us/step - loss: 0.3848 - val_loss: 0.3666\n",
            "Epoch 40/100\n",
            "60000/60000 [==============================] - 8s 128us/step - loss: 0.3701 - val_loss: 0.3673\n",
            "Epoch 41/100\n",
            "60000/60000 [==============================] - 7s 123us/step - loss: 0.3751 - val_loss: 0.3729\n",
            "Epoch 42/100\n",
            "60000/60000 [==============================] - 7s 122us/step - loss: 0.3766 - val_loss: 0.3902\n",
            "Epoch 43/100\n",
            "60000/60000 [==============================] - 7s 125us/step - loss: 0.3741 - val_loss: 0.3765\n",
            "Epoch 44/100\n",
            "60000/60000 [==============================] - 7s 123us/step - loss: 0.3770 - val_loss: 0.3526\n",
            "Epoch 45/100\n",
            "60000/60000 [==============================] - 7s 122us/step - loss: 0.3611 - val_loss: 0.3620\n",
            "Epoch 46/100\n",
            "60000/60000 [==============================] - 7s 122us/step - loss: 0.3650 - val_loss: 0.3717\n",
            "Epoch 47/100\n",
            "60000/60000 [==============================] - 7s 122us/step - loss: 0.3648 - val_loss: 0.3467\n",
            "Epoch 48/100\n",
            "60000/60000 [==============================] - 7s 122us/step - loss: 0.3551 - val_loss: 0.3534\n",
            "Epoch 49/100\n",
            "60000/60000 [==============================] - 7s 123us/step - loss: 0.3345 - val_loss: 0.3367\n",
            "Epoch 50/100\n",
            "60000/60000 [==============================] - 7s 123us/step - loss: 0.3314 - val_loss: 0.3265\n",
            "Epoch 51/100\n",
            "60000/60000 [==============================] - 7s 123us/step - loss: 0.3372 - val_loss: 0.3384\n",
            "Epoch 52/100\n",
            "60000/60000 [==============================] - 7s 123us/step - loss: 0.3307 - val_loss: 0.3152\n",
            "Epoch 53/100\n",
            "60000/60000 [==============================] - 7s 124us/step - loss: 0.3226 - val_loss: 0.3053\n",
            "Epoch 54/100\n",
            "60000/60000 [==============================] - 7s 123us/step - loss: 0.3171 - val_loss: 0.3172\n",
            "Epoch 55/100\n",
            "60000/60000 [==============================] - 7s 124us/step - loss: 0.3189 - val_loss: 0.3152\n",
            "Epoch 56/100\n",
            "60000/60000 [==============================] - 7s 122us/step - loss: 0.3115 - val_loss: 0.3400\n",
            "Epoch 57/100\n",
            "60000/60000 [==============================] - 7s 122us/step - loss: 0.3174 - val_loss: 0.3276\n",
            "Epoch 58/100\n",
            "60000/60000 [==============================] - 7s 123us/step - loss: 0.3109 - val_loss: 0.3087\n",
            "Epoch 59/100\n",
            "60000/60000 [==============================] - 7s 122us/step - loss: 0.3037 - val_loss: 0.3011\n",
            "Epoch 60/100\n",
            "60000/60000 [==============================] - 7s 122us/step - loss: 0.3003 - val_loss: 0.3065\n",
            "Epoch 61/100\n",
            "60000/60000 [==============================] - 7s 122us/step - loss: 0.3087 - val_loss: 0.3187\n",
            "Epoch 62/100\n",
            "60000/60000 [==============================] - 7s 122us/step - loss: 0.3112 - val_loss: 0.3151\n",
            "Epoch 63/100\n",
            "60000/60000 [==============================] - 7s 123us/step - loss: 0.3086 - val_loss: 0.3021\n",
            "Epoch 64/100\n",
            "60000/60000 [==============================] - 7s 122us/step - loss: 0.3145 - val_loss: 0.3064\n",
            "Epoch 65/100\n",
            "60000/60000 [==============================] - 7s 122us/step - loss: 0.2909 - val_loss: 0.2970\n",
            "Epoch 66/100\n",
            "60000/60000 [==============================] - 7s 121us/step - loss: 0.2892 - val_loss: 0.3005\n",
            "Epoch 67/100\n",
            "60000/60000 [==============================] - 7s 123us/step - loss: 0.2906 - val_loss: 0.3093\n",
            "Epoch 68/100\n",
            "60000/60000 [==============================] - 7s 124us/step - loss: 0.2846 - val_loss: 0.2961\n",
            "Epoch 69/100\n",
            "60000/60000 [==============================] - 7s 125us/step - loss: 0.2772 - val_loss: 0.2778\n",
            "Epoch 70/100\n",
            "60000/60000 [==============================] - 8s 125us/step - loss: 0.2756 - val_loss: 0.2978\n",
            "Epoch 71/100\n",
            "60000/60000 [==============================] - 8s 127us/step - loss: 0.2863 - val_loss: 0.2955\n",
            "Epoch 72/100\n",
            "60000/60000 [==============================] - 8s 126us/step - loss: 0.2748 - val_loss: 0.2888\n",
            "Epoch 73/100\n",
            "60000/60000 [==============================] - 7s 122us/step - loss: 0.2700 - val_loss: 0.2850\n",
            "Epoch 74/100\n",
            "60000/60000 [==============================] - 7s 121us/step - loss: 0.2619 - val_loss: 0.2754\n",
            "Epoch 75/100\n",
            "60000/60000 [==============================] - 7s 121us/step - loss: 0.2633 - val_loss: 0.2745\n",
            "Epoch 76/100\n",
            "60000/60000 [==============================] - 7s 124us/step - loss: 0.2771 - val_loss: 0.2845\n",
            "Epoch 77/100\n",
            "60000/60000 [==============================] - 7s 124us/step - loss: 0.2793 - val_loss: 0.2746\n",
            "Epoch 78/100\n",
            "60000/60000 [==============================] - 7s 122us/step - loss: 0.2654 - val_loss: 0.2651\n",
            "Epoch 79/100\n",
            "60000/60000 [==============================] - 7s 123us/step - loss: 0.2568 - val_loss: 0.2654\n",
            "Epoch 80/100\n",
            "60000/60000 [==============================] - 7s 125us/step - loss: 0.2615 - val_loss: 0.2706\n",
            "Epoch 81/100\n",
            "60000/60000 [==============================] - 8s 127us/step - loss: 0.2633 - val_loss: 0.2665\n",
            "Epoch 82/100\n",
            "60000/60000 [==============================] - 8s 126us/step - loss: 0.2539 - val_loss: 0.2487\n",
            "Epoch 83/100\n",
            "60000/60000 [==============================] - 7s 123us/step - loss: 0.2669 - val_loss: 0.2602\n",
            "Epoch 84/100\n",
            "60000/60000 [==============================] - 7s 122us/step - loss: 0.2486 - val_loss: 0.2646\n",
            "Epoch 85/100\n",
            "60000/60000 [==============================] - 7s 122us/step - loss: 0.2550 - val_loss: 0.2664\n",
            "Epoch 86/100\n",
            "60000/60000 [==============================] - 8s 125us/step - loss: 0.2512 - val_loss: 0.2620\n",
            "Epoch 87/100\n",
            "60000/60000 [==============================] - 8s 127us/step - loss: 0.2482 - val_loss: 0.2547\n",
            "Epoch 88/100\n",
            "60000/60000 [==============================] - 8s 125us/step - loss: 0.2399 - val_loss: 0.2424\n",
            "Epoch 89/100\n",
            "60000/60000 [==============================] - 7s 124us/step - loss: 0.2492 - val_loss: 0.2581\n",
            "Epoch 90/100\n",
            "60000/60000 [==============================] - 8s 126us/step - loss: 0.2514 - val_loss: 0.2648\n",
            "Epoch 91/100\n",
            "60000/60000 [==============================] - 8s 125us/step - loss: 0.2454 - val_loss: 0.2551\n",
            "Epoch 92/100\n",
            "60000/60000 [==============================] - 8s 126us/step - loss: 0.2436 - val_loss: 0.2501\n",
            "Epoch 93/100\n",
            "60000/60000 [==============================] - 7s 123us/step - loss: 0.2382 - val_loss: 0.2532\n",
            "Epoch 94/100\n",
            "60000/60000 [==============================] - 7s 124us/step - loss: 0.2480 - val_loss: 0.2530\n",
            "Epoch 95/100\n",
            "60000/60000 [==============================] - 7s 124us/step - loss: 0.2397 - val_loss: 0.2544\n",
            "Epoch 96/100\n",
            "60000/60000 [==============================] - 7s 125us/step - loss: 0.2474 - val_loss: 0.2623\n",
            "Epoch 97/100\n",
            "60000/60000 [==============================] - 7s 125us/step - loss: 0.2426 - val_loss: 0.2433\n",
            "Epoch 98/100\n",
            "60000/60000 [==============================] - 7s 124us/step - loss: 0.2387 - val_loss: 0.2422\n",
            "Epoch 99/100\n",
            "60000/60000 [==============================] - 7s 124us/step - loss: 0.2357 - val_loss: 0.2427\n",
            "Epoch 100/100\n",
            "60000/60000 [==============================] - 8s 126us/step - loss: 0.2378 - val_loss: 0.2455\n"
          ],
          "name": "stdout"
        }
      ]
    },
    {
      "metadata": {
        "id": "akSc5L5qG8dI",
        "colab_type": "code",
        "colab": {}
      },
      "cell_type": "code",
      "source": [
        "#plt.plot(learning.history['acc'])\n",
        "#plt.plot(learning.history['val_acc'])\n",
        "#plt.legend(['training', 'validation'], loc = 'upper left')\n",
        "#plt.show()"
      ],
      "execution_count": 0,
      "outputs": []
    },
    {
      "metadata": {
        "id": "JdG3bSgGLeTQ",
        "colab_type": "code",
        "colab": {
          "base_uri": "https://localhost:8080/",
          "height": 51
        },
        "outputId": "45e020c8-1a20-4f08-c941-ed4103d3fd7f"
      },
      "cell_type": "code",
      "source": [
        "results = model.evaluate(X_test, Y_test)\n",
        "print('Loss: ', results)"
      ],
      "execution_count": 16,
      "outputs": [
        {
          "output_type": "stream",
          "text": [
            "10000/10000 [==============================] - 0s 42us/step\n",
            "Loss:  0.24547635357379913\n"
          ],
          "name": "stdout"
        }
      ]
    },
    {
      "metadata": {
        "id": "uxRXqooZLw8n",
        "colab_type": "code",
        "colab": {}
      },
      "cell_type": "code",
      "source": [
        ""
      ],
      "execution_count": 0,
      "outputs": []
    }
  ]
}