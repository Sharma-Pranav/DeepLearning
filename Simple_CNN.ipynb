{
  "nbformat": 4,
  "nbformat_minor": 0,
  "metadata": {
    "colab": {
      "name": "Simple_CNN.ipynb",
      "version": "0.3.2",
      "provenance": [],
      "collapsed_sections": [],
      "include_colab_link": true
    },
    "kernelspec": {
      "name": "python3",
      "display_name": "Python 3"
    },
    "accelerator": "GPU"
  },
  "cells": [
    {
      "cell_type": "markdown",
      "metadata": {
        "id": "view-in-github",
        "colab_type": "text"
      },
      "source": [
        "<a href=\"https://colab.research.google.com/github/Sharma-Pranav/DeepLearning/blob/master/Simple_CNN.ipynb\" target=\"_parent\"><img src=\"https://colab.research.google.com/assets/colab-badge.svg\" alt=\"Open In Colab\"/></a>"
      ]
    },
    {
      "metadata": {
        "id": "HgWBwbrhuaAi",
        "colab_type": "code",
        "colab": {
          "base_uri": "https://localhost:8080/",
          "height": 34
        },
        "outputId": "4fc899d8-17d7-4cdb-ca0e-5d5f3025139c"
      },
      "cell_type": "code",
      "source": [
        "import numpy as np\n",
        "import matplotlib.pyplot as plt\n",
        "\n",
        "from keras.datasets import mnist\n",
        "from keras.utils.np_utils import to_categorical\n",
        "from keras.models import Sequential\n",
        "from keras import optimizers\n",
        "from keras.layers import Dense, Activation, Flatten, Conv2D, MaxPooling2D"
      ],
      "execution_count": 1,
      "outputs": [
        {
          "output_type": "stream",
          "text": [
            "Using TensorFlow backend.\n"
          ],
          "name": "stderr"
        }
      ]
    },
    {
      "metadata": {
        "id": "wuVP1BF5vPmu",
        "colab_type": "code",
        "colab": {
          "base_uri": "https://localhost:8080/",
          "height": 51
        },
        "outputId": "484d8957-4639-4dc3-a4c4-ccb33e3e4bce"
      },
      "cell_type": "code",
      "source": [
        "# Get the Dataset\n",
        "(X_train, Y_train), (X_test, Y_test) = mnist.load_data()"
      ],
      "execution_count": 2,
      "outputs": [
        {
          "output_type": "stream",
          "text": [
            "Downloading data from https://s3.amazonaws.com/img-datasets/mnist.npz\n",
            "11493376/11490434 [==============================] - 0s 0us/step\n"
          ],
          "name": "stdout"
        }
      ]
    },
    {
      "metadata": {
        "id": "kXwcph2cvbd1",
        "colab_type": "code",
        "colab": {}
      },
      "cell_type": "code",
      "source": [
        "#  Reshape X_data from (n,28,28) to (n, 28, 28, 1)\n",
        "X_train = X_train.reshape((X_train.shape[0], X_train.shape[1], X_train.shape[2], 1))\n",
        "X_test = X_test.reshape((X_test.shape[0], X_test.shape[1], X_test.shape[2], 1))"
      ],
      "execution_count": 0,
      "outputs": []
    },
    {
      "metadata": {
        "id": "GKGD1ZgYwMpX",
        "colab_type": "code",
        "colab": {}
      },
      "cell_type": "code",
      "source": [
        "# One Hot Encoding Y_data\n",
        "Y_train = to_categorical(Y_train)\n",
        "Y_test = to_categorical(Y_test)"
      ],
      "execution_count": 0,
      "outputs": []
    },
    {
      "metadata": {
        "id": "wNNAxmoawZa8",
        "colab_type": "code",
        "colab": {}
      },
      "cell_type": "code",
      "source": [
        "def cnn():\n",
        "  'Creates a CNN every time this function is called'\n",
        "  model = Sequential()\n",
        "  model.add(Conv2D(input_shape = (X_train.shape[1], X_train.shape[2], X_train.shape[3]), filters = 50, kernel_size = (3,3), strides = (1,1), padding = 'same'))\n",
        "  model.add(Activation('relu'))\n",
        "  model.add(MaxPooling2D(pool_size = (2,2)))\n",
        "  model.add(Flatten())\n",
        "  model.add(Dense(50, activation = 'relu'))\n",
        "  model.add(Dense(10, activation = 'softmax'))\n",
        "  \n",
        "  adam = optimizers.Adam()\n",
        "  model.compile(loss = 'categorical_crossentropy', optimizer = adam, metrics = ['accuracy'])\n",
        "  return model"
      ],
      "execution_count": 0,
      "outputs": []
    },
    {
      "metadata": {
        "id": "4kAb5O0Xxp2v",
        "colab_type": "code",
        "colab": {
          "base_uri": "https://localhost:8080/",
          "height": 68
        },
        "outputId": "0d3fab2a-dbac-493e-de7d-a6bbc2bf095d"
      },
      "cell_type": "code",
      "source": [
        "model = cnn()"
      ],
      "execution_count": 6,
      "outputs": [
        {
          "output_type": "stream",
          "text": [
            "WARNING:tensorflow:From /usr/local/lib/python3.6/dist-packages/tensorflow/python/framework/op_def_library.py:263: colocate_with (from tensorflow.python.framework.ops) is deprecated and will be removed in a future version.\n",
            "Instructions for updating:\n",
            "Colocations handled automatically by placer.\n"
          ],
          "name": "stdout"
        }
      ]
    },
    {
      "metadata": {
        "id": "ZvdZbpppxv6g",
        "colab_type": "code",
        "colab": {
          "base_uri": "https://localhost:8080/",
          "height": 3485
        },
        "outputId": "20bfb588-9ab4-472f-ef17-e5570836c5ab"
      },
      "cell_type": "code",
      "source": [
        "training_history = model.fit(X_train, Y_train, batch_size = 50, validation_split = 0.2, epochs = 100, verbose = 1)"
      ],
      "execution_count": 7,
      "outputs": [
        {
          "output_type": "stream",
          "text": [
            "WARNING:tensorflow:From /usr/local/lib/python3.6/dist-packages/tensorflow/python/ops/math_ops.py:3066: to_int32 (from tensorflow.python.ops.math_ops) is deprecated and will be removed in a future version.\n",
            "Instructions for updating:\n",
            "Use tf.cast instead.\n",
            "Train on 48000 samples, validate on 12000 samples\n",
            "Epoch 1/100\n",
            "48000/48000 [==============================] - 12s 256us/step - loss: 8.3853 - acc: 0.4743 - val_loss: 6.7397 - val_acc: 0.5757\n",
            "Epoch 2/100\n",
            "48000/48000 [==============================] - 8s 160us/step - loss: 1.3139 - acc: 0.8870 - val_loss: 0.1122 - val_acc: 0.9664\n",
            "Epoch 3/100\n",
            "48000/48000 [==============================] - 8s 160us/step - loss: 0.0639 - acc: 0.9801 - val_loss: 0.0921 - val_acc: 0.9753\n",
            "Epoch 4/100\n",
            "48000/48000 [==============================] - 8s 161us/step - loss: 0.0348 - acc: 0.9890 - val_loss: 0.0934 - val_acc: 0.9777\n",
            "Epoch 5/100\n",
            "48000/48000 [==============================] - 8s 159us/step - loss: 0.0258 - acc: 0.9916 - val_loss: 0.0966 - val_acc: 0.9771\n",
            "Epoch 6/100\n",
            "48000/48000 [==============================] - 8s 161us/step - loss: 0.0195 - acc: 0.9936 - val_loss: 0.1005 - val_acc: 0.9779\n",
            "Epoch 7/100\n",
            "48000/48000 [==============================] - 8s 160us/step - loss: 0.0195 - acc: 0.9936 - val_loss: 0.1221 - val_acc: 0.9778\n",
            "Epoch 8/100\n",
            "48000/48000 [==============================] - 8s 161us/step - loss: 0.0186 - acc: 0.9942 - val_loss: 0.1443 - val_acc: 0.9735\n",
            "Epoch 9/100\n",
            "48000/48000 [==============================] - 8s 160us/step - loss: 0.0155 - acc: 0.9953 - val_loss: 0.1434 - val_acc: 0.9753\n",
            "Epoch 10/100\n",
            "48000/48000 [==============================] - 8s 160us/step - loss: 0.0143 - acc: 0.9956 - val_loss: 0.1512 - val_acc: 0.9743\n",
            "Epoch 11/100\n",
            "48000/48000 [==============================] - 8s 159us/step - loss: 0.0118 - acc: 0.9966 - val_loss: 0.1439 - val_acc: 0.9782\n",
            "Epoch 12/100\n",
            "48000/48000 [==============================] - 8s 160us/step - loss: 0.0156 - acc: 0.9955 - val_loss: 0.1453 - val_acc: 0.9769\n",
            "Epoch 13/100\n",
            "48000/48000 [==============================] - 8s 160us/step - loss: 0.0153 - acc: 0.9959 - val_loss: 0.1698 - val_acc: 0.9763\n",
            "Epoch 14/100\n",
            "48000/48000 [==============================] - 8s 161us/step - loss: 0.0084 - acc: 0.9972 - val_loss: 0.1574 - val_acc: 0.9776\n",
            "Epoch 15/100\n",
            "48000/48000 [==============================] - 8s 160us/step - loss: 0.0124 - acc: 0.9965 - val_loss: 0.1681 - val_acc: 0.9762\n",
            "Epoch 16/100\n",
            "48000/48000 [==============================] - 8s 161us/step - loss: 0.0086 - acc: 0.9978 - val_loss: 0.1733 - val_acc: 0.9792\n",
            "Epoch 17/100\n",
            "48000/48000 [==============================] - 8s 159us/step - loss: 0.0125 - acc: 0.9968 - val_loss: 0.1886 - val_acc: 0.9765\n",
            "Epoch 18/100\n",
            "48000/48000 [==============================] - 8s 160us/step - loss: 0.0102 - acc: 0.9973 - val_loss: 0.1749 - val_acc: 0.9788\n",
            "Epoch 19/100\n",
            "48000/48000 [==============================] - 8s 160us/step - loss: 0.0109 - acc: 0.9973 - val_loss: 0.1683 - val_acc: 0.9793\n",
            "Epoch 20/100\n",
            "48000/48000 [==============================] - 8s 160us/step - loss: 0.0057 - acc: 0.9985 - val_loss: 0.1753 - val_acc: 0.9796\n",
            "Epoch 21/100\n",
            "48000/48000 [==============================] - 8s 160us/step - loss: 0.0134 - acc: 0.9965 - val_loss: 0.1870 - val_acc: 0.9782\n",
            "Epoch 22/100\n",
            "48000/48000 [==============================] - 8s 160us/step - loss: 0.0094 - acc: 0.9980 - val_loss: 0.1739 - val_acc: 0.9793\n",
            "Epoch 23/100\n",
            "48000/48000 [==============================] - 8s 160us/step - loss: 0.0074 - acc: 0.9979 - val_loss: 0.1750 - val_acc: 0.9812\n",
            "Epoch 24/100\n",
            "48000/48000 [==============================] - 8s 160us/step - loss: 0.0108 - acc: 0.9979 - val_loss: 0.1975 - val_acc: 0.9782\n",
            "Epoch 25/100\n",
            "48000/48000 [==============================] - 8s 160us/step - loss: 0.0073 - acc: 0.9984 - val_loss: 0.1910 - val_acc: 0.9783\n",
            "Epoch 26/100\n",
            "48000/48000 [==============================] - 8s 160us/step - loss: 0.0166 - acc: 0.9968 - val_loss: 0.2202 - val_acc: 0.9782\n",
            "Epoch 27/100\n",
            "48000/48000 [==============================] - 8s 160us/step - loss: 0.0124 - acc: 0.9978 - val_loss: 0.2152 - val_acc: 0.9773\n",
            "Epoch 28/100\n",
            "48000/48000 [==============================] - 8s 160us/step - loss: 0.0086 - acc: 0.9984 - val_loss: 0.2030 - val_acc: 0.9800\n",
            "Epoch 29/100\n",
            "48000/48000 [==============================] - 8s 159us/step - loss: 0.0091 - acc: 0.9982 - val_loss: 0.2139 - val_acc: 0.9788\n",
            "Epoch 30/100\n",
            "48000/48000 [==============================] - 8s 161us/step - loss: 0.0077 - acc: 0.9982 - val_loss: 0.2214 - val_acc: 0.9782\n",
            "Epoch 31/100\n",
            "48000/48000 [==============================] - 8s 160us/step - loss: 0.0091 - acc: 0.9984 - val_loss: 0.2125 - val_acc: 0.9809\n",
            "Epoch 32/100\n",
            "48000/48000 [==============================] - 8s 159us/step - loss: 0.0131 - acc: 0.9979 - val_loss: 0.2554 - val_acc: 0.9764\n",
            "Epoch 33/100\n",
            "48000/48000 [==============================] - 8s 160us/step - loss: 0.0081 - acc: 0.9986 - val_loss: 0.2283 - val_acc: 0.9788\n",
            "Epoch 34/100\n",
            "48000/48000 [==============================] - 8s 160us/step - loss: 0.0107 - acc: 0.9981 - val_loss: 0.2219 - val_acc: 0.9804\n",
            "Epoch 35/100\n",
            "48000/48000 [==============================] - 8s 160us/step - loss: 0.0097 - acc: 0.9984 - val_loss: 0.2580 - val_acc: 0.9769\n",
            "Epoch 36/100\n",
            "48000/48000 [==============================] - 8s 160us/step - loss: 0.0074 - acc: 0.9988 - val_loss: 0.2370 - val_acc: 0.9790\n",
            "Epoch 37/100\n",
            "48000/48000 [==============================] - 8s 160us/step - loss: 0.0063 - acc: 0.9989 - val_loss: 0.2268 - val_acc: 0.9797\n",
            "Epoch 38/100\n",
            "48000/48000 [==============================] - 8s 160us/step - loss: 0.0127 - acc: 0.9980 - val_loss: 0.2403 - val_acc: 0.9793\n",
            "Epoch 39/100\n",
            "48000/48000 [==============================] - 8s 160us/step - loss: 0.0102 - acc: 0.9985 - val_loss: 0.2523 - val_acc: 0.9774\n",
            "Epoch 40/100\n",
            "48000/48000 [==============================] - 8s 160us/step - loss: 0.0088 - acc: 0.9986 - val_loss: 0.2415 - val_acc: 0.9802\n",
            "Epoch 41/100\n",
            "48000/48000 [==============================] - 8s 160us/step - loss: 0.0099 - acc: 0.9987 - val_loss: 0.2642 - val_acc: 0.9763\n",
            "Epoch 42/100\n",
            "48000/48000 [==============================] - 8s 160us/step - loss: 0.0132 - acc: 0.9980 - val_loss: 0.2658 - val_acc: 0.9767\n",
            "Epoch 43/100\n",
            "48000/48000 [==============================] - 8s 160us/step - loss: 0.0131 - acc: 0.9983 - val_loss: 0.2441 - val_acc: 0.9803\n",
            "Epoch 44/100\n",
            "48000/48000 [==============================] - 8s 160us/step - loss: 0.0102 - acc: 0.9985 - val_loss: 0.2435 - val_acc: 0.9793\n",
            "Epoch 45/100\n",
            "48000/48000 [==============================] - 8s 160us/step - loss: 0.0093 - acc: 0.9988 - val_loss: 0.2506 - val_acc: 0.9795\n",
            "Epoch 46/100\n",
            "48000/48000 [==============================] - 8s 160us/step - loss: 0.0099 - acc: 0.9986 - val_loss: 0.2478 - val_acc: 0.9800\n",
            "Epoch 47/100\n",
            "48000/48000 [==============================] - 8s 160us/step - loss: 0.0122 - acc: 0.9987 - val_loss: 0.2538 - val_acc: 0.9802\n",
            "Epoch 48/100\n",
            "48000/48000 [==============================] - 8s 159us/step - loss: 0.0143 - acc: 0.9984 - val_loss: 0.2633 - val_acc: 0.9774\n",
            "Epoch 49/100\n",
            "48000/48000 [==============================] - 8s 162us/step - loss: 0.0142 - acc: 0.9981 - val_loss: 0.2405 - val_acc: 0.9808\n",
            "Epoch 50/100\n",
            "48000/48000 [==============================] - 8s 160us/step - loss: 0.0094 - acc: 0.9989 - val_loss: 0.2555 - val_acc: 0.9801\n",
            "Epoch 51/100\n",
            "48000/48000 [==============================] - 8s 159us/step - loss: 0.0084 - acc: 0.9988 - val_loss: 0.2527 - val_acc: 0.9806\n",
            "Epoch 52/100\n",
            "48000/48000 [==============================] - 8s 159us/step - loss: 0.0193 - acc: 0.9980 - val_loss: 0.2653 - val_acc: 0.9798\n",
            "Epoch 53/100\n",
            "48000/48000 [==============================] - 8s 160us/step - loss: 0.0147 - acc: 0.9983 - val_loss: 0.2359 - val_acc: 0.9816\n",
            "Epoch 54/100\n",
            "48000/48000 [==============================] - 8s 160us/step - loss: 0.0087 - acc: 0.9988 - val_loss: 0.2709 - val_acc: 0.9790\n",
            "Epoch 55/100\n",
            "48000/48000 [==============================] - 8s 159us/step - loss: 0.0085 - acc: 0.9989 - val_loss: 0.2299 - val_acc: 0.9827\n",
            "Epoch 56/100\n",
            "48000/48000 [==============================] - 8s 161us/step - loss: 0.0118 - acc: 0.9987 - val_loss: 0.2864 - val_acc: 0.9781\n",
            "Epoch 57/100\n",
            "48000/48000 [==============================] - 8s 160us/step - loss: 0.0074 - acc: 0.9990 - val_loss: 0.2747 - val_acc: 0.9784\n",
            "Epoch 58/100\n",
            "48000/48000 [==============================] - 8s 160us/step - loss: 0.0118 - acc: 0.9986 - val_loss: 0.2655 - val_acc: 0.9791\n",
            "Epoch 59/100\n",
            "48000/48000 [==============================] - 8s 159us/step - loss: 0.0093 - acc: 0.9989 - val_loss: 0.2655 - val_acc: 0.9798\n",
            "Epoch 60/100\n",
            "48000/48000 [==============================] - 8s 160us/step - loss: 0.0141 - acc: 0.9984 - val_loss: 0.2702 - val_acc: 0.9798\n",
            "Epoch 61/100\n",
            "48000/48000 [==============================] - 8s 160us/step - loss: 0.0141 - acc: 0.9985 - val_loss: 0.2490 - val_acc: 0.9811\n",
            "Epoch 62/100\n",
            "48000/48000 [==============================] - 8s 160us/step - loss: 0.0110 - acc: 0.9988 - val_loss: 0.2675 - val_acc: 0.9808\n",
            "Epoch 63/100\n",
            "48000/48000 [==============================] - 8s 160us/step - loss: 0.0187 - acc: 0.9983 - val_loss: 0.2809 - val_acc: 0.9782\n",
            "Epoch 64/100\n",
            "48000/48000 [==============================] - 8s 160us/step - loss: 0.0115 - acc: 0.9989 - val_loss: 0.2799 - val_acc: 0.9788\n",
            "Epoch 65/100\n",
            "48000/48000 [==============================] - 8s 159us/step - loss: 0.0067 - acc: 0.9992 - val_loss: 0.2756 - val_acc: 0.9794\n",
            "Epoch 66/100\n",
            "48000/48000 [==============================] - 8s 161us/step - loss: 0.0228 - acc: 0.9978 - val_loss: 0.2658 - val_acc: 0.9805\n",
            "Epoch 67/100\n",
            "48000/48000 [==============================] - 8s 160us/step - loss: 0.0125 - acc: 0.9986 - val_loss: 0.2846 - val_acc: 0.9793\n",
            "Epoch 68/100\n",
            "48000/48000 [==============================] - 8s 160us/step - loss: 0.0139 - acc: 0.9986 - val_loss: 0.2513 - val_acc: 0.9813\n",
            "Epoch 69/100\n",
            "48000/48000 [==============================] - 8s 160us/step - loss: 0.0128 - acc: 0.9987 - val_loss: 0.2784 - val_acc: 0.9802\n",
            "Epoch 70/100\n",
            "48000/48000 [==============================] - 8s 160us/step - loss: 0.0161 - acc: 0.9983 - val_loss: 0.2706 - val_acc: 0.9798\n",
            "Epoch 71/100\n",
            "48000/48000 [==============================] - 8s 160us/step - loss: 0.0125 - acc: 0.9989 - val_loss: 0.2729 - val_acc: 0.9805\n",
            "Epoch 72/100\n",
            "48000/48000 [==============================] - 8s 159us/step - loss: 0.0105 - acc: 0.9989 - val_loss: 0.2531 - val_acc: 0.9815\n",
            "Epoch 73/100\n",
            "48000/48000 [==============================] - 8s 160us/step - loss: 0.0142 - acc: 0.9986 - val_loss: 0.2898 - val_acc: 0.9790\n",
            "Epoch 74/100\n",
            "48000/48000 [==============================] - 8s 160us/step - loss: 0.0150 - acc: 0.9985 - val_loss: 0.2528 - val_acc: 0.9810\n",
            "Epoch 75/100\n",
            "48000/48000 [==============================] - 8s 160us/step - loss: 0.0102 - acc: 0.9991 - val_loss: 0.2662 - val_acc: 0.9810\n",
            "Epoch 76/100\n",
            "48000/48000 [==============================] - 8s 159us/step - loss: 0.0124 - acc: 0.9987 - val_loss: 0.2771 - val_acc: 0.9806\n",
            "Epoch 77/100\n",
            "48000/48000 [==============================] - 8s 161us/step - loss: 0.0115 - acc: 0.9990 - val_loss: 0.2751 - val_acc: 0.9808\n",
            "Epoch 78/100\n",
            "48000/48000 [==============================] - 8s 160us/step - loss: 0.0130 - acc: 0.9988 - val_loss: 0.2398 - val_acc: 0.9831\n",
            "Epoch 79/100\n",
            "48000/48000 [==============================] - 8s 160us/step - loss: 0.0203 - acc: 0.9982 - val_loss: 0.2611 - val_acc: 0.9823\n",
            "Epoch 80/100\n",
            "48000/48000 [==============================] - 8s 159us/step - loss: 0.0150 - acc: 0.9987 - val_loss: 0.2785 - val_acc: 0.9811\n",
            "Epoch 81/100\n",
            "48000/48000 [==============================] - 8s 160us/step - loss: 0.0183 - acc: 0.9984 - val_loss: 0.3112 - val_acc: 0.9787\n",
            "Epoch 82/100\n",
            "48000/48000 [==============================] - 8s 159us/step - loss: 0.0206 - acc: 0.9983 - val_loss: 0.2888 - val_acc: 0.9800\n",
            "Epoch 83/100\n",
            "48000/48000 [==============================] - 8s 159us/step - loss: 0.0119 - acc: 0.9990 - val_loss: 0.2573 - val_acc: 0.9819\n",
            "Epoch 84/100\n",
            "48000/48000 [==============================] - 8s 159us/step - loss: 0.0182 - acc: 0.9985 - val_loss: 0.2674 - val_acc: 0.9816\n",
            "Epoch 85/100\n",
            "48000/48000 [==============================] - 8s 159us/step - loss: 0.0207 - acc: 0.9983 - val_loss: 0.2971 - val_acc: 0.9794\n",
            "Epoch 86/100\n",
            "48000/48000 [==============================] - 8s 159us/step - loss: 0.0194 - acc: 0.9984 - val_loss: 0.2925 - val_acc: 0.9803\n",
            "Epoch 87/100\n",
            "48000/48000 [==============================] - 8s 159us/step - loss: 0.0117 - acc: 0.9990 - val_loss: 0.2623 - val_acc: 0.9823\n",
            "Epoch 88/100\n",
            "48000/48000 [==============================] - 8s 159us/step - loss: 0.0140 - acc: 0.9988 - val_loss: 0.2745 - val_acc: 0.9813\n",
            "Epoch 89/100\n",
            "48000/48000 [==============================] - 8s 159us/step - loss: 0.0109 - acc: 0.9991 - val_loss: 0.2741 - val_acc: 0.9814\n",
            "Epoch 90/100\n",
            "48000/48000 [==============================] - 8s 159us/step - loss: 0.0203 - acc: 0.9983 - val_loss: 0.2405 - val_acc: 0.9839\n",
            "Epoch 91/100\n",
            "48000/48000 [==============================] - 8s 159us/step - loss: 0.0091 - acc: 0.9992 - val_loss: 0.2645 - val_acc: 0.9822\n",
            "Epoch 92/100\n",
            "48000/48000 [==============================] - 8s 160us/step - loss: 0.0180 - acc: 0.9986 - val_loss: 0.2788 - val_acc: 0.9808\n",
            "Epoch 93/100\n",
            "48000/48000 [==============================] - 8s 159us/step - loss: 0.0218 - acc: 0.9981 - val_loss: 0.2674 - val_acc: 0.9819\n",
            "Epoch 94/100\n",
            "48000/48000 [==============================] - 8s 159us/step - loss: 0.0214 - acc: 0.9984 - val_loss: 0.2791 - val_acc: 0.9810\n",
            "Epoch 95/100\n",
            "48000/48000 [==============================] - 8s 159us/step - loss: 0.0174 - acc: 0.9987 - val_loss: 0.2489 - val_acc: 0.9829\n",
            "Epoch 96/100\n",
            "48000/48000 [==============================] - 8s 159us/step - loss: 0.0164 - acc: 0.9987 - val_loss: 0.3003 - val_acc: 0.9794\n",
            "Epoch 97/100\n",
            "48000/48000 [==============================] - 8s 161us/step - loss: 0.0207 - acc: 0.9984 - val_loss: 0.2683 - val_acc: 0.9814\n",
            "Epoch 98/100\n",
            "48000/48000 [==============================] - 8s 159us/step - loss: 0.0139 - acc: 0.9989 - val_loss: 0.2633 - val_acc: 0.9827\n",
            "Epoch 99/100\n",
            "48000/48000 [==============================] - 8s 159us/step - loss: 0.0186 - acc: 0.9984 - val_loss: 0.2703 - val_acc: 0.9818\n",
            "Epoch 100/100\n",
            "48000/48000 [==============================] - 8s 159us/step - loss: 0.0125 - acc: 0.9990 - val_loss: 0.2371 - val_acc: 0.9832\n"
          ],
          "name": "stdout"
        }
      ]
    },
    {
      "metadata": {
        "id": "TookrmuFyA8J",
        "colab_type": "code",
        "colab": {
          "base_uri": "https://localhost:8080/",
          "height": 364
        },
        "outputId": "a41612aa-5ab9-465d-c1d3-a9d28b1b63f3"
      },
      "cell_type": "code",
      "source": [
        "plt.plot(training_history.history['acc'])\n",
        "plt.plot(training_history.history['val_acc'])\n",
        "plt.legend(['training', 'validation'], loc = 'upper left')"
      ],
      "execution_count": 9,
      "outputs": [
        {
          "output_type": "execute_result",
          "data": {
            "text/plain": [
              "<matplotlib.legend.Legend at 0x7fc2001bbc88>"
            ]
          },
          "metadata": {
            "tags": []
          },
          "execution_count": 9
        },
        {
          "output_type": "display_data",
          "data": {
            "image/png": "[encoded data removed]",
            "text/plain": [
              "<Figure size 576x396 with 1 Axes>"
            ]
          },
          "metadata": {
            "tags": []
          }
        }
      ]
    },
    {
      "metadata": {
        "id": "Nabk5kgays_c",
        "colab_type": "code",
        "colab": {
          "base_uri": "https://localhost:8080/",
          "height": 51
        },
        "outputId": "ecdf33c2-bc02-4182-c59c-2a1536b13d3b"
      },
      "cell_type": "code",
      "source": [
        "results = model.evaluate(X_test, Y_test)\n",
        "print('Test Accuracy', results[1])"
      ],
      "execution_count": 10,
      "outputs": [
        {
          "output_type": "stream",
          "text": [
            "10000/10000 [==============================] - 1s 72us/step\n",
            "Test Accuracy 0.9806\n"
          ],
          "name": "stdout"
        }
      ]
    },
    {
      "metadata": {
        "id": "XRjehty35seE",
        "colab_type": "code",
        "colab": {}
      },
      "cell_type": "code",
      "source": [
        ""
      ],
      "execution_count": 0,
      "outputs": []
    }
  ]
}