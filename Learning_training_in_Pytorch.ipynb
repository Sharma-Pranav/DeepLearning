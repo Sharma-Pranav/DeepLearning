{
  "nbformat": 4,
  "nbformat_minor": 0,
  "metadata": {
    "colab": {
      "name": "Learning_training_in_Pytorch.ipynb",
      "version": "0.3.2",
      "provenance": [],
      "collapsed_sections": [],
      "include_colab_link": true
    },
    "kernelspec": {
      "name": "python3",
      "display_name": "Python 3"
    },
    "accelerator": "GPU"
  },
  "cells": [
    {
      "cell_type": "markdown",
      "metadata": {
        "id": "view-in-github",
        "colab_type": "text"
      },
      "source": [
        "<a href=\"https://colab.research.google.com/github/Sharma-Pranav/DeepLearning/blob/master/Learning_training_in_Pytorch.ipynb\" target=\"_parent\"><img src=\"https://colab.research.google.com/assets/colab-badge.svg\" alt=\"Open In Colab\"/></a>"
      ]
    },
    {
      "cell_type": "code",
      "metadata": {
        "id": "dkm61cnbw9bE",
        "colab_type": "code",
        "colab": {}
      },
      "source": [
        "import torch\n",
        "from torch import nn\n",
        "import torch.nn.functional as F\n",
        "from torchvision import datasets, transforms"
      ],
      "execution_count": 0,
      "outputs": []
    },
    {
      "cell_type": "code",
      "metadata": {
        "id": "ciSjUICs2d4s",
        "colab_type": "code",
        "colab": {}
      },
      "source": [
        "# Define a transform to normalize the data\n",
        "transform = transforms.Compose([transforms.ToTensor(),\n",
        "                                transforms.Normalize((0.5,), (0.5,)),\n",
        "                              ])\n",
        "# Download and load the training data\n",
        "trainset = datasets.MNIST('~/.pytorch/MNIST_data/', download=True, train=True, transform=transform)\n",
        "trainloader = torch.utils.data.DataLoader(trainset, batch_size=64, shuffle=True)"
      ],
      "execution_count": 0,
      "outputs": []
    },
    {
      "cell_type": "code",
      "metadata": {
        "id": "G68HZDig2n2R",
        "colab_type": "code",
        "colab": {}
      },
      "source": [
        "\n",
        "model = nn.Sequential(nn.Linear(784, 128), nn.ReLU(), nn.Linear(128, 64), nn.ReLU(), nn.Linear(64, 10))"
      ],
      "execution_count": 0,
      "outputs": []
    },
    {
      "cell_type": "code",
      "metadata": {
        "id": "1YR2Oyw83Pwk",
        "colab_type": "code",
        "colab": {
          "base_uri": "https://localhost:8080/",
          "height": 34
        },
        "outputId": "f165d667-0a0f-40f3-f97c-7071600939fc"
      },
      "source": [
        "criterion = nn.CrossEntropyLoss()\n",
        "\n",
        "# Get Data\n",
        "images, labels = next(iter(trainloader))\n",
        "# Flatten Images\n",
        "images = images.view(images.shape[0], -1)\n",
        "\n",
        "#Forward Pass\n",
        "logits = model(images)\n",
        "\n",
        "# Calculate Loss\n",
        "loss = criterion(logits , labels)\n",
        "print(loss)"
      ],
      "execution_count": 4,
      "outputs": [
        {
          "output_type": "stream",
          "text": [
            "tensor(2.3349, grad_fn=<NllLossBackward>)\n"
          ],
          "name": "stdout"
        }
      ]
    },
    {
      "cell_type": "code",
      "metadata": {
        "id": "bitjC6wG670m",
        "colab_type": "code",
        "colab": {
          "base_uri": "https://localhost:8080/",
          "height": 34
        },
        "outputId": "52b1686b-045f-4cdb-d3f3-70c975d04e55"
      },
      "source": [
        "# Build a feed-forward network with logsoftmax as output\n",
        "model = nn.Sequential(nn.Linear(784, 128),\n",
        "                      nn.ReLU(),\n",
        "                      nn.Linear(128, 64),\n",
        "                      nn.ReLU(),\n",
        "                      nn.Linear(64, 10),\n",
        "                      nn.LogSoftmax(dim=1))\n",
        "\n",
        "# Define the loss\n",
        "criterion = nn.NLLLoss()\n",
        "\n",
        "# Get our data\n",
        "images, labels = next(iter(trainloader))\n",
        "# Flatten images\n",
        "images = images.view(images.shape[0], -1)\n",
        "\n",
        "# Forward pass, get our log-probabilities\n",
        "logps = model(images)\n",
        "# Calculate the loss with the logps and the labels\n",
        "loss = criterion(logps, labels)\n",
        "\n",
        "print(loss)"
      ],
      "execution_count": 5,
      "outputs": [
        {
          "output_type": "stream",
          "text": [
            "tensor(2.3152, grad_fn=<NllLossBackward>)\n"
          ],
          "name": "stdout"
        }
      ]
    },
    {
      "cell_type": "code",
      "metadata": {
        "id": "DmOmA6W-7Juk",
        "colab_type": "code",
        "colab": {
          "base_uri": "https://localhost:8080/",
          "height": 51
        },
        "outputId": "6d356b7b-9169-4e01-8493-92eb22d792b3"
      },
      "source": [
        "# Example of Autograd (backprop) with gradients\n",
        "\n",
        "# Enable tracking of gradients\n",
        "x = torch.randn(2,2, requires_grad=True)\n",
        "print(x)"
      ],
      "execution_count": 6,
      "outputs": [
        {
          "output_type": "stream",
          "text": [
            "tensor([[-1.4056,  1.1540],\n",
            "        [ 0.3115,  0.8777]], requires_grad=True)\n"
          ],
          "name": "stdout"
        }
      ]
    },
    {
      "cell_type": "code",
      "metadata": {
        "id": "6LWV2f7h9V6I",
        "colab_type": "code",
        "colab": {
          "base_uri": "https://localhost:8080/",
          "height": 51
        },
        "outputId": "fc2b897e-e7c5-4094-b7ac-6d078dbd024d"
      },
      "source": [
        "\n",
        "y = x**2\n",
        "print(y)"
      ],
      "execution_count": 7,
      "outputs": [
        {
          "output_type": "stream",
          "text": [
            "tensor([[1.9756, 1.3318],\n",
            "        [0.0970, 0.7704]], grad_fn=<PowBackward0>)\n"
          ],
          "name": "stdout"
        }
      ]
    },
    {
      "cell_type": "code",
      "metadata": {
        "id": "c-r1XJDS9ZDn",
        "colab_type": "code",
        "colab": {
          "base_uri": "https://localhost:8080/",
          "height": 34
        },
        "outputId": "5dd7c4dd-91f3-4ed5-a3a3-399e82d66ce6"
      },
      "source": [
        "print(y.grad_fn)"
      ],
      "execution_count": 8,
      "outputs": [
        {
          "output_type": "stream",
          "text": [
            "<PowBackward0 object at 0x7fbcef918048>\n"
          ],
          "name": "stdout"
        }
      ]
    },
    {
      "cell_type": "code",
      "metadata": {
        "id": "XOOP0c979gpG",
        "colab_type": "code",
        "colab": {
          "base_uri": "https://localhost:8080/",
          "height": 34
        },
        "outputId": "039a83f7-767c-49a7-db73-b843fba854b2"
      },
      "source": [
        "z = y.mean()\n",
        "print(z)"
      ],
      "execution_count": 9,
      "outputs": [
        {
          "output_type": "stream",
          "text": [
            "tensor(1.0437, grad_fn=<MeanBackward0>)\n"
          ],
          "name": "stdout"
        }
      ]
    },
    {
      "cell_type": "code",
      "metadata": {
        "id": "tUM52J609iy_",
        "colab_type": "code",
        "colab": {
          "base_uri": "https://localhost:8080/",
          "height": 34
        },
        "outputId": "5fa72217-3ebc-49af-a628-75352205dd4b"
      },
      "source": [
        "print(x.grad)"
      ],
      "execution_count": 10,
      "outputs": [
        {
          "output_type": "stream",
          "text": [
            "None\n"
          ],
          "name": "stdout"
        }
      ]
    },
    {
      "cell_type": "code",
      "metadata": {
        "id": "CvgUBtbU9l1V",
        "colab_type": "code",
        "colab": {
          "base_uri": "https://localhost:8080/",
          "height": 85
        },
        "outputId": "2707f348-81a7-413e-9d14-ea558e3acabc"
      },
      "source": [
        "z.backward()\n",
        "print(x.grad)\n",
        "print(x/2)"
      ],
      "execution_count": 11,
      "outputs": [
        {
          "output_type": "stream",
          "text": [
            "tensor([[-0.7028,  0.5770],\n",
            "        [ 0.1557,  0.4389]])\n",
            "tensor([[-0.7028,  0.5770],\n",
            "        [ 0.1557,  0.4389]], grad_fn=<DivBackward0>)\n"
          ],
          "name": "stdout"
        }
      ]
    },
    {
      "cell_type": "code",
      "metadata": {
        "id": "_6KK01bR9qEe",
        "colab_type": "code",
        "colab": {}
      },
      "source": [
        "# Build a feed-forward network\n",
        "model = nn.Sequential(nn.Linear(784, 128),\n",
        "                      nn.ReLU(),\n",
        "                      nn.Linear(128, 64),\n",
        "                      nn.ReLU(),\n",
        "                      nn.Linear(64, 10),\n",
        "                      nn.LogSoftmax(dim=1))\n",
        "\n",
        "criterion = nn.NLLLoss()\n",
        "images, labels = next(iter(trainloader))\n",
        "images = images.view(images.shape[0], -1)\n",
        "\n",
        "logps = model(images)\n",
        "loss = criterion(logps, labels)"
      ],
      "execution_count": 0,
      "outputs": []
    },
    {
      "cell_type": "code",
      "metadata": {
        "id": "bvsDySSZ9ywx",
        "colab_type": "code",
        "colab": {
          "base_uri": "https://localhost:8080/",
          "height": 187
        },
        "outputId": "1535ab78-2f5a-4049-e801-54c414a80734"
      },
      "source": [
        "print('Before backward pass: \\n', model[0].weight.grad)\n",
        "\n",
        "loss.backward()\n",
        "\n",
        "print('After backward pass: \\n', model[0].weight.grad)"
      ],
      "execution_count": 13,
      "outputs": [
        {
          "output_type": "stream",
          "text": [
            "Before backward pass: \n",
            " None\n",
            "After backward pass: \n",
            " tensor([[ 0.0011,  0.0011,  0.0011,  ...,  0.0011,  0.0011,  0.0011],\n",
            "        [ 0.0011,  0.0011,  0.0011,  ...,  0.0011,  0.0011,  0.0011],\n",
            "        [ 0.0003,  0.0003,  0.0003,  ...,  0.0003,  0.0003,  0.0003],\n",
            "        ...,\n",
            "        [-0.0082, -0.0082, -0.0082,  ..., -0.0082, -0.0082, -0.0082],\n",
            "        [-0.0017, -0.0017, -0.0017,  ..., -0.0017, -0.0017, -0.0017],\n",
            "        [-0.0050, -0.0050, -0.0050,  ..., -0.0050, -0.0050, -0.0050]])\n"
          ],
          "name": "stdout"
        }
      ]
    },
    {
      "cell_type": "code",
      "metadata": {
        "id": "rKM4s32f91Fd",
        "colab_type": "code",
        "colab": {}
      },
      "source": [
        "# Understanding optimizers\n",
        "from torch import optim\n",
        "\n",
        "# Optimizers require the parameters to optimize and a learning rate\n",
        "optimizer = optim.SGD(model.parameters(), lr=0.01)"
      ],
      "execution_count": 0,
      "outputs": []
    },
    {
      "cell_type": "code",
      "metadata": {
        "id": "0vLzuWSy--HI",
        "colab_type": "code",
        "colab": {
          "base_uri": "https://localhost:8080/",
          "height": 391
        },
        "outputId": "e39b88c0-57d8-40b3-a90e-b09a435d8756"
      },
      "source": [
        "print('Initial weights - ', model[0].weight)\n",
        "\n",
        "images, labels = next(iter(trainloader))\n",
        "images.resize_(64, 784)\n",
        "\n",
        "# Clear the gradients, do this because gradients are accumulated\n",
        "optimizer.zero_grad()\n",
        "\n",
        "# Forward pass, then backward pass, then update weights\n",
        "output = model(images)\n",
        "loss = criterion(output, labels)\n",
        "loss.backward()\n",
        "print('Gradient -', model[0].weight.grad)"
      ],
      "execution_count": 15,
      "outputs": [
        {
          "output_type": "stream",
          "text": [
            "Initial weights -  Parameter containing:\n",
            "tensor([[ 0.0351, -0.0341, -0.0304,  ..., -0.0224, -0.0205, -0.0286],\n",
            "        [ 0.0148,  0.0204, -0.0121,  ...,  0.0121, -0.0006,  0.0136],\n",
            "        [ 0.0305, -0.0155, -0.0012,  ...,  0.0260,  0.0288, -0.0316],\n",
            "        ...,\n",
            "        [ 0.0175, -0.0040, -0.0306,  ..., -0.0230, -0.0014,  0.0206],\n",
            "        [ 0.0340, -0.0179,  0.0211,  ...,  0.0049, -0.0189,  0.0100],\n",
            "        [ 0.0093, -0.0328, -0.0158,  ..., -0.0145, -0.0164,  0.0074]],\n",
            "       requires_grad=True)\n",
            "Gradient - tensor([[ 2.7832e-03,  2.7832e-03,  2.7832e-03,  ...,  2.7832e-03,\n",
            "          2.7832e-03,  2.7832e-03],\n",
            "        [-5.1243e-05, -5.1243e-05, -5.1243e-05,  ..., -5.1243e-05,\n",
            "         -5.1243e-05, -5.1243e-05],\n",
            "        [ 5.9009e-04,  5.9009e-04,  5.9009e-04,  ...,  5.9009e-04,\n",
            "          5.9009e-04,  5.9009e-04],\n",
            "        ...,\n",
            "        [-5.6239e-03, -5.6239e-03, -5.6239e-03,  ..., -5.6239e-03,\n",
            "         -5.6239e-03, -5.6239e-03],\n",
            "        [-3.7366e-03, -3.7366e-03, -3.7366e-03,  ..., -3.7366e-03,\n",
            "         -3.7366e-03, -3.7366e-03],\n",
            "        [-3.7471e-03, -3.7471e-03, -3.7471e-03,  ..., -3.7471e-03,\n",
            "         -3.7471e-03, -3.7471e-03]])\n"
          ],
          "name": "stdout"
        }
      ]
    },
    {
      "cell_type": "code",
      "metadata": {
        "id": "oNBVGXefBFFz",
        "colab_type": "code",
        "colab": {
          "base_uri": "https://localhost:8080/",
          "height": 170
        },
        "outputId": "5dd8d4eb-9bd9-4e43-ac48-985c09e593c2"
      },
      "source": [
        "# Take an update step and few the new weights\n",
        "optimizer.step()\n",
        "print('Updated weights - ', model[0].weight)"
      ],
      "execution_count": 16,
      "outputs": [
        {
          "output_type": "stream",
          "text": [
            "Updated weights -  Parameter containing:\n",
            "tensor([[ 0.0350, -0.0341, -0.0304,  ..., -0.0225, -0.0206, -0.0287],\n",
            "        [ 0.0148,  0.0204, -0.0121,  ...,  0.0121, -0.0006,  0.0136],\n",
            "        [ 0.0305, -0.0155, -0.0012,  ...,  0.0260,  0.0288, -0.0317],\n",
            "        ...,\n",
            "        [ 0.0176, -0.0040, -0.0305,  ..., -0.0229, -0.0013,  0.0207],\n",
            "        [ 0.0340, -0.0179,  0.0211,  ...,  0.0049, -0.0189,  0.0100],\n",
            "        [ 0.0093, -0.0328, -0.0157,  ..., -0.0145, -0.0164,  0.0074]],\n",
            "       requires_grad=True)\n"
          ],
          "name": "stdout"
        }
      ]
    },
    {
      "cell_type": "code",
      "metadata": {
        "id": "8krAATv3BHXN",
        "colab_type": "code",
        "colab": {}
      },
      "source": [
        "# Real Training \n",
        "model = nn.Sequential(nn.Linear(784, 128),\n",
        "                      nn.ReLU(),\n",
        "                      nn.Linear(128, 64),\n",
        "                      nn.ReLU(),\n",
        "                      nn.Linear(64, 10),\n",
        "                      nn.LogSoftmax(dim=1))\n",
        "\n",
        "criterion = nn.NLLLoss()\n",
        "optimizer = optim.SGD(model.parameters(), lr=0.003)"
      ],
      "execution_count": 0,
      "outputs": []
    },
    {
      "cell_type": "code",
      "metadata": {
        "id": "zQcfwAInB17X",
        "colab_type": "code",
        "colab": {
          "base_uri": "https://localhost:8080/",
          "height": 102
        },
        "outputId": "92fd1af6-b6d8-48a8-d6e6-2cc83e84789a"
      },
      "source": [
        "epochs = 5\n",
        "\n",
        "for e in range(epochs):\n",
        "  running_loss = 0\n",
        "  for images, labels in trainloader:\n",
        "    images = images.view(images.shape[0], -1)\n",
        "    optimizer.zero_grad()\n",
        "    \n",
        "    output = model(images)\n",
        "    loss = criterion(output, labels)\n",
        "    loss.backward()\n",
        "    \n",
        "    optimizer.step()\n",
        "    running_loss += loss\n",
        "  else:\n",
        "    print(f\"Training loss: {running_loss/len(trainloader)}\")"
      ],
      "execution_count": 18,
      "outputs": [
        {
          "output_type": "stream",
          "text": [
            "Training loss: 1.8714208602905273\n",
            "Training loss: 0.8384914398193359\n",
            "Training loss: 0.5289672613143921\n",
            "Training loss: 0.4310729205608368\n",
            "Training loss: 0.38436052203178406\n"
          ],
          "name": "stdout"
        }
      ]
    },
    {
      "cell_type": "code",
      "metadata": {
        "id": "BTDxI5DfDcTX",
        "colab_type": "code",
        "colab": {}
      },
      "source": [
        "%matplotlib inline\n",
        "import helper\n",
        "\n",
        "images, labels = next(iter(trainloader))\n",
        "\n",
        "img = images[0].view(1, 784)\n",
        "# Turn off gradients to speed up this part\n",
        "with torch.no_grad():\n",
        "    logps = model(img)\n",
        "\n",
        "# Output of the network are log-probabilities, need to take exponential for probabilities\n",
        "ps = torch.exp(logps)\n"
      ],
      "execution_count": 0,
      "outputs": []
    },
    {
      "cell_type": "code",
      "metadata": {
        "id": "qXOelIqnFqaD",
        "colab_type": "code",
        "colab": {
          "base_uri": "https://localhost:8080/",
          "height": 51
        },
        "outputId": "64f8786c-84cc-4184-af23-a6c478918c59"
      },
      "source": [
        "ps"
      ],
      "execution_count": 20,
      "outputs": [
        {
          "output_type": "execute_result",
          "data": {
            "text/plain": [
              "tensor([[1.9665e-07, 9.5613e-01, 5.3525e-03, 1.7157e-02, 4.5534e-05, 5.5225e-04,\n",
              "         5.3459e-04, 4.4924e-04, 1.9276e-02, 5.0093e-04]])"
            ]
          },
          "metadata": {
            "tags": []
          },
          "execution_count": 20
        }
      ]
    },
    {
      "cell_type": "code",
      "metadata": {
        "id": "GRYFpPl4F0hL",
        "colab_type": "code",
        "colab": {}
      },
      "source": [
        "args = ps.numpy()"
      ],
      "execution_count": 0,
      "outputs": []
    },
    {
      "cell_type": "code",
      "metadata": {
        "id": "57IXEHcjGHIJ",
        "colab_type": "code",
        "colab": {
          "base_uri": "https://localhost:8080/",
          "height": 68
        },
        "outputId": "52ae006c-9f82-4d7a-c9df-d1790709e971"
      },
      "source": [
        "args"
      ],
      "execution_count": 22,
      "outputs": [
        {
          "output_type": "execute_result",
          "data": {
            "text/plain": [
              "array([[1.9664853e-07, 9.5613146e-01, 5.3525423e-03, 1.7157301e-02,\n",
              "        4.5534176e-05, 5.5224873e-04, 5.3458748e-04, 4.4923864e-04,\n",
              "        1.9276101e-02, 5.0092943e-04]], dtype=float32)"
            ]
          },
          "metadata": {
            "tags": []
          },
          "execution_count": 22
        }
      ]
    },
    {
      "cell_type": "code",
      "metadata": {
        "id": "ruCPHq3cGL78",
        "colab_type": "code",
        "colab": {}
      },
      "source": [
        "import numpy as np"
      ],
      "execution_count": 0,
      "outputs": []
    },
    {
      "cell_type": "code",
      "metadata": {
        "id": "20X4FMbsGSBv",
        "colab_type": "code",
        "colab": {}
      },
      "source": [
        "argmax = np.argmax(args)"
      ],
      "execution_count": 0,
      "outputs": []
    },
    {
      "cell_type": "code",
      "metadata": {
        "id": "Zt-xeUr1GZig",
        "colab_type": "code",
        "colab": {
          "base_uri": "https://localhost:8080/",
          "height": 34
        },
        "outputId": "2782d1cc-c900-44b4-d0ce-5f20525d2b01"
      },
      "source": [
        "argmax"
      ],
      "execution_count": 25,
      "outputs": [
        {
          "output_type": "execute_result",
          "data": {
            "text/plain": [
              "1"
            ]
          },
          "metadata": {
            "tags": []
          },
          "execution_count": 25
        }
      ]
    },
    {
      "cell_type": "code",
      "metadata": {
        "id": "MdnybSYnGatw",
        "colab_type": "code",
        "colab": {
          "base_uri": "https://localhost:8080/",
          "height": 269
        },
        "outputId": "ae83aa93-1a5d-440a-b74f-d179a6a425bc"
      },
      "source": [
        "import matplotlib.pyplot as plt\n",
        "img = img.view(1, 28, 28)\n",
        "plt.imshow(img.numpy().squeeze(), cmap='Greys_r');"
      ],
      "execution_count": 26,
      "outputs": [
        {
          "output_type": "display_data",
          "data": {
            "image/png": "[encoded data removed]",
            "text/plain": [
              "<Figure size 432x288 with 1 Axes>"
            ]
          },
          "metadata": {
            "tags": []
          }
        }
      ]
    },
    {
      "cell_type": "code",
      "metadata": {
        "id": "KUOtRupZGnfp",
        "colab_type": "code",
        "colab": {}
      },
      "source": [
        ""
      ],
      "execution_count": 0,
      "outputs": []
    }
  ]
}