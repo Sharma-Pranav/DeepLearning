{
  "nbformat": 4,
  "nbformat_minor": 0,
  "metadata": {
    "colab": {
      "name": "inference_or_prediction.ipynb",
      "version": "0.3.2",
      "provenance": [],
      "collapsed_sections": [],
      "include_colab_link": true
    },
    "kernelspec": {
      "name": "python3",
      "display_name": "Python 3"
    },
    "accelerator": "GPU"
  },
  "cells": [
    {
      "cell_type": "markdown",
      "metadata": {
        "id": "view-in-github",
        "colab_type": "text"
      },
      "source": [
        "<a href=\"https://colab.research.google.com/github/Sharma-Pranav/DeepLearning/blob/master/inference_or_prediction.ipynb\" target=\"_parent\"><img src=\"https://colab.research.google.com/assets/colab-badge.svg\" alt=\"Open In Colab\"/></a>"
      ]
    },
    {
      "cell_type": "code",
      "metadata": {
        "id": "vyffAhEDJqLe",
        "colab_type": "code",
        "colab": {}
      },
      "source": [
        "import torch\n",
        "from torchvision import datasets, transforms\n",
        "\n",
        "# Define a transform to normalize the data\n",
        "transform = transforms.Compose([transforms.ToTensor(),\n",
        "                                transforms.Normalize((0.5,), (0.5,))])\n",
        "# Download and load the training data\n",
        "trainset = datasets.FashionMNIST('~/.pytorch/F_MNIST_data/', download=True, train=True, transform=transform)\n",
        "trainloader = torch.utils.data.DataLoader(trainset, batch_size=64, shuffle=True)\n",
        "\n",
        "# Download and load the test data\n",
        "testset = datasets.FashionMNIST('~/.pytorch/F_MNIST_data/', download=True, train=False, transform=transform)\n",
        "testloader = torch.utils.data.DataLoader(testset, batch_size=64, shuffle=True)"
      ],
      "execution_count": 0,
      "outputs": []
    },
    {
      "cell_type": "code",
      "metadata": {
        "id": "hgTuiI8-L-7T",
        "colab_type": "code",
        "colab": {}
      },
      "source": [
        "from torch import nn, optim\n",
        "import torch.nn.functional as F\n",
        "\n",
        "class Classifier(nn.Module):\n",
        "  def __init__(self):\n",
        "    super().__init__()\n",
        "    self.fc1 = nn.Linear(784, 256)\n",
        "    self.fc2 = nn.Linear(256, 128)\n",
        "    self.fc3 = nn.Linear(128, 64)\n",
        "    self.fc4 = nn.Linear(64, 10)\n",
        "  def forward(self, x):\n",
        "    x = x.view(x.shape[0], -1)\n",
        "    \n",
        "    x = F.relu(self.fc1(x))\n",
        "    x = F.relu(self.fc2(x))\n",
        "    x = F.relu(self.fc3(x))\n",
        "    x = F.log_softmax(self.fc4(x), dim = 1)\n",
        "    \n",
        "    return x"
      ],
      "execution_count": 0,
      "outputs": []
    },
    {
      "cell_type": "code",
      "metadata": {
        "id": "5nQ5n1F_OaB3",
        "colab_type": "code",
        "colab": {
          "base_uri": "https://localhost:8080/",
          "height": 34
        },
        "outputId": "6d93ee98-9bae-4ba7-9b30-9f758245e2d4"
      },
      "source": [
        "model = Classifier()\n",
        "\n",
        "images, labels = next(iter(testloader))\n",
        "ps = torch.exp(model(images))\n",
        "\n",
        "print(ps.shape)"
      ],
      "execution_count": 13,
      "outputs": [
        {
          "output_type": "stream",
          "text": [
            "torch.Size([64, 10])\n"
          ],
          "name": "stdout"
        }
      ]
    },
    {
      "cell_type": "code",
      "metadata": {
        "id": "5-cp0UlKO7nr",
        "colab_type": "code",
        "colab": {
          "base_uri": "https://localhost:8080/",
          "height": 187
        },
        "outputId": "67ec85f4-accf-4106-8369-c14d612f5d06"
      },
      "source": [
        "top_p, top_class = ps.topk(1, dim=1)\n",
        "# Look at the most likely classes for the first 10 examples\n",
        "print(top_class[:10,:])"
      ],
      "execution_count": 14,
      "outputs": [
        {
          "output_type": "stream",
          "text": [
            "tensor([[2],\n",
            "        [2],\n",
            "        [2],\n",
            "        [2],\n",
            "        [2],\n",
            "        [2],\n",
            "        [2],\n",
            "        [2],\n",
            "        [2],\n",
            "        [2]])\n"
          ],
          "name": "stdout"
        }
      ]
    },
    {
      "cell_type": "code",
      "metadata": {
        "id": "BK5ym9iIQGfW",
        "colab_type": "code",
        "colab": {}
      },
      "source": [
        "equals = top_class == labels.view(*top_class.shape)"
      ],
      "execution_count": 0,
      "outputs": []
    },
    {
      "cell_type": "code",
      "metadata": {
        "id": "4PhYfEccQMxE",
        "colab_type": "code",
        "colab": {
          "base_uri": "https://localhost:8080/",
          "height": 1105
        },
        "outputId": "640164f1-d0bd-435e-d759-5973e65e0af0"
      },
      "source": [
        "equals"
      ],
      "execution_count": 16,
      "outputs": [
        {
          "output_type": "execute_result",
          "data": {
            "text/plain": [
              "tensor([[0],\n",
              "        [0],\n",
              "        [0],\n",
              "        [0],\n",
              "        [1],\n",
              "        [0],\n",
              "        [0],\n",
              "        [0],\n",
              "        [0],\n",
              "        [0],\n",
              "        [1],\n",
              "        [0],\n",
              "        [0],\n",
              "        [0],\n",
              "        [0],\n",
              "        [0],\n",
              "        [0],\n",
              "        [0],\n",
              "        [0],\n",
              "        [0],\n",
              "        [0],\n",
              "        [0],\n",
              "        [1],\n",
              "        [0],\n",
              "        [0],\n",
              "        [0],\n",
              "        [0],\n",
              "        [0],\n",
              "        [1],\n",
              "        [0],\n",
              "        [0],\n",
              "        [1],\n",
              "        [0],\n",
              "        [0],\n",
              "        [0],\n",
              "        [0],\n",
              "        [1],\n",
              "        [0],\n",
              "        [0],\n",
              "        [0],\n",
              "        [0],\n",
              "        [0],\n",
              "        [0],\n",
              "        [0],\n",
              "        [0],\n",
              "        [0],\n",
              "        [0],\n",
              "        [0],\n",
              "        [0],\n",
              "        [0],\n",
              "        [0],\n",
              "        [0],\n",
              "        [0],\n",
              "        [0],\n",
              "        [0],\n",
              "        [0],\n",
              "        [0],\n",
              "        [0],\n",
              "        [0],\n",
              "        [0],\n",
              "        [0],\n",
              "        [0],\n",
              "        [0],\n",
              "        [0]], dtype=torch.uint8)"
            ]
          },
          "metadata": {
            "tags": []
          },
          "execution_count": 16
        }
      ]
    },
    {
      "cell_type": "code",
      "metadata": {
        "id": "W3W6_rqJQOYL",
        "colab_type": "code",
        "colab": {
          "base_uri": "https://localhost:8080/",
          "height": 34
        },
        "outputId": "9015b96c-e04e-4f23-99d8-dbfab10b8ee8"
      },
      "source": [
        "accuracy = torch.mean(equals.type(torch.FloatTensor))\n",
        "print(f'Accuracy: {accuracy.item()*100}%')"
      ],
      "execution_count": 17,
      "outputs": [
        {
          "output_type": "stream",
          "text": [
            "Accuracy: 9.375%\n"
          ],
          "name": "stdout"
        }
      ]
    },
    {
      "cell_type": "code",
      "metadata": {
        "id": "i5BIxp1UQeTq",
        "colab_type": "code",
        "colab": {}
      },
      "source": [
        "model = Classifier()\n",
        "criterion = nn.NLLLoss()\n",
        "optimizer = optim.Adam(model.parameters(), lr = 0.03)"
      ],
      "execution_count": 0,
      "outputs": []
    },
    {
      "cell_type": "code",
      "metadata": {
        "id": "rOuR26CoRNQ9",
        "colab_type": "code",
        "colab": {}
      },
      "source": [
        "epochs = 30 \n",
        "steps = 0"
      ],
      "execution_count": 0,
      "outputs": []
    },
    {
      "cell_type": "code",
      "metadata": {
        "id": "VLe_hJSxRVYk",
        "colab_type": "code",
        "colab": {
          "base_uri": "https://localhost:8080/",
          "height": 527
        },
        "outputId": "b5fc8d42-0468-4740-f052-6291a32dc60c"
      },
      "source": [
        "model = Classifier()\n",
        "criterion = nn.NLLLoss()\n",
        "optimizer = optim.Adam(model.parameters(), lr=0.003)\n",
        "\n",
        "epochs = 30\n",
        "steps = 0\n",
        "\n",
        "train_losses, test_losses = [], []\n",
        "for e in range(epochs):\n",
        "    running_loss = 0\n",
        "    for images, labels in trainloader:\n",
        "        \n",
        "        optimizer.zero_grad()\n",
        "        \n",
        "        log_ps = model(images)\n",
        "        loss = criterion(log_ps, labels)\n",
        "        loss.backward()\n",
        "        optimizer.step()\n",
        "        \n",
        "        running_loss += loss.item()\n",
        "        \n",
        "    else:\n",
        "        test_loss = 0\n",
        "        accuracy = 0\n",
        "        \n",
        "        # Turn off gradients for validation, saves memory and computations\n",
        "        with torch.no_grad():\n",
        "            for images, labels in testloader:\n",
        "                log_ps = model(images)\n",
        "                test_loss += criterion(log_ps, labels)\n",
        "                \n",
        "                ps = torch.exp(log_ps)\n",
        "                top_p, top_class = ps.topk(1, dim=1)\n",
        "                equals = top_class == labels.view(*top_class.shape)\n",
        "                accuracy += torch.mean(equals.type(torch.FloatTensor))\n",
        "                \n",
        "        train_losses.append(running_loss/len(trainloader))\n",
        "        test_losses.append(test_loss/len(testloader))\n",
        "\n",
        "        print(\"Epoch: {}/{}.. \".format(e+1, epochs),\n",
        "              \"Training Loss: {:.3f}.. \".format(running_loss/len(trainloader)),\n",
        "              \"Test Loss: {:.3f}.. \".format(test_loss/len(testloader)),\n",
        "              \"Test Accuracy: {:.3f}\".format(accuracy/len(testloader)))"
      ],
      "execution_count": 23,
      "outputs": [
        {
          "output_type": "stream",
          "text": [
            "Epoch: 1/30..  Training Loss: 0.519..  Test Loss: 0.441..  Test Accuracy: 0.838\n",
            "Epoch: 2/30..  Training Loss: 0.393..  Test Loss: 0.407..  Test Accuracy: 0.851\n",
            "Epoch: 3/30..  Training Loss: 0.356..  Test Loss: 0.395..  Test Accuracy: 0.860\n",
            "Epoch: 4/30..  Training Loss: 0.338..  Test Loss: 0.383..  Test Accuracy: 0.867\n",
            "Epoch: 5/30..  Training Loss: 0.318..  Test Loss: 0.380..  Test Accuracy: 0.863\n",
            "Epoch: 6/30..  Training Loss: 0.306..  Test Loss: 0.367..  Test Accuracy: 0.871\n",
            "Epoch: 7/30..  Training Loss: 0.293..  Test Loss: 0.378..  Test Accuracy: 0.872\n",
            "Epoch: 8/30..  Training Loss: 0.284..  Test Loss: 0.398..  Test Accuracy: 0.861\n",
            "Epoch: 9/30..  Training Loss: 0.279..  Test Loss: 0.390..  Test Accuracy: 0.875\n",
            "Epoch: 10/30..  Training Loss: 0.268..  Test Loss: 0.366..  Test Accuracy: 0.877\n",
            "Epoch: 11/30..  Training Loss: 0.265..  Test Loss: 0.394..  Test Accuracy: 0.867\n",
            "Epoch: 12/30..  Training Loss: 0.260..  Test Loss: 0.360..  Test Accuracy: 0.877\n",
            "Epoch: 13/30..  Training Loss: 0.249..  Test Loss: 0.359..  Test Accuracy: 0.880\n",
            "Epoch: 14/30..  Training Loss: 0.242..  Test Loss: 0.415..  Test Accuracy: 0.867\n",
            "Epoch: 15/30..  Training Loss: 0.238..  Test Loss: 0.411..  Test Accuracy: 0.874\n",
            "Epoch: 16/30..  Training Loss: 0.235..  Test Loss: 0.374..  Test Accuracy: 0.877\n",
            "Epoch: 17/30..  Training Loss: 0.227..  Test Loss: 0.392..  Test Accuracy: 0.878\n",
            "Epoch: 18/30..  Training Loss: 0.223..  Test Loss: 0.387..  Test Accuracy: 0.874\n",
            "Epoch: 19/30..  Training Loss: 0.219..  Test Loss: 0.389..  Test Accuracy: 0.881\n",
            "Epoch: 20/30..  Training Loss: 0.219..  Test Loss: 0.395..  Test Accuracy: 0.881\n",
            "Epoch: 21/30..  Training Loss: 0.215..  Test Loss: 0.410..  Test Accuracy: 0.880\n",
            "Epoch: 22/30..  Training Loss: 0.217..  Test Loss: 0.407..  Test Accuracy: 0.883\n",
            "Epoch: 23/30..  Training Loss: 0.208..  Test Loss: 0.395..  Test Accuracy: 0.883\n",
            "Epoch: 24/30..  Training Loss: 0.201..  Test Loss: 0.394..  Test Accuracy: 0.884\n",
            "Epoch: 25/30..  Training Loss: 0.206..  Test Loss: 0.395..  Test Accuracy: 0.884\n",
            "Epoch: 26/30..  Training Loss: 0.198..  Test Loss: 0.407..  Test Accuracy: 0.882\n",
            "Epoch: 27/30..  Training Loss: 0.195..  Test Loss: 0.395..  Test Accuracy: 0.881\n",
            "Epoch: 28/30..  Training Loss: 0.195..  Test Loss: 0.399..  Test Accuracy: 0.881\n",
            "Epoch: 29/30..  Training Loss: 0.188..  Test Loss: 0.441..  Test Accuracy: 0.872\n",
            "Epoch: 30/30..  Training Loss: 0.193..  Test Loss: 0.430..  Test Accuracy: 0.883\n"
          ],
          "name": "stdout"
        }
      ]
    },
    {
      "cell_type": "code",
      "metadata": {
        "id": "UqeiIgUiTVWb",
        "colab_type": "code",
        "colab": {
          "base_uri": "https://localhost:8080/",
          "height": 286
        },
        "outputId": "1c70bee1-32d3-4807-e384-33e8e75004f1"
      },
      "source": [
        "import matplotlib.pyplot as plt\n",
        "plt.plot(train_losses, label='Training loss')\n",
        "plt.plot(test_losses, label='Validation loss')\n",
        "plt.legend(frameon=False)"
      ],
      "execution_count": 24,
      "outputs": [
        {
          "output_type": "execute_result",
          "data": {
            "text/plain": [
              "<matplotlib.legend.Legend at 0x7fde95bce860>"
            ]
          },
          "metadata": {
            "tags": []
          },
          "execution_count": 24
        },
        {
          "output_type": "display_data",
          "data": {
            "image/png": "[encoded data removed]",
            "text/plain": [
              "<Figure size 432x288 with 1 Axes>"
            ]
          },
          "metadata": {
            "tags": []
          }
        }
      ]
    },
    {
      "cell_type": "code",
      "metadata": {
        "id": "xmuXEuSfX2X9",
        "colab_type": "code",
        "colab": {}
      },
      "source": [
        "# Repetition but with Regularisation\n",
        "class Classifier(nn.Module):\n",
        "    def __init__(self):\n",
        "        super().__init__()\n",
        "        self.fc1 = nn.Linear(784, 256)\n",
        "        self.fc2 = nn.Linear(256, 128)\n",
        "        self.fc3 = nn.Linear(128, 64)\n",
        "        self.fc4 = nn.Linear(64, 10)\n",
        "\n",
        "        # Dropout module with 0.2 drop probability\n",
        "        self.dropout = nn.Dropout(p=0.2)\n",
        "\n",
        "    def forward(self, x):\n",
        "        # make sure input tensor is flattened\n",
        "        x = x.view(x.shape[0], -1)\n",
        "\n",
        "        # Now with dropout\n",
        "        x = self.dropout(F.relu(self.fc1(x)))\n",
        "        x = self.dropout(F.relu(self.fc2(x)))\n",
        "        x = self.dropout(F.relu(self.fc3(x)))\n",
        "\n",
        "        # output so no dropout here\n",
        "        x = F.log_softmax(self.fc4(x), dim=1)\n",
        "\n",
        "        return x"
      ],
      "execution_count": 0,
      "outputs": []
    },
    {
      "cell_type": "code",
      "metadata": {
        "id": "prKAKjFnewxX",
        "colab_type": "code",
        "colab": {
          "base_uri": "https://localhost:8080/",
          "height": 527
        },
        "outputId": "bf425f8c-b4a4-4e58-f564-53294ef44449"
      },
      "source": [
        "\n",
        "model = Classifier()\n",
        "criterion = nn.NLLLoss()\n",
        "optimizer = optim.Adam(model.parameters(), lr=0.003)\n",
        "\n",
        "epochs = 30\n",
        "steps = 0\n",
        "\n",
        "train_losses, test_losses = [], []\n",
        "for e in range(epochs):\n",
        "    running_loss = 0\n",
        "    for images, labels in trainloader:\n",
        "        \n",
        "        optimizer.zero_grad()\n",
        "        \n",
        "        log_ps = model(images)\n",
        "        loss = criterion(log_ps, labels)\n",
        "        loss.backward()\n",
        "        optimizer.step()\n",
        "        \n",
        "        running_loss += loss.item()\n",
        "        \n",
        "    else:\n",
        "        test_loss = 0\n",
        "        accuracy = 0\n",
        "        \n",
        "        # Turn off gradients for validation, saves memory and computations\n",
        "        with torch.no_grad():\n",
        "            model.eval()\n",
        "            for images, labels in testloader:\n",
        "                log_ps = model(images)\n",
        "                test_loss += criterion(log_ps, labels)\n",
        "                \n",
        "                ps = torch.exp(log_ps)\n",
        "                top_p, top_class = ps.topk(1, dim=1)\n",
        "                equals = top_class == labels.view(*top_class.shape)\n",
        "                accuracy += torch.mean(equals.type(torch.FloatTensor))\n",
        "        \n",
        "        model.train()\n",
        "        \n",
        "        train_losses.append(running_loss/len(trainloader))\n",
        "        test_losses.append(test_loss/len(testloader))\n",
        "\n",
        "        print(\"Epoch: {}/{}.. \".format(e+1, epochs),\n",
        "              \"Training Loss: {:.3f}.. \".format(train_losses[-1]),\n",
        "              \"Test Loss: {:.3f}.. \".format(test_losses[-1]),\n",
        "              \"Test Accuracy: {:.3f}\".format(accuracy/len(testloader)))"
      ],
      "execution_count": 26,
      "outputs": [
        {
          "output_type": "stream",
          "text": [
            "Epoch: 1/30..  Training Loss: 0.603..  Test Loss: 0.476..  Test Accuracy: 0.827\n",
            "Epoch: 2/30..  Training Loss: 0.482..  Test Loss: 0.442..  Test Accuracy: 0.840\n",
            "Epoch: 3/30..  Training Loss: 0.452..  Test Loss: 0.424..  Test Accuracy: 0.843\n",
            "Epoch: 4/30..  Training Loss: 0.436..  Test Loss: 0.430..  Test Accuracy: 0.850\n",
            "Epoch: 5/30..  Training Loss: 0.421..  Test Loss: 0.414..  Test Accuracy: 0.853\n",
            "Epoch: 6/30..  Training Loss: 0.413..  Test Loss: 0.404..  Test Accuracy: 0.854\n",
            "Epoch: 7/30..  Training Loss: 0.405..  Test Loss: 0.389..  Test Accuracy: 0.859\n",
            "Epoch: 8/30..  Training Loss: 0.399..  Test Loss: 0.406..  Test Accuracy: 0.858\n",
            "Epoch: 9/30..  Training Loss: 0.394..  Test Loss: 0.384..  Test Accuracy: 0.862\n",
            "Epoch: 10/30..  Training Loss: 0.390..  Test Loss: 0.410..  Test Accuracy: 0.854\n",
            "Epoch: 11/30..  Training Loss: 0.384..  Test Loss: 0.416..  Test Accuracy: 0.858\n",
            "Epoch: 12/30..  Training Loss: 0.385..  Test Loss: 0.381..  Test Accuracy: 0.869\n",
            "Epoch: 13/30..  Training Loss: 0.376..  Test Loss: 0.389..  Test Accuracy: 0.861\n",
            "Epoch: 14/30..  Training Loss: 0.380..  Test Loss: 0.407..  Test Accuracy: 0.865\n",
            "Epoch: 15/30..  Training Loss: 0.374..  Test Loss: 0.400..  Test Accuracy: 0.860\n",
            "Epoch: 16/30..  Training Loss: 0.373..  Test Loss: 0.390..  Test Accuracy: 0.866\n",
            "Epoch: 17/30..  Training Loss: 0.367..  Test Loss: 0.386..  Test Accuracy: 0.870\n",
            "Epoch: 18/30..  Training Loss: 0.367..  Test Loss: 0.392..  Test Accuracy: 0.867\n",
            "Epoch: 19/30..  Training Loss: 0.367..  Test Loss: 0.376..  Test Accuracy: 0.871\n",
            "Epoch: 20/30..  Training Loss: 0.359..  Test Loss: 0.386..  Test Accuracy: 0.870\n",
            "Epoch: 21/30..  Training Loss: 0.353..  Test Loss: 0.390..  Test Accuracy: 0.873\n",
            "Epoch: 22/30..  Training Loss: 0.356..  Test Loss: 0.389..  Test Accuracy: 0.867\n",
            "Epoch: 23/30..  Training Loss: 0.364..  Test Loss: 0.377..  Test Accuracy: 0.868\n",
            "Epoch: 24/30..  Training Loss: 0.350..  Test Loss: 0.377..  Test Accuracy: 0.871\n",
            "Epoch: 25/30..  Training Loss: 0.351..  Test Loss: 0.377..  Test Accuracy: 0.871\n",
            "Epoch: 26/30..  Training Loss: 0.354..  Test Loss: 0.382..  Test Accuracy: 0.871\n",
            "Epoch: 27/30..  Training Loss: 0.347..  Test Loss: 0.382..  Test Accuracy: 0.877\n",
            "Epoch: 28/30..  Training Loss: 0.349..  Test Loss: 0.379..  Test Accuracy: 0.873\n",
            "Epoch: 29/30..  Training Loss: 0.343..  Test Loss: 0.388..  Test Accuracy: 0.873\n",
            "Epoch: 30/30..  Training Loss: 0.347..  Test Loss: 0.373..  Test Accuracy: 0.873\n"
          ],
          "name": "stdout"
        }
      ]
    },
    {
      "cell_type": "code",
      "metadata": {
        "id": "coXZn5MjexSq",
        "colab_type": "code",
        "colab": {
          "base_uri": "https://localhost:8080/",
          "height": 286
        },
        "outputId": "ce90b784-6765-4046-e248-a780d930a05f"
      },
      "source": [
        "plt.plot(train_losses, label='Training loss')\n",
        "plt.plot(test_losses, label='Validation loss')\n",
        "plt.legend(frameon=False)"
      ],
      "execution_count": 27,
      "outputs": [
        {
          "output_type": "execute_result",
          "data": {
            "text/plain": [
              "<matplotlib.legend.Legend at 0x7fde8d5cfda0>"
            ]
          },
          "metadata": {
            "tags": []
          },
          "execution_count": 27
        },
        {
          "output_type": "display_data",
          "data": {
            "image/png": "[encoded data removed]",
            "text/plain": [
              "<Figure size 432x288 with 1 Axes>"
            ]
          },
          "metadata": {
            "tags": []
          }
        }
      ]
    },
    {
      "cell_type": "code",
      "metadata": {
        "id": "UoMKIjRte1vB",
        "colab_type": "code",
        "colab": {}
      },
      "source": [
        "model.eval()\n",
        "\n",
        "dataiter = iter(testloader)\n",
        "images, labels = dataiter.next()\n",
        "img = images[0]\n",
        "# Convert 2D image to 1D vector\n",
        "img = img.view(1, 784)\n",
        "\n",
        "# Calculate the class probabilities (softmax) for img\n",
        "with torch.no_grad():\n",
        "    output = model.forward(img)\n",
        "\n",
        "ps = torch.exp(output)"
      ],
      "execution_count": 0,
      "outputs": []
    },
    {
      "cell_type": "code",
      "metadata": {
        "id": "EYt3p9X6fHVf",
        "colab_type": "code",
        "colab": {}
      },
      "source": [
        "import numpy as np\n",
        "num_img = img.detach()\n",
        "arg = np.argmax(ps)"
      ],
      "execution_count": 0,
      "outputs": []
    },
    {
      "cell_type": "code",
      "metadata": {
        "id": "RapNEND_oYzT",
        "colab_type": "code",
        "colab": {
          "base_uri": "https://localhost:8080/",
          "height": 34
        },
        "outputId": "4e6f6649-7c71-4385-dec5-60e28f17d6d7"
      },
      "source": [
        "print(type(num_img), num_img.shape, arg)"
      ],
      "execution_count": 45,
      "outputs": [
        {
          "output_type": "stream",
          "text": [
            "<class 'torch.Tensor'> torch.Size([1, 784]) tensor(3)\n"
          ],
          "name": "stdout"
        }
      ]
    },
    {
      "cell_type": "code",
      "metadata": {
        "id": "paHpcMsfouZf",
        "colab_type": "code",
        "colab": {
          "base_uri": "https://localhost:8080/",
          "height": 286
        },
        "outputId": "a87e5cdc-b360-4934-b02c-1aa5a677f018"
      },
      "source": [
        "plt.imshow(num_img.view( 28, 28), cmap='Greys_r')"
      ],
      "execution_count": 47,
      "outputs": [
        {
          "output_type": "execute_result",
          "data": {
            "text/plain": [
              "<matplotlib.image.AxesImage at 0x7fde95ba19b0>"
            ]
          },
          "metadata": {
            "tags": []
          },
          "execution_count": 47
        },
        {
          "output_type": "display_data",
          "data": {
            "image/png": "[encoded data removed]",
            "text/plain": [
              "<Figure size 432x288 with 1 Axes>"
            ]
          },
          "metadata": {
            "tags": []
          }
        }
      ]
    },
    {
      "cell_type": "code",
      "metadata": {
        "id": "QUQeCLBYpHsn",
        "colab_type": "code",
        "colab": {}
      },
      "source": [
        ""
      ],
      "execution_count": 0,
      "outputs": []
    }
  ]
}