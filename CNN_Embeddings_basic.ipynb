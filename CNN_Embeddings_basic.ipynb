{
  "nbformat": 4,
  "nbformat_minor": 0,
  "metadata": {
    "colab": {
      "name": "Untitled3.ipynb",
      "version": "0.3.2",
      "provenance": [],
      "include_colab_link": true
    },
    "kernelspec": {
      "name": "python3",
      "display_name": "Python 3"
    },
    "accelerator": "GPU"
  },
  "cells": [
    {
      "cell_type": "markdown",
      "metadata": {
        "id": "view-in-github",
        "colab_type": "text"
      },
      "source": [
        "<a href=\"https://colab.research.google.com/github/Sharma-Pranav/DeepLearning/blob/master/CNN_Embeddings_basic.ipynb\" target=\"_parent\"><img src=\"https://colab.research.google.com/assets/colab-badge.svg\" alt=\"Open In Colab\"/></a>"
      ]
    },
    {
      "metadata": {
        "id": "kY8RLPpWMSRT",
        "colab_type": "code",
        "colab": {
          "base_uri": "https://localhost:8080/",
          "height": 34
        },
        "outputId": "ba0e096f-cc29-4bda-d776-111aadc254db"
      },
      "cell_type": "code",
      "source": [
        "import numpy as np\n",
        "import matplotlib.pyplot as plt\n",
        "\n",
        "from keras.datasets import imdb\n",
        "from keras.preprocessing.sequence import pad_sequences\n",
        "from keras.models import Sequential\n",
        "from keras.layers import Dense, Dropout, Activation, Conv1D, MaxPooling1D, Embedding, Flatten\n",
        "from keras import optimizers"
      ],
      "execution_count": 1,
      "outputs": [
        {
          "output_type": "stream",
          "text": [
            "Using TensorFlow backend.\n"
          ],
          "name": "stderr"
        }
      ]
    },
    {
      "metadata": {
        "id": "Y9sfWOuPOI8Z",
        "colab_type": "code",
        "colab": {}
      },
      "cell_type": "code",
      "source": [
        "num_features = 300\n",
        "sequence_length = 300\n",
        "embedding_dimension = 100"
      ],
      "execution_count": 0,
      "outputs": []
    },
    {
      "metadata": {
        "id": "DiFnyRiaOeNr",
        "colab_type": "code",
        "colab": {
          "base_uri": "https://localhost:8080/",
          "height": 68
        },
        "outputId": "288ec787-494f-4456-8d18-9036fc5051e5"
      },
      "cell_type": "code",
      "source": [
        "(X_train, Y_train), (X_test, Y_test) = imdb.load_data(num_words = num_features)\n",
        "\n",
        "print(X_train.shape, Y_train.shape)"
      ],
      "execution_count": 3,
      "outputs": [
        {
          "output_type": "stream",
          "text": [
            "Downloading data from https://s3.amazonaws.com/text-datasets/imdb.npz\n",
            "17465344/17464789 [==============================] - 1s 0us/step\n",
            "(25000,) (25000,)\n"
          ],
          "name": "stdout"
        }
      ]
    },
    {
      "metadata": {
        "id": "Qk4NVKWLOzkM",
        "colab_type": "code",
        "colab": {}
      },
      "cell_type": "code",
      "source": [
        "X_train = pad_sequences(X_train, maxlen = sequence_length)\n",
        "X_test = pad_sequences(X_test, maxlen = sequence_length)"
      ],
      "execution_count": 0,
      "outputs": []
    },
    {
      "metadata": {
        "id": "ZNVzG9_4O5E6",
        "colab_type": "code",
        "colab": {}
      },
      "cell_type": "code",
      "source": [
        "def cnn_embed():\n",
        "  model = Sequential()\n",
        "  \n",
        "  # Embedding layer to create vector representation of each word, fine-tunde every iteration\n",
        "  model.add(Embedding(input_dim = 3000, output_dim = embedding_dimension, input_length = sequence_length))\n",
        "  model.add(Conv1D(filters = 50, kernel_size = 5, strides = 1, padding ='valid'))\n",
        "  model.add(MaxPooling1D(2, padding = 'valid'))\n",
        "  \n",
        "  model.add(Flatten())\n",
        "  \n",
        "  model.add(Dense(10))\n",
        "  model.add(Activation('relu'))\n",
        "  model.add(Dense(1))\n",
        "  model.add(Activation('sigmoid'))\n",
        "  \n",
        "  adam = optimizers.Adam()\n",
        "  model.compile(loss = 'binary_crossentropy', optimizer = adam, metrics = ['accuracy'])\n",
        "  \n",
        "  return model"
      ],
      "execution_count": 0,
      "outputs": []
    },
    {
      "metadata": {
        "id": "VpTnxu43QxL6",
        "colab_type": "code",
        "colab": {
          "base_uri": "https://localhost:8080/",
          "height": 68
        },
        "outputId": "4748e56d-9fb1-4541-92b3-f467b2b16781"
      },
      "cell_type": "code",
      "source": [
        "model = cnn_embed()"
      ],
      "execution_count": 6,
      "outputs": [
        {
          "output_type": "stream",
          "text": [
            "WARNING:tensorflow:From /usr/local/lib/python3.6/dist-packages/tensorflow/python/framework/op_def_library.py:263: colocate_with (from tensorflow.python.framework.ops) is deprecated and will be removed in a future version.\n",
            "Instructions for updating:\n",
            "Colocations handled automatically by placer.\n"
          ],
          "name": "stdout"
        }
      ]
    },
    {
      "metadata": {
        "id": "K4A-VR4vQ3GY",
        "colab_type": "code",
        "colab": {
          "base_uri": "https://localhost:8080/",
          "height": 3485
        },
        "outputId": "a679daca-a8c1-4dec-cf18-35a80e8e1295"
      },
      "cell_type": "code",
      "source": [
        "training_history = model.fit(X_train, Y_train, batch_size = 50, epochs = 100, validation_split = 0.2, verbose = 1)"
      ],
      "execution_count": 7,
      "outputs": [
        {
          "output_type": "stream",
          "text": [
            "WARNING:tensorflow:From /usr/local/lib/python3.6/dist-packages/tensorflow/python/ops/math_ops.py:3066: to_int32 (from tensorflow.python.ops.math_ops) is deprecated and will be removed in a future version.\n",
            "Instructions for updating:\n",
            "Use tf.cast instead.\n",
            "Train on 20000 samples, validate on 5000 samples\n",
            "Epoch 1/100\n",
            "20000/20000 [==============================] - 8s 424us/step - loss: 0.6935 - acc: 0.4958 - val_loss: 0.6932 - val_acc: 0.4938\n",
            "Epoch 2/100\n",
            "20000/20000 [==============================] - 4s 189us/step - loss: 0.6452 - acc: 0.5710 - val_loss: 0.4954 - val_acc: 0.7580\n",
            "Epoch 3/100\n",
            "20000/20000 [==============================] - 4s 190us/step - loss: 0.4517 - acc: 0.7894 - val_loss: 0.4497 - val_acc: 0.7928\n",
            "Epoch 4/100\n",
            "20000/20000 [==============================] - 4s 190us/step - loss: 0.3979 - acc: 0.8191 - val_loss: 0.4645 - val_acc: 0.7816\n",
            "Epoch 5/100\n",
            "20000/20000 [==============================] - 4s 187us/step - loss: 0.3272 - acc: 0.8617 - val_loss: 0.4832 - val_acc: 0.7778\n",
            "Epoch 6/100\n",
            "20000/20000 [==============================] - 4s 185us/step - loss: 0.2448 - acc: 0.9042 - val_loss: 0.5529 - val_acc: 0.7692\n",
            "Epoch 7/100\n",
            "20000/20000 [==============================] - 4s 186us/step - loss: 0.1536 - acc: 0.9475 - val_loss: 0.6653 - val_acc: 0.7580\n",
            "Epoch 8/100\n",
            "20000/20000 [==============================] - 4s 186us/step - loss: 0.0862 - acc: 0.9759 - val_loss: 0.8262 - val_acc: 0.7522\n",
            "Epoch 9/100\n",
            "20000/20000 [==============================] - 4s 186us/step - loss: 0.0482 - acc: 0.9882 - val_loss: 1.1568 - val_acc: 0.7524\n",
            "Epoch 10/100\n",
            "20000/20000 [==============================] - 4s 187us/step - loss: 0.0247 - acc: 0.9949 - val_loss: 1.1260 - val_acc: 0.7500\n",
            "Epoch 11/100\n",
            "20000/20000 [==============================] - 4s 186us/step - loss: 0.0122 - acc: 0.9972 - val_loss: 1.2769 - val_acc: 0.7596\n",
            "Epoch 12/100\n",
            "20000/20000 [==============================] - 4s 185us/step - loss: 0.0061 - acc: 0.9981 - val_loss: 1.3586 - val_acc: 0.7472\n",
            "Epoch 13/100\n",
            "20000/20000 [==============================] - 4s 187us/step - loss: 0.0033 - acc: 0.9985 - val_loss: 1.4530 - val_acc: 0.7570\n",
            "Epoch 14/100\n",
            "20000/20000 [==============================] - 4s 188us/step - loss: 0.0021 - acc: 0.9997 - val_loss: 1.5274 - val_acc: 0.7588\n",
            "Epoch 15/100\n",
            "20000/20000 [==============================] - 4s 186us/step - loss: 0.0017 - acc: 0.9998 - val_loss: 1.5725 - val_acc: 0.7562\n",
            "Epoch 16/100\n",
            "20000/20000 [==============================] - 4s 191us/step - loss: 0.0015 - acc: 0.9999 - val_loss: 1.6787 - val_acc: 0.7558\n",
            "Epoch 17/100\n",
            "20000/20000 [==============================] - 4s 190us/step - loss: 0.0012 - acc: 1.0000 - val_loss: 1.6900 - val_acc: 0.7550\n",
            "Epoch 18/100\n",
            "20000/20000 [==============================] - 4s 187us/step - loss: 0.0011 - acc: 0.9999 - val_loss: 1.7077 - val_acc: 0.7556\n",
            "Epoch 19/100\n",
            "20000/20000 [==============================] - 4s 190us/step - loss: 9.2888e-04 - acc: 1.0000 - val_loss: 1.7895 - val_acc: 0.7570\n",
            "Epoch 20/100\n",
            "20000/20000 [==============================] - 4s 188us/step - loss: 8.9555e-04 - acc: 1.0000 - val_loss: 1.8396 - val_acc: 0.7566\n",
            "Epoch 21/100\n",
            "20000/20000 [==============================] - 4s 191us/step - loss: 0.0163 - acc: 0.9947 - val_loss: 2.0047 - val_acc: 0.7156\n",
            "Epoch 22/100\n",
            "20000/20000 [==============================] - 4s 192us/step - loss: 0.1410 - acc: 0.9516 - val_loss: 1.4760 - val_acc: 0.7482\n",
            "Epoch 23/100\n",
            "20000/20000 [==============================] - 4s 193us/step - loss: 0.0290 - acc: 0.9897 - val_loss: 1.8030 - val_acc: 0.7484\n",
            "Epoch 24/100\n",
            "20000/20000 [==============================] - 4s 205us/step - loss: 0.0094 - acc: 0.9977 - val_loss: 1.8108 - val_acc: 0.7494\n",
            "Epoch 25/100\n",
            "20000/20000 [==============================] - 4s 204us/step - loss: 0.0028 - acc: 0.9996 - val_loss: 1.8464 - val_acc: 0.7512\n",
            "Epoch 26/100\n",
            "20000/20000 [==============================] - 4s 204us/step - loss: 0.0015 - acc: 0.9999 - val_loss: 1.8951 - val_acc: 0.7496\n",
            "Epoch 27/100\n",
            "20000/20000 [==============================] - 4s 201us/step - loss: 0.0011 - acc: 1.0000 - val_loss: 1.9339 - val_acc: 0.7504\n",
            "Epoch 28/100\n",
            "20000/20000 [==============================] - 4s 200us/step - loss: 9.3341e-04 - acc: 1.0000 - val_loss: 1.9621 - val_acc: 0.7502\n",
            "Epoch 29/100\n",
            "20000/20000 [==============================] - 4s 201us/step - loss: 8.5924e-04 - acc: 1.0000 - val_loss: 1.9592 - val_acc: 0.7498\n",
            "Epoch 30/100\n",
            "20000/20000 [==============================] - 4s 207us/step - loss: 7.7760e-04 - acc: 1.0000 - val_loss: 2.0217 - val_acc: 0.7514\n",
            "Epoch 31/100\n",
            "20000/20000 [==============================] - 4s 215us/step - loss: 7.2978e-04 - acc: 1.0000 - val_loss: 2.0358 - val_acc: 0.7508\n",
            "Epoch 32/100\n",
            "20000/20000 [==============================] - 4s 216us/step - loss: 6.6294e-04 - acc: 1.0000 - val_loss: 2.0564 - val_acc: 0.7518\n",
            "Epoch 33/100\n",
            "20000/20000 [==============================] - 4s 215us/step - loss: 6.1465e-04 - acc: 1.0000 - val_loss: 2.0983 - val_acc: 0.7526\n",
            "Epoch 34/100\n",
            "20000/20000 [==============================] - 4s 209us/step - loss: 5.7561e-04 - acc: 1.0000 - val_loss: 2.1106 - val_acc: 0.7532\n",
            "Epoch 35/100\n",
            "20000/20000 [==============================] - 4s 209us/step - loss: 5.8525e-04 - acc: 1.0000 - val_loss: 2.1224 - val_acc: 0.7532\n",
            "Epoch 36/100\n",
            "20000/20000 [==============================] - 4s 213us/step - loss: 0.0520 - acc: 0.9839 - val_loss: 1.5090 - val_acc: 0.7432\n",
            "Epoch 37/100\n",
            "20000/20000 [==============================] - 4s 213us/step - loss: 0.1296 - acc: 0.9551 - val_loss: 1.5945 - val_acc: 0.7456\n",
            "Epoch 38/100\n",
            "20000/20000 [==============================] - 4s 209us/step - loss: 0.0238 - acc: 0.9914 - val_loss: 1.7178 - val_acc: 0.7462\n",
            "Epoch 39/100\n",
            "20000/20000 [==============================] - 4s 202us/step - loss: 0.0049 - acc: 0.9989 - val_loss: 1.9073 - val_acc: 0.7468\n",
            "Epoch 40/100\n",
            "20000/20000 [==============================] - 4s 210us/step - loss: 0.0017 - acc: 1.0000 - val_loss: 1.9660 - val_acc: 0.7500\n",
            "Epoch 41/100\n",
            "20000/20000 [==============================] - 4s 208us/step - loss: 8.9800e-04 - acc: 1.0000 - val_loss: 2.0148 - val_acc: 0.7504\n",
            "Epoch 42/100\n",
            "20000/20000 [==============================] - 4s 207us/step - loss: 7.6752e-04 - acc: 1.0000 - val_loss: 2.0420 - val_acc: 0.7502\n",
            "Epoch 43/100\n",
            "20000/20000 [==============================] - 4s 210us/step - loss: 6.4586e-04 - acc: 1.0000 - val_loss: 2.0811 - val_acc: 0.7496\n",
            "Epoch 44/100\n",
            "20000/20000 [==============================] - 4s 208us/step - loss: 5.9402e-04 - acc: 1.0000 - val_loss: 2.1078 - val_acc: 0.7488\n",
            "Epoch 45/100\n",
            "20000/20000 [==============================] - 4s 206us/step - loss: 5.6885e-04 - acc: 1.0000 - val_loss: 2.1499 - val_acc: 0.7464\n",
            "Epoch 46/100\n",
            "20000/20000 [==============================] - 4s 203us/step - loss: 4.4343e-04 - acc: 1.0000 - val_loss: 2.1735 - val_acc: 0.7480\n",
            "Epoch 47/100\n",
            "20000/20000 [==============================] - 4s 200us/step - loss: 4.2002e-04 - acc: 1.0000 - val_loss: 2.1723 - val_acc: 0.7458\n",
            "Epoch 48/100\n",
            "20000/20000 [==============================] - 4s 200us/step - loss: 3.9207e-04 - acc: 1.0000 - val_loss: 2.2035 - val_acc: 0.7476\n",
            "Epoch 49/100\n",
            "20000/20000 [==============================] - 4s 198us/step - loss: 3.6675e-04 - acc: 1.0000 - val_loss: 2.2280 - val_acc: 0.7490\n",
            "Epoch 50/100\n",
            "20000/20000 [==============================] - 4s 205us/step - loss: 3.5701e-04 - acc: 1.0000 - val_loss: 2.2238 - val_acc: 0.7478\n",
            "Epoch 51/100\n",
            "20000/20000 [==============================] - 4s 211us/step - loss: 3.3365e-04 - acc: 1.0000 - val_loss: 2.2676 - val_acc: 0.7498\n",
            "Epoch 52/100\n",
            "20000/20000 [==============================] - 4s 214us/step - loss: 3.1067e-04 - acc: 1.0000 - val_loss: 2.2878 - val_acc: 0.7506\n",
            "Epoch 53/100\n",
            "20000/20000 [==============================] - 4s 211us/step - loss: 2.9287e-04 - acc: 1.0000 - val_loss: 2.3099 - val_acc: 0.7508\n",
            "Epoch 54/100\n",
            "20000/20000 [==============================] - 4s 210us/step - loss: 0.0795 - acc: 0.9767 - val_loss: 1.5531 - val_acc: 0.7438\n",
            "Epoch 55/100\n",
            "20000/20000 [==============================] - 4s 211us/step - loss: 0.0723 - acc: 0.9761 - val_loss: 1.8552 - val_acc: 0.7352\n",
            "Epoch 56/100\n",
            "20000/20000 [==============================] - 4s 210us/step - loss: 0.0171 - acc: 0.9942 - val_loss: 2.0731 - val_acc: 0.7364\n",
            "Epoch 57/100\n",
            "20000/20000 [==============================] - 4s 206us/step - loss: 0.0035 - acc: 0.9994 - val_loss: 2.1117 - val_acc: 0.7372\n",
            "Epoch 58/100\n",
            "20000/20000 [==============================] - 4s 210us/step - loss: 9.3822e-04 - acc: 1.0000 - val_loss: 2.1640 - val_acc: 0.7366\n",
            "Epoch 59/100\n",
            "20000/20000 [==============================] - 4s 210us/step - loss: 6.1547e-04 - acc: 1.0000 - val_loss: 2.2176 - val_acc: 0.7372\n",
            "Epoch 60/100\n",
            "20000/20000 [==============================] - 4s 204us/step - loss: 5.2452e-04 - acc: 1.0000 - val_loss: 2.2345 - val_acc: 0.7362\n",
            "Epoch 61/100\n",
            "20000/20000 [==============================] - 4s 203us/step - loss: 4.6312e-04 - acc: 1.0000 - val_loss: 2.2855 - val_acc: 0.7376\n",
            "Epoch 62/100\n",
            "20000/20000 [==============================] - 4s 208us/step - loss: 4.0942e-04 - acc: 1.0000 - val_loss: 2.2926 - val_acc: 0.7362\n",
            "Epoch 63/100\n",
            "20000/20000 [==============================] - 4s 214us/step - loss: 3.7245e-04 - acc: 1.0000 - val_loss: 2.3198 - val_acc: 0.7378\n",
            "Epoch 64/100\n",
            "20000/20000 [==============================] - 4s 203us/step - loss: 3.4775e-04 - acc: 1.0000 - val_loss: 2.3396 - val_acc: 0.7374\n",
            "Epoch 65/100\n",
            "20000/20000 [==============================] - 4s 202us/step - loss: 3.2703e-04 - acc: 1.0000 - val_loss: 2.3595 - val_acc: 0.7378\n",
            "Epoch 66/100\n",
            "20000/20000 [==============================] - 4s 209us/step - loss: 3.1744e-04 - acc: 1.0000 - val_loss: 2.3588 - val_acc: 0.7378\n",
            "Epoch 67/100\n",
            "20000/20000 [==============================] - 4s 204us/step - loss: 3.0133e-04 - acc: 1.0000 - val_loss: 2.3810 - val_acc: 0.7368\n",
            "Epoch 68/100\n",
            "20000/20000 [==============================] - 4s 198us/step - loss: 2.7313e-04 - acc: 1.0000 - val_loss: 2.4047 - val_acc: 0.7372\n",
            "Epoch 69/100\n",
            "20000/20000 [==============================] - 4s 194us/step - loss: 2.5645e-04 - acc: 1.0000 - val_loss: 2.3940 - val_acc: 0.7362\n",
            "Epoch 70/100\n",
            "20000/20000 [==============================] - 4s 198us/step - loss: 2.2801e-04 - acc: 1.0000 - val_loss: 2.4342 - val_acc: 0.7380\n",
            "Epoch 71/100\n",
            "20000/20000 [==============================] - 4s 198us/step - loss: 2.1179e-04 - acc: 1.0000 - val_loss: 2.4609 - val_acc: 0.7374\n",
            "Epoch 72/100\n",
            "20000/20000 [==============================] - 4s 200us/step - loss: 2.0011e-04 - acc: 1.0000 - val_loss: 2.4679 - val_acc: 0.7406\n",
            "Epoch 73/100\n",
            "20000/20000 [==============================] - 4s 197us/step - loss: 1.7686e-04 - acc: 1.0000 - val_loss: 2.4969 - val_acc: 0.7400\n",
            "Epoch 74/100\n",
            "20000/20000 [==============================] - 4s 198us/step - loss: 1.6576e-04 - acc: 1.0000 - val_loss: 2.5179 - val_acc: 0.7404\n",
            "Epoch 75/100\n",
            "20000/20000 [==============================] - 4s 195us/step - loss: 1.5585e-04 - acc: 1.0000 - val_loss: 2.5363 - val_acc: 0.7410\n",
            "Epoch 76/100\n",
            "20000/20000 [==============================] - 4s 202us/step - loss: 1.4676e-04 - acc: 1.0000 - val_loss: 2.5529 - val_acc: 0.7404\n",
            "Epoch 77/100\n",
            "20000/20000 [==============================] - 4s 210us/step - loss: 1.3797e-04 - acc: 1.0000 - val_loss: 2.5697 - val_acc: 0.7402\n",
            "Epoch 78/100\n",
            "20000/20000 [==============================] - 4s 213us/step - loss: 1.2969e-04 - acc: 1.0000 - val_loss: 2.5854 - val_acc: 0.7408\n",
            "Epoch 79/100\n",
            "20000/20000 [==============================] - 4s 202us/step - loss: 0.0369 - acc: 0.9909 - val_loss: 1.8589 - val_acc: 0.7158\n",
            "Epoch 80/100\n",
            "20000/20000 [==============================] - 4s 200us/step - loss: 0.0891 - acc: 0.9735 - val_loss: 2.0722 - val_acc: 0.7366\n",
            "Epoch 81/100\n",
            "20000/20000 [==============================] - 4s 202us/step - loss: 0.0213 - acc: 0.9939 - val_loss: 2.2110 - val_acc: 0.7382\n",
            "Epoch 82/100\n",
            "20000/20000 [==============================] - 4s 200us/step - loss: 0.0049 - acc: 0.9984 - val_loss: 2.3298 - val_acc: 0.7438\n",
            "Epoch 83/100\n",
            "20000/20000 [==============================] - 4s 199us/step - loss: 0.0012 - acc: 0.9999 - val_loss: 2.3819 - val_acc: 0.7444\n",
            "Epoch 84/100\n",
            "20000/20000 [==============================] - 4s 198us/step - loss: 4.3686e-04 - acc: 1.0000 - val_loss: 2.3814 - val_acc: 0.7422\n",
            "Epoch 85/100\n",
            "20000/20000 [==============================] - 4s 197us/step - loss: 3.1440e-04 - acc: 1.0000 - val_loss: 2.4116 - val_acc: 0.7434\n",
            "Epoch 86/100\n",
            "20000/20000 [==============================] - 4s 195us/step - loss: 2.7720e-04 - acc: 1.0000 - val_loss: 2.4375 - val_acc: 0.7438\n",
            "Epoch 87/100\n",
            "20000/20000 [==============================] - 4s 198us/step - loss: 2.5237e-04 - acc: 1.0000 - val_loss: 2.4588 - val_acc: 0.7444\n",
            "Epoch 88/100\n",
            "20000/20000 [==============================] - 4s 196us/step - loss: 2.2664e-04 - acc: 1.0000 - val_loss: 2.4623 - val_acc: 0.7434\n",
            "Epoch 89/100\n",
            "20000/20000 [==============================] - 4s 197us/step - loss: 2.1392e-04 - acc: 1.0000 - val_loss: 2.4939 - val_acc: 0.7408\n",
            "Epoch 90/100\n",
            "20000/20000 [==============================] - 4s 195us/step - loss: 1.8285e-04 - acc: 1.0000 - val_loss: 2.5078 - val_acc: 0.7408\n",
            "Epoch 91/100\n",
            "20000/20000 [==============================] - 4s 196us/step - loss: 1.7056e-04 - acc: 1.0000 - val_loss: 2.5053 - val_acc: 0.7410\n",
            "Epoch 92/100\n",
            "20000/20000 [==============================] - 4s 196us/step - loss: 1.5688e-04 - acc: 1.0000 - val_loss: 2.5329 - val_acc: 0.7416\n",
            "Epoch 93/100\n",
            "20000/20000 [==============================] - 4s 195us/step - loss: 1.4731e-04 - acc: 1.0000 - val_loss: 2.5520 - val_acc: 0.7426\n",
            "Epoch 94/100\n",
            "20000/20000 [==============================] - 4s 189us/step - loss: 1.3962e-04 - acc: 1.0000 - val_loss: 2.5666 - val_acc: 0.7428\n",
            "Epoch 95/100\n",
            "20000/20000 [==============================] - 4s 192us/step - loss: 1.3244e-04 - acc: 1.0000 - val_loss: 2.5809 - val_acc: 0.7428\n",
            "Epoch 96/100\n",
            "20000/20000 [==============================] - 4s 191us/step - loss: 1.2578e-04 - acc: 1.0000 - val_loss: 2.5957 - val_acc: 0.7434\n",
            "Epoch 97/100\n",
            "20000/20000 [==============================] - 4s 191us/step - loss: 1.1930e-04 - acc: 1.0000 - val_loss: 2.6122 - val_acc: 0.7436\n",
            "Epoch 98/100\n",
            "20000/20000 [==============================] - 4s 189us/step - loss: 1.1293e-04 - acc: 1.0000 - val_loss: 2.6231 - val_acc: 0.7440\n",
            "Epoch 99/100\n",
            "20000/20000 [==============================] - 4s 190us/step - loss: 1.0668e-04 - acc: 1.0000 - val_loss: 2.6375 - val_acc: 0.7436\n",
            "Epoch 100/100\n",
            "20000/20000 [==============================] - 4s 190us/step - loss: 1.0062e-04 - acc: 1.0000 - val_loss: 2.6492 - val_acc: 0.7442\n"
          ],
          "name": "stdout"
        }
      ]
    },
    {
      "metadata": {
        "id": "96dNcIEqROcH",
        "colab_type": "code",
        "colab": {
          "base_uri": "https://localhost:8080/",
          "height": 347
        },
        "outputId": "4d326392-90a1-44aa-9ef6-a54a910a937d"
      },
      "cell_type": "code",
      "source": [
        "plt.plot(training_history.history['acc'])\n",
        "plt.plot(training_history.history['val_acc'])\n",
        "plt.legend(['training', 'validation'])\n",
        "plt.show()"
      ],
      "execution_count": 8,
      "outputs": [
        {
          "output_type": "display_data",
          "data": {
            "image/png": "[encoded data removed]",
            "text/plain": [
              "<Figure size 576x396 with 1 Axes>"
            ]
          },
          "metadata": {
            "tags": []
          }
        }
      ]
    },
    {
      "metadata": {
        "id": "E6HCTx9YRWgT",
        "colab_type": "code",
        "colab": {
          "base_uri": "https://localhost:8080/",
          "height": 51
        },
        "outputId": "2b3bb0dc-ee61-4b80-e0d6-9fc4a6c5192a"
      },
      "cell_type": "code",
      "source": [
        "results = model.evaluate(X_test, Y_test)\n",
        "print('Test accuracy', results[1])"
      ],
      "execution_count": 9,
      "outputs": [
        {
          "output_type": "stream",
          "text": [
            "25000/25000 [==============================] - 2s 85us/step\n",
            "Test accuracy 0.7458\n"
          ],
          "name": "stdout"
        }
      ]
    },
    {
      "metadata": {
        "id": "lWOv-DdkRjG8",
        "colab_type": "code",
        "colab": {}
      },
      "cell_type": "code",
      "source": [
        ""
      ],
      "execution_count": 0,
      "outputs": []
    }
  ]
}