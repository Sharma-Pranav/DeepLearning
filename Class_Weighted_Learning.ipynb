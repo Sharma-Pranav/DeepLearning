{
  "nbformat": 4,
  "nbformat_minor": 0,
  "metadata": {
    "colab": {
      "name": "Class Weighted Learning.ipynb",
      "version": "0.3.2",
      "provenance": [],
      "collapsed_sections": [],
      "include_colab_link": true
    },
    "kernelspec": {
      "name": "python3",
      "display_name": "Python 3"
    },
    "accelerator": "GPU"
  },
  "cells": [
    {
      "cell_type": "markdown",
      "metadata": {
        "id": "view-in-github",
        "colab_type": "text"
      },
      "source": [
        "<a href=\"https://colab.research.google.com/github/Sharma-Pranav/DeepLearning/blob/master/Class_Weighted_Learning.ipynb\" target=\"_parent\"><img src=\"https://colab.research.google.com/assets/colab-badge.svg\" alt=\"Open In Colab\"/></a>"
      ]
    },
    {
      "metadata": {
        "id": "o7Kq-9IRub1R",
        "colab_type": "code",
        "colab": {
          "base_uri": "https://localhost:8080/",
          "height": 34
        },
        "outputId": "11b14ad6-1a07-4cfa-9af7-2f16ca7fddc6"
      },
      "cell_type": "code",
      "source": [
        "import numpy as np\n",
        "from sklearn.utils import class_weight\n",
        "from sklearn.datasets import load_breast_cancer\n",
        "from sklearn.model_selection import train_test_split\n",
        "from sklearn.metrics import accuracy_score\n",
        "from collections import Counter\n",
        "from keras.models import Sequential\n",
        "from keras.layers import Dense\n",
        "from keras.optimizers import adam"
      ],
      "execution_count": 1,
      "outputs": [
        {
          "output_type": "stream",
          "text": [
            "Using TensorFlow backend.\n"
          ],
          "name": "stderr"
        }
      ]
    },
    {
      "metadata": {
        "id": "S98V6GoW2sx6",
        "colab_type": "code",
        "colab": {}
      },
      "cell_type": "code",
      "source": [
        "data = load_breast_cancer()\n",
        "X_data = data.data.tolist()\n",
        "y_data = data.target.tolist()"
      ],
      "execution_count": 0,
      "outputs": []
    },
    {
      "metadata": {
        "id": "lL4ZHZwO2u4D",
        "colab_type": "code",
        "colab": {
          "base_uri": "https://localhost:8080/",
          "height": 51
        },
        "outputId": "1e479088-b5d3-4a2c-e125-bde61c876824"
      },
      "cell_type": "code",
      "source": [
        "print(\"Number of malignant instances (0): \", Counter(y_data)[0])\n",
        "print(\"Number of benign instances (1): \", Counter(y_data)[1])"
      ],
      "execution_count": 3,
      "outputs": [
        {
          "output_type": "stream",
          "text": [
            "Number of malignant instances (0):  212\n",
            "Number of benign instances (1):  357\n"
          ],
          "name": "stdout"
        }
      ]
    },
    {
      "metadata": {
        "id": "elQS7TnF2x51",
        "colab_type": "code",
        "colab": {}
      },
      "cell_type": "code",
      "source": [
        "for i in range(200):\n",
        "    if y_data[i] == 0:\n",
        "        X_data[i] = None\n",
        "        y_data[i] = None"
      ],
      "execution_count": 0,
      "outputs": []
    },
    {
      "metadata": {
        "id": "Wq3Bjy2r2z86",
        "colab_type": "code",
        "colab": {}
      },
      "cell_type": "code",
      "source": [
        "X_data = [x for x in X_data if x != None]\n",
        "y_data = [y for y in y_data if y != None]"
      ],
      "execution_count": 0,
      "outputs": []
    },
    {
      "metadata": {
        "id": "yItAUrUD22su",
        "colab_type": "code",
        "colab": {
          "base_uri": "https://localhost:8080/",
          "height": 51
        },
        "outputId": "ed8384ba-24e7-45e4-f1be-fa49dbbb540c"
      },
      "cell_type": "code",
      "source": [
        "print(\"Number of malignant instances (0): \", Counter(y_data)[0])\n",
        "print(\"Number of benign instances (1): \", Counter(y_data)[1])"
      ],
      "execution_count": 6,
      "outputs": [
        {
          "output_type": "stream",
          "text": [
            "Number of malignant instances (0):  108\n",
            "Number of benign instances (1):  357\n"
          ],
          "name": "stdout"
        }
      ]
    },
    {
      "metadata": {
        "id": "pvtCYmEg25ZA",
        "colab_type": "code",
        "colab": {
          "base_uri": "https://localhost:8080/",
          "height": 34
        },
        "outputId": "646da869-d965-4167-a6f5-fd35fbbe305c"
      },
      "cell_type": "code",
      "source": [
        "X_train, X_test, y_train, y_test = train_test_split(np.asarray(X_data), np.asarray(y_data), test_size = 0.2, random_state = 7) \n",
        "\n",
        "print(X_train.shape, X_test.shape, y_train.shape, y_test.shape)"
      ],
      "execution_count": 7,
      "outputs": [
        {
          "output_type": "stream",
          "text": [
            "(372, 30) (93, 30) (372,) (93,)\n"
          ],
          "name": "stdout"
        }
      ]
    },
    {
      "metadata": {
        "id": "iLCLmaFE2-7l",
        "colab_type": "code",
        "colab": {}
      },
      "cell_type": "code",
      "source": [
        "# Computing class Weights\n",
        "\n",
        "weights = class_weight.compute_class_weight('balanced', np.unique(y_train), y_train)"
      ],
      "execution_count": 0,
      "outputs": []
    },
    {
      "metadata": {
        "id": "P6G3Z_Sb3J7g",
        "colab_type": "code",
        "colab": {
          "base_uri": "https://localhost:8080/",
          "height": 34
        },
        "outputId": "426e53e6-933a-43a1-8f7d-c1a93563c337"
      },
      "cell_type": "code",
      "source": [
        "class_weights = dict(zip(np.unique(y_train), weights))\n",
        "print(\"Computed class weights: \", class_weights)"
      ],
      "execution_count": 9,
      "outputs": [
        {
          "output_type": "stream",
          "text": [
            "Computed class weights:  {0: 2.2409638554216866, 1: 0.643598615916955}\n"
          ],
          "name": "stdout"
        }
      ]
    },
    {
      "metadata": {
        "id": "acswAJwA3NjU",
        "colab_type": "code",
        "colab": {}
      },
      "cell_type": "code",
      "source": [
        "def simple_mlp():\n",
        "    model = Sequential()\n",
        "    model.add(Dense(10, input_shape = (X_train.shape[1],), activation = 'relu'))\n",
        "    model.add(Dense(1, activation = 'sigmoid'))\n",
        "    model.compile(optimizer = adam(lr = 0.001), loss = 'binary_crossentropy', metrics = ['acc'])\n",
        "    return model"
      ],
      "execution_count": 0,
      "outputs": []
    },
    {
      "metadata": {
        "id": "iK4aymgZ3VTv",
        "colab_type": "code",
        "colab": {
          "base_uri": "https://localhost:8080/",
          "height": 3556
        },
        "outputId": "8c019535-caea-4e9d-e8ac-51db21ff69b7"
      },
      "cell_type": "code",
      "source": [
        "#Class Weighted Learning\n",
        "model = simple_mlp()\n",
        "model.fit(X_train, y_train, epochs = 100, class_weight = class_weights)"
      ],
      "execution_count": 11,
      "outputs": [
        {
          "output_type": "stream",
          "text": [
            "WARNING:tensorflow:From /usr/local/lib/python3.6/dist-packages/tensorflow/python/framework/op_def_library.py:263: colocate_with (from tensorflow.python.framework.ops) is deprecated and will be removed in a future version.\n",
            "Instructions for updating:\n",
            "Colocations handled automatically by placer.\n",
            "WARNING:tensorflow:From /usr/local/lib/python3.6/dist-packages/tensorflow/python/ops/math_ops.py:3066: to_int32 (from tensorflow.python.ops.math_ops) is deprecated and will be removed in a future version.\n",
            "Instructions for updating:\n",
            "Use tf.cast instead.\n",
            "Epoch 1/100\n",
            "372/372 [==============================] - 3s 7ms/step - loss: 7.9712 - acc: 0.7769\n",
            "Epoch 2/100\n",
            "372/372 [==============================] - 0s 144us/step - loss: 7.9712 - acc: 0.7769\n",
            "Epoch 3/100\n",
            "372/372 [==============================] - 0s 145us/step - loss: 7.9712 - acc: 0.7769\n",
            "Epoch 4/100\n",
            "372/372 [==============================] - 0s 145us/step - loss: 7.9712 - acc: 0.7769\n",
            "Epoch 5/100\n",
            "372/372 [==============================] - 0s 146us/step - loss: 7.9712 - acc: 0.7769\n",
            "Epoch 6/100\n",
            "372/372 [==============================] - 0s 147us/step - loss: 7.9712 - acc: 0.7769\n",
            "Epoch 7/100\n",
            "372/372 [==============================] - 0s 139us/step - loss: 7.9712 - acc: 0.7769\n",
            "Epoch 8/100\n",
            "372/372 [==============================] - 0s 139us/step - loss: 7.9712 - acc: 0.7769\n",
            "Epoch 9/100\n",
            "372/372 [==============================] - 0s 145us/step - loss: 7.9712 - acc: 0.7769\n",
            "Epoch 10/100\n",
            "372/372 [==============================] - 0s 141us/step - loss: 7.9712 - acc: 0.7769\n",
            "Epoch 11/100\n",
            "372/372 [==============================] - 0s 140us/step - loss: 7.9712 - acc: 0.7769\n",
            "Epoch 12/100\n",
            "372/372 [==============================] - 0s 139us/step - loss: 7.9712 - acc: 0.7769\n",
            "Epoch 13/100\n",
            "372/372 [==============================] - 0s 146us/step - loss: 7.9712 - acc: 0.7769\n",
            "Epoch 14/100\n",
            "372/372 [==============================] - 0s 143us/step - loss: 7.9712 - acc: 0.7769\n",
            "Epoch 15/100\n",
            "372/372 [==============================] - 0s 141us/step - loss: 7.9712 - acc: 0.7769\n",
            "Epoch 16/100\n",
            "372/372 [==============================] - 0s 136us/step - loss: 7.9712 - acc: 0.7769\n",
            "Epoch 17/100\n",
            "372/372 [==============================] - 0s 154us/step - loss: 7.9712 - acc: 0.7769\n",
            "Epoch 18/100\n",
            "372/372 [==============================] - 0s 141us/step - loss: 7.9712 - acc: 0.7769\n",
            "Epoch 19/100\n",
            "372/372 [==============================] - 0s 156us/step - loss: 7.9712 - acc: 0.7769\n",
            "Epoch 20/100\n",
            "372/372 [==============================] - 0s 141us/step - loss: 7.9712 - acc: 0.7769\n",
            "Epoch 21/100\n",
            "372/372 [==============================] - 0s 135us/step - loss: 7.9712 - acc: 0.7769\n",
            "Epoch 22/100\n",
            "372/372 [==============================] - 0s 132us/step - loss: 7.9712 - acc: 0.7769\n",
            "Epoch 23/100\n",
            "372/372 [==============================] - 0s 133us/step - loss: 7.9712 - acc: 0.7769\n",
            "Epoch 24/100\n",
            "372/372 [==============================] - 0s 142us/step - loss: 7.9712 - acc: 0.7769\n",
            "Epoch 25/100\n",
            "372/372 [==============================] - 0s 137us/step - loss: 7.9712 - acc: 0.7769\n",
            "Epoch 26/100\n",
            "372/372 [==============================] - 0s 136us/step - loss: 7.9712 - acc: 0.7769\n",
            "Epoch 27/100\n",
            "372/372 [==============================] - 0s 144us/step - loss: 7.9712 - acc: 0.7769\n",
            "Epoch 28/100\n",
            "372/372 [==============================] - 0s 150us/step - loss: 7.9712 - acc: 0.7769\n",
            "Epoch 29/100\n",
            "372/372 [==============================] - 0s 138us/step - loss: 7.9712 - acc: 0.7769\n",
            "Epoch 30/100\n",
            "372/372 [==============================] - 0s 135us/step - loss: 7.9712 - acc: 0.7769\n",
            "Epoch 31/100\n",
            "372/372 [==============================] - 0s 136us/step - loss: 7.9712 - acc: 0.7769\n",
            "Epoch 32/100\n",
            "372/372 [==============================] - 0s 134us/step - loss: 7.9712 - acc: 0.7769\n",
            "Epoch 33/100\n",
            "372/372 [==============================] - 0s 142us/step - loss: 7.9712 - acc: 0.7769\n",
            "Epoch 34/100\n",
            "372/372 [==============================] - 0s 150us/step - loss: 7.9712 - acc: 0.7769\n",
            "Epoch 35/100\n",
            "372/372 [==============================] - 0s 140us/step - loss: 7.9712 - acc: 0.7769\n",
            "Epoch 36/100\n",
            "372/372 [==============================] - 0s 140us/step - loss: 7.9712 - acc: 0.7769\n",
            "Epoch 37/100\n",
            "372/372 [==============================] - 0s 144us/step - loss: 7.9712 - acc: 0.7769\n",
            "Epoch 38/100\n",
            "372/372 [==============================] - 0s 171us/step - loss: 7.9712 - acc: 0.7769\n",
            "Epoch 39/100\n",
            "372/372 [==============================] - 0s 133us/step - loss: 7.9712 - acc: 0.7769\n",
            "Epoch 40/100\n",
            "372/372 [==============================] - 0s 142us/step - loss: 7.9712 - acc: 0.7769\n",
            "Epoch 41/100\n",
            "372/372 [==============================] - 0s 150us/step - loss: 7.9712 - acc: 0.7769\n",
            "Epoch 42/100\n",
            "372/372 [==============================] - 0s 143us/step - loss: 7.9712 - acc: 0.7769\n",
            "Epoch 43/100\n",
            "372/372 [==============================] - 0s 136us/step - loss: 7.9712 - acc: 0.7769\n",
            "Epoch 44/100\n",
            "372/372 [==============================] - 0s 134us/step - loss: 7.9712 - acc: 0.7769\n",
            "Epoch 45/100\n",
            "372/372 [==============================] - 0s 135us/step - loss: 7.9712 - acc: 0.7769\n",
            "Epoch 46/100\n",
            "372/372 [==============================] - 0s 138us/step - loss: 7.9712 - acc: 0.7769\n",
            "Epoch 47/100\n",
            "372/372 [==============================] - 0s 145us/step - loss: 7.9712 - acc: 0.7769\n",
            "Epoch 48/100\n",
            "372/372 [==============================] - 0s 137us/step - loss: 7.9712 - acc: 0.7769\n",
            "Epoch 49/100\n",
            "372/372 [==============================] - 0s 136us/step - loss: 7.9712 - acc: 0.7769\n",
            "Epoch 50/100\n",
            "372/372 [==============================] - 0s 137us/step - loss: 7.9712 - acc: 0.7769\n",
            "Epoch 51/100\n",
            "372/372 [==============================] - 0s 138us/step - loss: 7.9712 - acc: 0.7769\n",
            "Epoch 52/100\n",
            "372/372 [==============================] - 0s 132us/step - loss: 7.9712 - acc: 0.7769\n",
            "Epoch 53/100\n",
            "372/372 [==============================] - 0s 138us/step - loss: 7.9712 - acc: 0.7769\n",
            "Epoch 54/100\n",
            "372/372 [==============================] - 0s 136us/step - loss: 7.9712 - acc: 0.7769\n",
            "Epoch 55/100\n",
            "372/372 [==============================] - 0s 146us/step - loss: 7.9712 - acc: 0.7769\n",
            "Epoch 56/100\n",
            "372/372 [==============================] - 0s 151us/step - loss: 7.9712 - acc: 0.7769\n",
            "Epoch 57/100\n",
            "372/372 [==============================] - 0s 193us/step - loss: 7.9712 - acc: 0.7769\n",
            "Epoch 58/100\n",
            "372/372 [==============================] - 0s 183us/step - loss: 7.9712 - acc: 0.7769\n",
            "Epoch 59/100\n",
            "372/372 [==============================] - 0s 134us/step - loss: 7.9712 - acc: 0.7769\n",
            "Epoch 60/100\n",
            "372/372 [==============================] - 0s 155us/step - loss: 7.9712 - acc: 0.7769\n",
            "Epoch 61/100\n",
            "372/372 [==============================] - 0s 153us/step - loss: 7.9712 - acc: 0.7769\n",
            "Epoch 62/100\n",
            "372/372 [==============================] - 0s 154us/step - loss: 7.9712 - acc: 0.7769\n",
            "Epoch 63/100\n",
            "372/372 [==============================] - 0s 143us/step - loss: 7.9712 - acc: 0.7769\n",
            "Epoch 64/100\n",
            "372/372 [==============================] - 0s 145us/step - loss: 7.9712 - acc: 0.7769\n",
            "Epoch 65/100\n",
            "372/372 [==============================] - 0s 141us/step - loss: 7.9712 - acc: 0.7769\n",
            "Epoch 66/100\n",
            "372/372 [==============================] - 0s 135us/step - loss: 7.9712 - acc: 0.7769\n",
            "Epoch 67/100\n",
            "372/372 [==============================] - 0s 137us/step - loss: 7.9712 - acc: 0.7769\n",
            "Epoch 68/100\n",
            "372/372 [==============================] - 0s 142us/step - loss: 7.9712 - acc: 0.7769\n",
            "Epoch 69/100\n",
            "372/372 [==============================] - 0s 138us/step - loss: 7.9712 - acc: 0.7769\n",
            "Epoch 70/100\n",
            "372/372 [==============================] - 0s 147us/step - loss: 7.9712 - acc: 0.7769\n",
            "Epoch 71/100\n",
            "372/372 [==============================] - 0s 146us/step - loss: 7.9712 - acc: 0.7769\n",
            "Epoch 72/100\n",
            "372/372 [==============================] - 0s 141us/step - loss: 7.9712 - acc: 0.7769\n",
            "Epoch 73/100\n",
            "372/372 [==============================] - 0s 142us/step - loss: 7.9712 - acc: 0.7769\n",
            "Epoch 74/100\n",
            "372/372 [==============================] - 0s 150us/step - loss: 7.9712 - acc: 0.7769\n",
            "Epoch 75/100\n",
            "372/372 [==============================] - 0s 162us/step - loss: 7.9712 - acc: 0.7769\n",
            "Epoch 76/100\n",
            "372/372 [==============================] - 0s 138us/step - loss: 7.9712 - acc: 0.7769\n",
            "Epoch 77/100\n",
            "372/372 [==============================] - 0s 137us/step - loss: 7.9712 - acc: 0.7769\n",
            "Epoch 78/100\n",
            "372/372 [==============================] - 0s 140us/step - loss: 7.9712 - acc: 0.7769\n",
            "Epoch 79/100\n",
            "372/372 [==============================] - 0s 144us/step - loss: 7.9712 - acc: 0.7769\n",
            "Epoch 80/100\n",
            "372/372 [==============================] - 0s 141us/step - loss: 7.9712 - acc: 0.7769\n",
            "Epoch 81/100\n",
            "372/372 [==============================] - 0s 145us/step - loss: 7.9712 - acc: 0.7769\n",
            "Epoch 82/100\n",
            "372/372 [==============================] - 0s 141us/step - loss: 7.9712 - acc: 0.7769\n",
            "Epoch 83/100\n",
            "372/372 [==============================] - 0s 142us/step - loss: 7.9712 - acc: 0.7769\n",
            "Epoch 84/100\n",
            "372/372 [==============================] - 0s 137us/step - loss: 7.9712 - acc: 0.7769\n",
            "Epoch 85/100\n",
            "372/372 [==============================] - 0s 143us/step - loss: 7.9712 - acc: 0.7769\n",
            "Epoch 86/100\n",
            "372/372 [==============================] - 0s 145us/step - loss: 7.9712 - acc: 0.7769\n",
            "Epoch 87/100\n",
            "372/372 [==============================] - 0s 139us/step - loss: 7.9712 - acc: 0.7769\n",
            "Epoch 88/100\n",
            "372/372 [==============================] - 0s 146us/step - loss: 7.9712 - acc: 0.7769\n",
            "Epoch 89/100\n",
            "372/372 [==============================] - 0s 142us/step - loss: 7.9712 - acc: 0.7769\n",
            "Epoch 90/100\n",
            "372/372 [==============================] - 0s 137us/step - loss: 7.9712 - acc: 0.7769\n",
            "Epoch 91/100\n",
            "372/372 [==============================] - 0s 135us/step - loss: 7.9712 - acc: 0.7769\n",
            "Epoch 92/100\n",
            "372/372 [==============================] - 0s 140us/step - loss: 7.9712 - acc: 0.7769\n",
            "Epoch 93/100\n",
            "372/372 [==============================] - 0s 143us/step - loss: 7.9712 - acc: 0.7769\n",
            "Epoch 94/100\n",
            "372/372 [==============================] - 0s 153us/step - loss: 7.9712 - acc: 0.7769\n",
            "Epoch 95/100\n",
            "372/372 [==============================] - 0s 139us/step - loss: 7.9712 - acc: 0.7769\n",
            "Epoch 96/100\n",
            "372/372 [==============================] - 0s 148us/step - loss: 7.9712 - acc: 0.7769\n",
            "Epoch 97/100\n",
            "372/372 [==============================] - 0s 142us/step - loss: 7.9712 - acc: 0.7769\n",
            "Epoch 98/100\n",
            "372/372 [==============================] - 0s 139us/step - loss: 7.9712 - acc: 0.7769\n",
            "Epoch 99/100\n",
            "372/372 [==============================] - 0s 137us/step - loss: 7.9712 - acc: 0.7769\n",
            "Epoch 100/100\n",
            "372/372 [==============================] - 0s 130us/step - loss: 7.9712 - acc: 0.7769\n"
          ],
          "name": "stdout"
        },
        {
          "output_type": "execute_result",
          "data": {
            "text/plain": [
              "<keras.callbacks.History at 0x7f6a8b6c6128>"
            ]
          },
          "metadata": {
            "tags": []
          },
          "execution_count": 11
        }
      ]
    },
    {
      "metadata": {
        "id": "-gDF9f6W3XiP",
        "colab_type": "code",
        "colab": {}
      },
      "cell_type": "code",
      "source": [
        "y_pred = model.predict(X_test).round()"
      ],
      "execution_count": 0,
      "outputs": []
    },
    {
      "metadata": {
        "id": "257q6DaX3hgo",
        "colab_type": "text"
      },
      "cell_type": "markdown",
      "source": [
        ""
      ]
    },
    {
      "metadata": {
        "id": "eDJcgoqB3aH-",
        "colab_type": "code",
        "colab": {
          "base_uri": "https://localhost:8080/",
          "height": 51
        },
        "outputId": "1659bbbb-15fb-4350-969c-9e583efc2546"
      },
      "cell_type": "code",
      "source": [
        "print(\"% of predicted 1's: \", y_pred.sum()/len(y_pred))\n",
        "print(\"Overall Accuracy Score: \", accuracy_score(y_pred, y_test))"
      ],
      "execution_count": 13,
      "outputs": [
        {
          "output_type": "stream",
          "text": [
            "% of predicted 1's:  1.0\n",
            "Overall Accuracy Score:  0.7311827956989247\n"
          ],
          "name": "stdout"
        }
      ]
    },
    {
      "metadata": {
        "id": "Xz7YxgVC3gie",
        "colab_type": "code",
        "colab": {}
      },
      "cell_type": "code",
      "source": [
        ""
      ],
      "execution_count": 0,
      "outputs": []
    }
  ]
}