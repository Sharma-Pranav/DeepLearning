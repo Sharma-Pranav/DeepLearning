{
  "nbformat": 4,
  "nbformat_minor": 0,
  "metadata": {
    "colab": {
      "name": "CNN_Advancd_for_imdb.ipynb",
      "version": "0.3.2",
      "provenance": [],
      "collapsed_sections": [],
      "include_colab_link": true
    },
    "kernelspec": {
      "name": "python3",
      "display_name": "Python 3"
    },
    "accelerator": "GPU"
  },
  "cells": [
    {
      "cell_type": "markdown",
      "metadata": {
        "id": "view-in-github",
        "colab_type": "text"
      },
      "source": [
        "<a href=\"https://colab.research.google.com/github/Sharma-Pranav/DeepLearning/blob/master/CNN_Advancd_for_imdb.ipynb\" target=\"_parent\"><img src=\"https://colab.research.google.com/assets/colab-badge.svg\" alt=\"Open In Colab\"/></a>"
      ]
    },
    {
      "metadata": {
        "id": "aUWjTz1StplN",
        "colab_type": "code",
        "colab": {
          "base_uri": "https://localhost:8080/",
          "height": 34
        },
        "outputId": "f9547003-8e70-4c7d-9a99-b9392d5751a1"
      },
      "cell_type": "code",
      "source": [
        "import numpy as np\n",
        "import matplotlib.pyplot as plt\n",
        "\n",
        "from keras.datasets import imdb\n",
        "from keras.preprocessing.sequence import pad_sequences\n",
        "from keras.models import Sequential\n",
        "from keras.layers import Dense, Dropout, Activation, Conv2D, MaxPooling2D, Embedding, Flatten, Reshape\n",
        "from keras import optimizers\n",
        "\n",
        "from keras.models import Model\n",
        "from keras.layers import concatenate, Input\n",
        "from keras.layers import BatchNormalization\n"
      ],
      "execution_count": 1,
      "outputs": [
        {
          "output_type": "stream",
          "text": [
            "Using TensorFlow backend.\n"
          ],
          "name": "stderr"
        }
      ]
    },
    {
      "metadata": {
        "id": "uw1XRoXiupN3",
        "colab_type": "code",
        "colab": {}
      },
      "cell_type": "code",
      "source": [
        "num_features = 3000\n",
        "sequence_length = 300\n",
        "embedding_dimension = 100"
      ],
      "execution_count": 0,
      "outputs": []
    },
    {
      "metadata": {
        "id": "VhckzPDYvA6k",
        "colab_type": "code",
        "colab": {
          "base_uri": "https://localhost:8080/",
          "height": 51
        },
        "outputId": "0ff0d8ed-59a2-48d6-b475-b256fcc1a7f0"
      },
      "cell_type": "code",
      "source": [
        "(X_train, y_train), (X_test, y_test) = imdb.load_data(num_words = num_features)\n"
      ],
      "execution_count": 3,
      "outputs": [
        {
          "output_type": "stream",
          "text": [
            "Downloading data from https://s3.amazonaws.com/text-datasets/imdb.npz\n",
            "17465344/17464789 [==============================] - 2s 0us/step\n"
          ],
          "name": "stdout"
        }
      ]
    },
    {
      "metadata": {
        "id": "VieV2g8bvE7e",
        "colab_type": "code",
        "colab": {}
      },
      "cell_type": "code",
      "source": [
        "X_train = pad_sequences(X_train, maxlen = sequence_length)\n",
        "X_test = pad_sequences(X_test, maxlen = sequence_length)"
      ],
      "execution_count": 0,
      "outputs": []
    },
    {
      "metadata": {
        "id": "LuC4uQXcvlbZ",
        "colab_type": "code",
        "colab": {}
      },
      "cell_type": "code",
      "source": [
        "filter_sizes = [3, 4, 5]"
      ],
      "execution_count": 0,
      "outputs": []
    },
    {
      "metadata": {
        "id": "8lo9bpHsvtn5",
        "colab_type": "code",
        "colab": {}
      },
      "cell_type": "code",
      "source": [
        "def convolution():\n",
        "  inn = Input(shape = (sequence_length, embedding_dimension, 1))\n",
        "  convolutions = []\n",
        "  for f_size in filter_sizes:\n",
        "    conv = Conv2D(filters = 100, kernel_size = (f_size, embedding_dimension), strides = 1, padding = \"valid\")(inn)\n",
        "    act = Activation('relu')(conv)\n",
        "    maxpool = MaxPooling2D(pool_size = (sequence_length - f_size + 1, 1), padding = \"valid\")(act)\n",
        "    convolutions.append(maxpool)\n",
        "   \n",
        "  outt = concatenate(convolutions)\n",
        "  model = Model(inputs = inn, outputs = outt)\n",
        "  \n",
        "  return model"
      ],
      "execution_count": 0,
      "outputs": []
    },
    {
      "metadata": {
        "id": "BnAQYTzswN6K",
        "colab_type": "code",
        "colab": {}
      },
      "cell_type": "code",
      "source": [
        "def cnn():\n",
        "  model = Sequential()\n",
        "  model.add(Embedding(input_dim = 3000, output_dim = embedding_dimension, input_length = sequence_length))\n",
        "  model.add(Reshape((sequence_length, embedding_dimension, 1), input_shape = (sequence_length, embedding_dimension)))\n",
        "  model.add(Dropout(0.5))\n",
        "  model.add(convolution())\n",
        "  model.add(Flatten())\n",
        "  model.add(Dense(10))\n",
        "  model.add(BatchNormalization())\n",
        "  model.add(Activation('relu'))\n",
        "  model.add(Dropout(0.5))\n",
        "  model.add(Dense(10))\n",
        "  model.add(Activation('relu'))\n",
        "  model.add(BatchNormalization())\n",
        "  model.add(Dense(1))\n",
        "  model.add(Activation('sigmoid'))\n",
        "  \n",
        "  adam = optimizers.Adam()\n",
        "  model.compile(loss = 'binary_crossentropy', optimizer = adam, metrics = ['accuracy'])\n",
        "  \n",
        "  return model"
      ],
      "execution_count": 0,
      "outputs": []
    },
    {
      "metadata": {
        "id": "RFWfdI6k0f22",
        "colab_type": "code",
        "colab": {
          "base_uri": "https://localhost:8080/",
          "height": 119
        },
        "outputId": "123f7ed6-135c-43e9-ad80-45e7ad81b778"
      },
      "cell_type": "code",
      "source": [
        "model = cnn()"
      ],
      "execution_count": 8,
      "outputs": [
        {
          "output_type": "stream",
          "text": [
            "WARNING:tensorflow:From /usr/local/lib/python3.6/dist-packages/tensorflow/python/framework/op_def_library.py:263: colocate_with (from tensorflow.python.framework.ops) is deprecated and will be removed in a future version.\n",
            "Instructions for updating:\n",
            "Colocations handled automatically by placer.\n",
            "WARNING:tensorflow:From /usr/local/lib/python3.6/dist-packages/keras/backend/tensorflow_backend.py:3445: calling dropout (from tensorflow.python.ops.nn_ops) with keep_prob is deprecated and will be removed in a future version.\n",
            "Instructions for updating:\n",
            "Please use `rate` instead of `keep_prob`. Rate should be set to `rate = 1 - keep_prob`.\n"
          ],
          "name": "stdout"
        }
      ]
    },
    {
      "metadata": {
        "id": "xlaw548K0h1e",
        "colab_type": "code",
        "colab": {
          "base_uri": "https://localhost:8080/",
          "height": 3434
        },
        "outputId": "6708a599-efda-424e-c73f-477c13e8172b"
      },
      "cell_type": "code",
      "source": [
        "train_history = model.fit(X_train, y_train, batch_size = 50, epochs = 100, validation_split = 0.2, verbose = 1)"
      ],
      "execution_count": 10,
      "outputs": [
        {
          "output_type": "stream",
          "text": [
            "Train on 20000 samples, validate on 5000 samples\n",
            "Epoch 1/100\n",
            "20000/20000 [==============================] - 19s 927us/step - loss: 0.3079 - acc: 0.8751 - val_loss: 0.2927 - val_acc: 0.8838\n",
            "Epoch 2/100\n",
            "20000/20000 [==============================] - 18s 920us/step - loss: 0.2771 - acc: 0.8913 - val_loss: 0.2836 - val_acc: 0.8916\n",
            "Epoch 3/100\n",
            "20000/20000 [==============================] - 18s 919us/step - loss: 0.2595 - acc: 0.9000 - val_loss: 0.2948 - val_acc: 0.8808\n",
            "Epoch 4/100\n",
            "20000/20000 [==============================] - 18s 920us/step - loss: 0.2312 - acc: 0.9122 - val_loss: 0.2689 - val_acc: 0.8912\n",
            "Epoch 5/100\n",
            "20000/20000 [==============================] - 18s 919us/step - loss: 0.2248 - acc: 0.9137 - val_loss: 0.2755 - val_acc: 0.8942\n",
            "Epoch 6/100\n",
            "20000/20000 [==============================] - 18s 918us/step - loss: 0.2179 - acc: 0.9155 - val_loss: 0.2685 - val_acc: 0.8910\n",
            "Epoch 7/100\n",
            "20000/20000 [==============================] - 18s 919us/step - loss: 0.2071 - acc: 0.9221 - val_loss: 0.3148 - val_acc: 0.8744\n",
            "Epoch 8/100\n",
            "20000/20000 [==============================] - 18s 919us/step - loss: 0.1945 - acc: 0.9261 - val_loss: 0.2901 - val_acc: 0.8820\n",
            "Epoch 9/100\n",
            "20000/20000 [==============================] - 18s 923us/step - loss: 0.1901 - acc: 0.9271 - val_loss: 0.2707 - val_acc: 0.8932\n",
            "Epoch 10/100\n",
            "20000/20000 [==============================] - 18s 924us/step - loss: 0.1809 - acc: 0.9322 - val_loss: 0.3074 - val_acc: 0.8768\n",
            "Epoch 11/100\n",
            "20000/20000 [==============================] - 18s 922us/step - loss: 0.1771 - acc: 0.9347 - val_loss: 0.2663 - val_acc: 0.8908\n",
            "Epoch 12/100\n",
            "20000/20000 [==============================] - 18s 922us/step - loss: 0.1711 - acc: 0.9357 - val_loss: 0.2662 - val_acc: 0.8912\n",
            "Epoch 13/100\n",
            "20000/20000 [==============================] - 18s 922us/step - loss: 0.1597 - acc: 0.9401 - val_loss: 0.2760 - val_acc: 0.8930\n",
            "Epoch 14/100\n",
            "20000/20000 [==============================] - 18s 916us/step - loss: 0.1502 - acc: 0.9457 - val_loss: 0.3086 - val_acc: 0.8856\n",
            "Epoch 15/100\n",
            "20000/20000 [==============================] - 18s 915us/step - loss: 0.1455 - acc: 0.9475 - val_loss: 0.2683 - val_acc: 0.8944\n",
            "Epoch 16/100\n",
            "20000/20000 [==============================] - 18s 918us/step - loss: 0.1440 - acc: 0.9457 - val_loss: 0.2725 - val_acc: 0.8904\n",
            "Epoch 17/100\n",
            "20000/20000 [==============================] - 18s 917us/step - loss: 0.1363 - acc: 0.9497 - val_loss: 0.2785 - val_acc: 0.8858\n",
            "Epoch 18/100\n",
            "20000/20000 [==============================] - 18s 916us/step - loss: 0.1376 - acc: 0.9495 - val_loss: 0.2621 - val_acc: 0.8928\n",
            "Epoch 19/100\n",
            "20000/20000 [==============================] - 18s 919us/step - loss: 0.1334 - acc: 0.9508 - val_loss: 0.2653 - val_acc: 0.8954\n",
            "Epoch 20/100\n",
            "20000/20000 [==============================] - 18s 918us/step - loss: 0.1229 - acc: 0.9569 - val_loss: 0.2736 - val_acc: 0.8854\n",
            "Epoch 21/100\n",
            "20000/20000 [==============================] - 18s 915us/step - loss: 0.1248 - acc: 0.9535 - val_loss: 0.2934 - val_acc: 0.8758\n",
            "Epoch 22/100\n",
            "20000/20000 [==============================] - 18s 915us/step - loss: 0.1197 - acc: 0.9572 - val_loss: 0.2685 - val_acc: 0.8920\n",
            "Epoch 23/100\n",
            "20000/20000 [==============================] - 18s 916us/step - loss: 0.1176 - acc: 0.9581 - val_loss: 0.2684 - val_acc: 0.8942\n",
            "Epoch 24/100\n",
            "20000/20000 [==============================] - 18s 915us/step - loss: 0.1181 - acc: 0.9580 - val_loss: 0.2713 - val_acc: 0.8880\n",
            "Epoch 25/100\n",
            "20000/20000 [==============================] - 18s 919us/step - loss: 0.1129 - acc: 0.9601 - val_loss: 0.2736 - val_acc: 0.8912\n",
            "Epoch 26/100\n",
            "20000/20000 [==============================] - 18s 916us/step - loss: 0.1118 - acc: 0.9605 - val_loss: 0.2778 - val_acc: 0.8886\n",
            "Epoch 27/100\n",
            "20000/20000 [==============================] - 18s 917us/step - loss: 0.1044 - acc: 0.9633 - val_loss: 0.2684 - val_acc: 0.8924\n",
            "Epoch 28/100\n",
            "20000/20000 [==============================] - 18s 917us/step - loss: 0.1044 - acc: 0.9637 - val_loss: 0.2776 - val_acc: 0.8928\n",
            "Epoch 29/100\n",
            "20000/20000 [==============================] - 18s 919us/step - loss: 0.0973 - acc: 0.9656 - val_loss: 0.2717 - val_acc: 0.8944\n",
            "Epoch 30/100\n",
            "20000/20000 [==============================] - 18s 918us/step - loss: 0.1003 - acc: 0.9644 - val_loss: 0.2795 - val_acc: 0.8732\n",
            "Epoch 31/100\n",
            "20000/20000 [==============================] - 18s 917us/step - loss: 0.0974 - acc: 0.9663 - val_loss: 0.2859 - val_acc: 0.8904\n",
            "Epoch 32/100\n",
            "20000/20000 [==============================] - 18s 915us/step - loss: 0.0912 - acc: 0.9679 - val_loss: 0.2802 - val_acc: 0.8896\n",
            "Epoch 33/100\n",
            "20000/20000 [==============================] - 18s 918us/step - loss: 0.0948 - acc: 0.9672 - val_loss: 0.2732 - val_acc: 0.8872\n",
            "Epoch 34/100\n",
            "20000/20000 [==============================] - 18s 915us/step - loss: 0.0978 - acc: 0.9636 - val_loss: 0.2864 - val_acc: 0.8786\n",
            "Epoch 35/100\n",
            "20000/20000 [==============================] - 18s 916us/step - loss: 0.0840 - acc: 0.9711 - val_loss: 0.2788 - val_acc: 0.8902\n",
            "Epoch 36/100\n",
            "20000/20000 [==============================] - 18s 914us/step - loss: 0.0927 - acc: 0.9683 - val_loss: 0.3031 - val_acc: 0.8632\n",
            "Epoch 37/100\n",
            "20000/20000 [==============================] - 18s 917us/step - loss: 0.0884 - acc: 0.9688 - val_loss: 0.2931 - val_acc: 0.8796\n",
            "Epoch 38/100\n",
            "20000/20000 [==============================] - 18s 922us/step - loss: 0.0847 - acc: 0.9702 - val_loss: 0.2790 - val_acc: 0.8926\n",
            "Epoch 39/100\n",
            "20000/20000 [==============================] - 18s 921us/step - loss: 0.0838 - acc: 0.9699 - val_loss: 0.2897 - val_acc: 0.8886\n",
            "Epoch 40/100\n",
            "20000/20000 [==============================] - 18s 916us/step - loss: 0.0741 - acc: 0.9748 - val_loss: 0.2978 - val_acc: 0.8870\n",
            "Epoch 41/100\n",
            "20000/20000 [==============================] - 18s 915us/step - loss: 0.0785 - acc: 0.9730 - val_loss: 0.3928 - val_acc: 0.8714\n",
            "Epoch 42/100\n",
            "20000/20000 [==============================] - 18s 916us/step - loss: 0.0819 - acc: 0.9725 - val_loss: 0.2776 - val_acc: 0.8918\n",
            "Epoch 43/100\n",
            "20000/20000 [==============================] - 18s 916us/step - loss: 0.0792 - acc: 0.9729 - val_loss: 0.3346 - val_acc: 0.8782\n",
            "Epoch 44/100\n",
            "20000/20000 [==============================] - 18s 915us/step - loss: 0.0850 - acc: 0.9707 - val_loss: 0.3435 - val_acc: 0.8812\n",
            "Epoch 45/100\n",
            "20000/20000 [==============================] - 18s 916us/step - loss: 0.0772 - acc: 0.9727 - val_loss: 0.2913 - val_acc: 0.8852\n",
            "Epoch 46/100\n",
            "20000/20000 [==============================] - 18s 919us/step - loss: 0.0794 - acc: 0.9719 - val_loss: 0.2996 - val_acc: 0.8886\n",
            "Epoch 47/100\n",
            "20000/20000 [==============================] - 18s 919us/step - loss: 0.0748 - acc: 0.9742 - val_loss: 0.3155 - val_acc: 0.8902\n",
            "Epoch 48/100\n",
            "20000/20000 [==============================] - 18s 917us/step - loss: 0.0715 - acc: 0.9764 - val_loss: 0.3054 - val_acc: 0.8920\n",
            "Epoch 49/100\n",
            "20000/20000 [==============================] - 18s 920us/step - loss: 0.0730 - acc: 0.9744 - val_loss: 0.3043 - val_acc: 0.8908\n",
            "Epoch 50/100\n",
            "20000/20000 [==============================] - 18s 920us/step - loss: 0.0721 - acc: 0.9753 - val_loss: 0.2899 - val_acc: 0.8862\n",
            "Epoch 51/100\n",
            "20000/20000 [==============================] - 18s 922us/step - loss: 0.0720 - acc: 0.9753 - val_loss: 0.2963 - val_acc: 0.8912\n",
            "Epoch 52/100\n",
            "20000/20000 [==============================] - 18s 921us/step - loss: 0.0692 - acc: 0.9770 - val_loss: 0.2917 - val_acc: 0.8888\n",
            "Epoch 53/100\n",
            "20000/20000 [==============================] - 18s 922us/step - loss: 0.0705 - acc: 0.9751 - val_loss: 0.3043 - val_acc: 0.8752\n",
            "Epoch 54/100\n",
            "20000/20000 [==============================] - 18s 917us/step - loss: 0.0684 - acc: 0.9754 - val_loss: 0.2950 - val_acc: 0.8918\n",
            "Epoch 55/100\n",
            "20000/20000 [==============================] - 18s 918us/step - loss: 0.0672 - acc: 0.9765 - val_loss: 0.3044 - val_acc: 0.8850\n",
            "Epoch 56/100\n",
            "20000/20000 [==============================] - 18s 918us/step - loss: 0.0682 - acc: 0.9765 - val_loss: 0.2935 - val_acc: 0.8834\n",
            "Epoch 57/100\n",
            "20000/20000 [==============================] - 18s 918us/step - loss: 0.0684 - acc: 0.9763 - val_loss: 0.3043 - val_acc: 0.8810\n",
            "Epoch 58/100\n",
            "20000/20000 [==============================] - 18s 919us/step - loss: 0.0672 - acc: 0.9775 - val_loss: 0.2903 - val_acc: 0.8878\n",
            "Epoch 59/100\n",
            "20000/20000 [==============================] - 18s 914us/step - loss: 0.0645 - acc: 0.9782 - val_loss: 0.3177 - val_acc: 0.8848\n",
            "Epoch 60/100\n",
            "20000/20000 [==============================] - 18s 915us/step - loss: 0.0614 - acc: 0.9790 - val_loss: 0.3122 - val_acc: 0.8870\n",
            "Epoch 61/100\n",
            "20000/20000 [==============================] - 18s 912us/step - loss: 0.0616 - acc: 0.9793 - val_loss: 0.3301 - val_acc: 0.8694\n",
            "Epoch 62/100\n",
            "20000/20000 [==============================] - 18s 915us/step - loss: 0.0586 - acc: 0.9797 - val_loss: 0.3463 - val_acc: 0.8874\n",
            "Epoch 63/100\n",
            "20000/20000 [==============================] - 18s 916us/step - loss: 0.0624 - acc: 0.9792 - val_loss: 0.3204 - val_acc: 0.8772\n",
            "Epoch 64/100\n",
            "20000/20000 [==============================] - 18s 918us/step - loss: 0.0661 - acc: 0.9782 - val_loss: 0.3130 - val_acc: 0.8886\n",
            "Epoch 65/100\n",
            "20000/20000 [==============================] - 18s 915us/step - loss: 0.0621 - acc: 0.9784 - val_loss: 0.3488 - val_acc: 0.8788\n",
            "Epoch 66/100\n",
            "20000/20000 [==============================] - 18s 915us/step - loss: 0.0588 - acc: 0.9803 - val_loss: 0.3175 - val_acc: 0.8778\n",
            "Epoch 67/100\n",
            "20000/20000 [==============================] - 18s 912us/step - loss: 0.0596 - acc: 0.9806 - val_loss: 0.3437 - val_acc: 0.8870\n",
            "Epoch 68/100\n",
            "20000/20000 [==============================] - 18s 913us/step - loss: 0.0619 - acc: 0.9797 - val_loss: 0.3389 - val_acc: 0.8676\n",
            "Epoch 69/100\n",
            "20000/20000 [==============================] - 18s 913us/step - loss: 0.0589 - acc: 0.9803 - val_loss: 0.3177 - val_acc: 0.8854\n",
            "Epoch 70/100\n",
            "20000/20000 [==============================] - 18s 911us/step - loss: 0.0577 - acc: 0.9805 - val_loss: 0.3269 - val_acc: 0.8828\n",
            "Epoch 71/100\n",
            "20000/20000 [==============================] - 18s 913us/step - loss: 0.0625 - acc: 0.9790 - val_loss: 0.3216 - val_acc: 0.8832\n",
            "Epoch 72/100\n",
            "20000/20000 [==============================] - 18s 911us/step - loss: 0.0559 - acc: 0.9806 - val_loss: 0.3309 - val_acc: 0.8788\n",
            "Epoch 73/100\n",
            "20000/20000 [==============================] - 18s 912us/step - loss: 0.0582 - acc: 0.9799 - val_loss: 0.4906 - val_acc: 0.8796\n",
            "Epoch 74/100\n",
            "20000/20000 [==============================] - 18s 912us/step - loss: 0.0570 - acc: 0.9794 - val_loss: 0.3455 - val_acc: 0.8904\n",
            "Epoch 75/100\n",
            "20000/20000 [==============================] - 18s 913us/step - loss: 0.0582 - acc: 0.9800 - val_loss: 0.3349 - val_acc: 0.8914\n",
            "Epoch 76/100\n",
            "20000/20000 [==============================] - 18s 915us/step - loss: 0.0570 - acc: 0.9814 - val_loss: 0.3462 - val_acc: 0.8848\n",
            "Epoch 77/100\n",
            "20000/20000 [==============================] - 18s 913us/step - loss: 0.0558 - acc: 0.9806 - val_loss: 0.3890 - val_acc: 0.8834\n",
            "Epoch 78/100\n",
            "20000/20000 [==============================] - 18s 914us/step - loss: 0.0536 - acc: 0.9832 - val_loss: 0.4516 - val_acc: 0.8926\n",
            "Epoch 79/100\n",
            "20000/20000 [==============================] - 18s 914us/step - loss: 0.0517 - acc: 0.9820 - val_loss: 0.3812 - val_acc: 0.8868\n",
            "Epoch 80/100\n",
            "20000/20000 [==============================] - 18s 918us/step - loss: 0.0572 - acc: 0.9809 - val_loss: 0.3154 - val_acc: 0.8896\n",
            "Epoch 81/100\n",
            "20000/20000 [==============================] - 18s 913us/step - loss: 0.0541 - acc: 0.9818 - val_loss: 0.4037 - val_acc: 0.8888\n",
            "Epoch 82/100\n",
            "20000/20000 [==============================] - 18s 914us/step - loss: 0.0548 - acc: 0.9818 - val_loss: 0.3304 - val_acc: 0.8908\n",
            "Epoch 83/100\n",
            "20000/20000 [==============================] - 18s 913us/step - loss: 0.0498 - acc: 0.9833 - val_loss: 0.3352 - val_acc: 0.8850\n",
            "Epoch 84/100\n",
            "20000/20000 [==============================] - 18s 914us/step - loss: 0.0483 - acc: 0.9841 - val_loss: 0.6325 - val_acc: 0.8738\n",
            "Epoch 85/100\n",
            "20000/20000 [==============================] - 18s 914us/step - loss: 0.0493 - acc: 0.9840 - val_loss: 0.3506 - val_acc: 0.8930\n",
            "Epoch 86/100\n",
            "20000/20000 [==============================] - 18s 920us/step - loss: 0.0513 - acc: 0.9840 - val_loss: 0.3717 - val_acc: 0.8884\n",
            "Epoch 87/100\n",
            "20000/20000 [==============================] - 18s 914us/step - loss: 0.0493 - acc: 0.9840 - val_loss: 0.3789 - val_acc: 0.8794\n",
            "Epoch 88/100\n",
            "20000/20000 [==============================] - 18s 913us/step - loss: 0.0525 - acc: 0.9830 - val_loss: 0.3918 - val_acc: 0.8794\n",
            "Epoch 89/100\n",
            "20000/20000 [==============================] - 18s 916us/step - loss: 0.0462 - acc: 0.9851 - val_loss: 0.3505 - val_acc: 0.8880\n",
            "Epoch 90/100\n",
            "20000/20000 [==============================] - 18s 914us/step - loss: 0.0530 - acc: 0.9824 - val_loss: 0.3660 - val_acc: 0.8796\n",
            "Epoch 91/100\n",
            "20000/20000 [==============================] - 18s 917us/step - loss: 0.0449 - acc: 0.9855 - val_loss: 0.3461 - val_acc: 0.8878\n",
            "Epoch 92/100\n",
            "20000/20000 [==============================] - 18s 916us/step - loss: 0.0464 - acc: 0.9846 - val_loss: 0.3558 - val_acc: 0.8716\n",
            "Epoch 93/100\n",
            "20000/20000 [==============================] - 18s 917us/step - loss: 0.0489 - acc: 0.9841 - val_loss: 0.3570 - val_acc: 0.8910\n",
            "Epoch 94/100\n",
            "20000/20000 [==============================] - 18s 913us/step - loss: 0.0471 - acc: 0.9843 - val_loss: 0.4169 - val_acc: 0.8902\n",
            "Epoch 95/100\n",
            "20000/20000 [==============================] - 18s 915us/step - loss: 0.0464 - acc: 0.9847 - val_loss: 0.3624 - val_acc: 0.8908\n",
            "Epoch 96/100\n",
            "20000/20000 [==============================] - 18s 915us/step - loss: 0.0454 - acc: 0.9853 - val_loss: 0.4012 - val_acc: 0.8850\n",
            "Epoch 97/100\n",
            "20000/20000 [==============================] - 18s 918us/step - loss: 0.0552 - acc: 0.9826 - val_loss: 0.3303 - val_acc: 0.8862\n",
            "Epoch 98/100\n",
            "20000/20000 [==============================] - 18s 917us/step - loss: 0.0487 - acc: 0.9835 - val_loss: 0.3720 - val_acc: 0.8886\n",
            "Epoch 99/100\n",
            "20000/20000 [==============================] - 18s 918us/step - loss: 0.0485 - acc: 0.9834 - val_loss: 0.3214 - val_acc: 0.8882\n",
            "Epoch 100/100\n",
            "20000/20000 [==============================] - 18s 918us/step - loss: 0.0476 - acc: 0.9840 - val_loss: 0.3352 - val_acc: 0.8940\n"
          ],
          "name": "stdout"
        }
      ]
    },
    {
      "metadata": {
        "id": "dCGE90Y11Pxx",
        "colab_type": "code",
        "colab": {
          "base_uri": "https://localhost:8080/",
          "height": 347
        },
        "outputId": "989ba592-0f7e-4b9b-be3c-965c52274769"
      },
      "cell_type": "code",
      "source": [
        "plt.plot(train_history.history['acc'])\n",
        "plt.plot(train_history.history['val_acc'])\n",
        "plt.legend(['training', 'validation'])\n",
        "plt.show()"
      ],
      "execution_count": 11,
      "outputs": [
        {
          "output_type": "display_data",
          "data": {
            "image/png": "[encoded data removed]",
            "text/plain": [
              "<Figure size 576x396 with 1 Axes>"
            ]
          },
          "metadata": {
            "tags": []
          }
        }
      ]
    },
    {
      "metadata": {
        "id": "rmU_Yxjm1btl",
        "colab_type": "code",
        "colab": {
          "base_uri": "https://localhost:8080/",
          "height": 51
        },
        "outputId": "cad2f391-23a4-42f0-aa94-74d84386fae6"
      },
      "cell_type": "code",
      "source": [
        "results = model.evaluate(X_test, y_test)\n",
        "print('Test accuracy: ', results[1])"
      ],
      "execution_count": 12,
      "outputs": [
        {
          "output_type": "stream",
          "text": [
            "25000/25000 [==============================] - 7s 276us/step\n",
            "Test accuracy:  0.88856\n"
          ],
          "name": "stdout"
        }
      ]
    },
    {
      "metadata": {
        "id": "mzDJcYlT1ef8",
        "colab_type": "code",
        "colab": {}
      },
      "cell_type": "code",
      "source": [
        ""
      ],
      "execution_count": 0,
      "outputs": []
    }
  ]
}